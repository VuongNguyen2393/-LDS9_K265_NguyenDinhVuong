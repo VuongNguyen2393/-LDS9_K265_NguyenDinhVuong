{
 "cells": [
  {
   "cell_type": "code",
   "execution_count": 1,
   "metadata": {},
   "outputs": [],
   "source": [
    "import findspark\n",
    "findspark.init()"
   ]
  },
  {
   "cell_type": "code",
   "execution_count": 2,
   "metadata": {},
   "outputs": [],
   "source": [
    "from pyspark import SparkContext\n",
    "from pyspark.sql import SparkSession"
   ]
  },
  {
   "cell_type": "code",
   "execution_count": 3,
   "metadata": {},
   "outputs": [],
   "source": [
    "sc = SparkContext(master='local',appName='Ex1')\n",
    "spark = SparkSession(sc)"
   ]
  },
  {
   "cell_type": "markdown",
   "metadata": {},
   "source": [
    "### 1. Đọc dữ liệu => df"
   ]
  },
  {
   "cell_type": "code",
   "execution_count": 13,
   "metadata": {},
   "outputs": [],
   "source": [
    "df = spark.read.csv('./DallasCouncilVotes.csv',inferSchema=True,header=True)\n",
    "df = df.select('DATE','TITLE','VOTER NAME')"
   ]
  },
  {
   "cell_type": "markdown",
   "metadata": {},
   "source": [
    "### 2.Dữ liệu bao nhiêu dòng, in schema. Hiển thị 5 dòng đầu tiên"
   ]
  },
  {
   "cell_type": "code",
   "execution_count": 14,
   "metadata": {},
   "outputs": [
    {
     "data": {
      "text/plain": [
       "44625"
      ]
     },
     "execution_count": 14,
     "metadata": {},
     "output_type": "execute_result"
    }
   ],
   "source": [
    "df.count()"
   ]
  },
  {
   "cell_type": "code",
   "execution_count": 15,
   "metadata": {},
   "outputs": [
    {
     "name": "stdout",
     "output_type": "stream",
     "text": [
      "root\n",
      " |-- DATE: string (nullable = true)\n",
      " |-- TITLE: string (nullable = true)\n",
      " |-- VOTER NAME: string (nullable = true)\n",
      "\n"
     ]
    }
   ],
   "source": [
    "df.printSchema()"
   ]
  },
  {
   "cell_type": "code",
   "execution_count": 16,
   "metadata": {},
   "outputs": [
    {
     "name": "stdout",
     "output_type": "stream",
     "text": [
      "+----------+-------------+-------------------+\n",
      "|      DATE|        TITLE|         VOTER NAME|\n",
      "+----------+-------------+-------------------+\n",
      "|02/08/2017|Councilmember|  Jennifer S. Gates|\n",
      "|02/08/2017|Councilmember| Philip T. Kingston|\n",
      "|02/08/2017|        Mayor|Michael S. Rawlings|\n",
      "|02/08/2017|Councilmember|       Adam Medrano|\n",
      "|02/08/2017|Councilmember|   Casey Thomas, II|\n",
      "+----------+-------------+-------------------+\n",
      "only showing top 5 rows\n",
      "\n"
     ]
    }
   ],
   "source": [
    "df.show(5)"
   ]
  },
  {
   "cell_type": "markdown",
   "metadata": {},
   "source": [
    "### 3. Kiểm tra dữ liệu Nan, Null. Nếu dòng nào 'VOTER_NAME' có dữ liệu null thì xóa hết các dòng đó"
   ]
  },
  {
   "cell_type": "code",
   "execution_count": 20,
   "metadata": {},
   "outputs": [],
   "source": [
    "from pyspark.sql.functions import col, udf, isnan, when, count, isnull, "
   ]
  },
  {
   "cell_type": "code",
   "execution_count": 62,
   "metadata": {},
   "outputs": [
    {
     "data": {
      "text/html": [
       "<div>\n",
       "<style scoped>\n",
       "    .dataframe tbody tr th:only-of-type {\n",
       "        vertical-align: middle;\n",
       "    }\n",
       "\n",
       "    .dataframe tbody tr th {\n",
       "        vertical-align: top;\n",
       "    }\n",
       "\n",
       "    .dataframe thead th {\n",
       "        text-align: right;\n",
       "    }\n",
       "</style>\n",
       "<table border=\"1\" class=\"dataframe\">\n",
       "  <thead>\n",
       "    <tr style=\"text-align: right;\">\n",
       "      <th></th>\n",
       "      <th>0</th>\n",
       "    </tr>\n",
       "  </thead>\n",
       "  <tbody>\n",
       "    <tr>\n",
       "      <th>DATE</th>\n",
       "      <td>0</td>\n",
       "    </tr>\n",
       "    <tr>\n",
       "      <th>TITLE</th>\n",
       "      <td>0</td>\n",
       "    </tr>\n",
       "    <tr>\n",
       "      <th>VOTER NAME</th>\n",
       "      <td>0</td>\n",
       "    </tr>\n",
       "  </tbody>\n",
       "</table>\n",
       "</div>"
      ],
      "text/plain": [
       "            0\n",
       "DATE        0\n",
       "TITLE       0\n",
       "VOTER NAME  0"
      ]
     },
     "execution_count": 62,
     "metadata": {},
     "output_type": "execute_result"
    }
   ],
   "source": [
    "df.select([count(when(isnan(c),c)).alias(c) for c in df.columns]).toPandas().T"
   ]
  },
  {
   "cell_type": "code",
   "execution_count": 61,
   "metadata": {},
   "outputs": [
    {
     "data": {
      "text/html": [
       "<div>\n",
       "<style scoped>\n",
       "    .dataframe tbody tr th:only-of-type {\n",
       "        vertical-align: middle;\n",
       "    }\n",
       "\n",
       "    .dataframe tbody tr th {\n",
       "        vertical-align: top;\n",
       "    }\n",
       "\n",
       "    .dataframe thead th {\n",
       "        text-align: right;\n",
       "    }\n",
       "</style>\n",
       "<table border=\"1\" class=\"dataframe\">\n",
       "  <thead>\n",
       "    <tr style=\"text-align: right;\">\n",
       "      <th></th>\n",
       "      <th>0</th>\n",
       "    </tr>\n",
       "  </thead>\n",
       "  <tbody>\n",
       "    <tr>\n",
       "      <th>DATE</th>\n",
       "      <td>0</td>\n",
       "    </tr>\n",
       "    <tr>\n",
       "      <th>TITLE</th>\n",
       "      <td>195</td>\n",
       "    </tr>\n",
       "    <tr>\n",
       "      <th>VOTER NAME</th>\n",
       "      <td>503</td>\n",
       "    </tr>\n",
       "  </tbody>\n",
       "</table>\n",
       "</div>"
      ],
      "text/plain": [
       "              0\n",
       "DATE          0\n",
       "TITLE       195\n",
       "VOTER NAME  503"
      ]
     },
     "execution_count": 61,
     "metadata": {},
     "output_type": "execute_result"
    }
   ],
   "source": [
    "df.select([count(when(isnull(c),c)).alias(c) for c in df.columns]).toPandas().T"
   ]
  },
  {
   "cell_type": "code",
   "execution_count": 67,
   "metadata": {},
   "outputs": [
    {
     "data": {
      "text/plain": [
       "44122"
      ]
     },
     "execution_count": 67,
     "metadata": {},
     "output_type": "execute_result"
    }
   ],
   "source": [
    "df = df.dropna(subset='VOTER NAME')\n",
    "df.count()"
   ]
  },
  {
   "cell_type": "markdown",
   "metadata": {},
   "source": [
    "### 4. Kiểm tra dữ liệu trùng. Xóa dữ liệu trùng"
   ]
  },
  {
   "cell_type": "code",
   "execution_count": 73,
   "metadata": {},
   "outputs": [
    {
     "data": {
      "text/plain": [
       "44122"
      ]
     },
     "execution_count": 73,
     "metadata": {},
     "output_type": "execute_result"
    }
   ],
   "source": [
    "#trước khi drop\n",
    "df.count()"
   ]
  },
  {
   "cell_type": "code",
   "execution_count": 74,
   "metadata": {},
   "outputs": [
    {
     "data": {
      "text/plain": [
       "1273"
      ]
     },
     "execution_count": 74,
     "metadata": {},
     "output_type": "execute_result"
    }
   ],
   "source": [
    "#Các dữ liệu duy nhất\n",
    "df.distinct().count()"
   ]
  },
  {
   "cell_type": "code",
   "execution_count": 75,
   "metadata": {},
   "outputs": [],
   "source": [
    "df = df.drop_duplicates()"
   ]
  },
  {
   "cell_type": "code",
   "execution_count": 76,
   "metadata": {},
   "outputs": [
    {
     "data": {
      "text/plain": [
       "1273"
      ]
     },
     "execution_count": 76,
     "metadata": {},
     "output_type": "execute_result"
    }
   ],
   "source": [
    "df.count()"
   ]
  },
  {
   "cell_type": "markdown",
   "metadata": {},
   "source": [
    "### 5. Tìm các VOTER_NAME duy nhất và hiển thị 10 thông tin đầu tiên"
   ]
  },
  {
   "cell_type": "code",
   "execution_count": 90,
   "metadata": {},
   "outputs": [
    {
     "name": "stdout",
     "output_type": "stream",
     "text": [
      "+--------------------+\n",
      "|          VOTER NAME|\n",
      "+--------------------+\n",
      "|      Tennell Atkins|\n",
      "|  the  final   20...|\n",
      "|        Scott Griggs|\n",
      "|       Scott  Griggs|\n",
      "|       Sandy Greyson|\n",
      "+--------------------+\n",
      "only showing top 5 rows\n",
      "\n"
     ]
    }
   ],
   "source": [
    "df.select('VOTER NAME').distinct().show(5)"
   ]
  },
  {
   "cell_type": "markdown",
   "metadata": {},
   "source": [
    "### 6. Lọc dữ liệu VOTER NAME có chiều dài từ 1 - 20"
   ]
  },
  {
   "cell_type": "code",
   "execution_count": 100,
   "metadata": {},
   "outputs": [],
   "source": [
    "from pyspark.sql.functions import length"
   ]
  },
  {
   "cell_type": "code",
   "execution_count": 103,
   "metadata": {},
   "outputs": [
    {
     "name": "stdout",
     "output_type": "stream",
     "text": [
      "+----------+--------------------+----------------+\n",
      "|      DATE|               TITLE|      VOTER NAME|\n",
      "+----------+--------------------+----------------+\n",
      "|04/11/2018|Deputy Mayor Pro Tem|    Adam Medrano|\n",
      "|02/14/2018|       Councilmember| Lee M. Kleinman|\n",
      "|04/25/2018|       Councilmember|  Tennell Atkins|\n",
      "|08/29/2018|       Councilmember|    Kevin Felder|\n",
      "|08/16/2017|       Councilmember|Casey Thomas, II|\n",
      "+----------+--------------------+----------------+\n",
      "only showing top 5 rows\n",
      "\n"
     ]
    }
   ],
   "source": [
    "df.filter((length('VOTER NAME') < 20)&(length('VOTER NAME')>1)).show(5)"
   ]
  },
  {
   "cell_type": "markdown",
   "metadata": {},
   "source": [
    "### 7. Loại bỏ các dữ liệu trong \"VOTER NAME\" chứ dấu '_'"
   ]
  },
  {
   "cell_type": "code",
   "execution_count": 97,
   "metadata": {},
   "outputs": [
    {
     "name": "stdout",
     "output_type": "stream",
     "text": [
      "+----------+\n",
      "|VOTER NAME|\n",
      "+----------+\n",
      "|011018__42|\n",
      "+----------+\n",
      "\n"
     ]
    }
   ],
   "source": [
    "df.select('VOTER NAME').filter(col('VOTER NAME').contains('_')).show()"
   ]
  },
  {
   "cell_type": "code",
   "execution_count": 98,
   "metadata": {},
   "outputs": [],
   "source": [
    "df = df.filter(~col('VOTER NAME').contains('_'))"
   ]
  },
  {
   "cell_type": "markdown",
   "metadata": {},
   "source": [
    "### 8. Tạo cột splits chứa thông tin cắt theo khoảng trắng 'VOTER NAME'"
   ]
  },
  {
   "cell_type": "code",
   "execution_count": 119,
   "metadata": {},
   "outputs": [],
   "source": [
    "from pyspark.sql.functions import split,size"
   ]
  },
  {
   "cell_type": "code",
   "execution_count": 105,
   "metadata": {},
   "outputs": [],
   "source": [
    "splits = split(df['VOTER NAME'],' ')"
   ]
  },
  {
   "cell_type": "code",
   "execution_count": 109,
   "metadata": {},
   "outputs": [],
   "source": [
    "df = df.withColumn('splits',splits)"
   ]
  },
  {
   "cell_type": "code",
   "execution_count": 110,
   "metadata": {},
   "outputs": [
    {
     "name": "stdout",
     "output_type": "stream",
     "text": [
      "+--------------------+\n",
      "|              splits|\n",
      "+--------------------+\n",
      "|     [Adam, Medrano]|\n",
      "| [Lee, M., Kleinman]|\n",
      "|   [Tennell, Atkins]|\n",
      "|     [Kevin, Felder]|\n",
      "|[Casey, Thomas,, II]|\n",
      "|[Jennifer, S., , ...|\n",
      "|  [Sandy, , Greyson]|\n",
      "|     [Omar, Narvaez]|\n",
      "|[Michael, S., Raw...|\n",
      "|[, , the, , final...|\n",
      "|  [Sandy, , Greyson]|\n",
      "|    [Sandy, Greyson]|\n",
      "|[Monica, R., Alonzo]|\n",
      "|[Tiffinni, A., Yo...|\n",
      "|[Rickey, D., , Ca...|\n",
      "|   [Tennell, Atkins]|\n",
      "|  [Sandy, , Greyson]|\n",
      "|     [Adam, Medrano]|\n",
      "|[Michael, S., Raw...|\n",
      "|[Tiffinni, A., Yo...|\n",
      "+--------------------+\n",
      "only showing top 20 rows\n",
      "\n"
     ]
    }
   ],
   "source": [
    "df[['splits']].show()"
   ]
  },
  {
   "cell_type": "markdown",
   "metadata": {},
   "source": [
    "### 9. Tạo cột first_name lấy dữ liệu từ phần tử đầu tiên trong cột splits"
   ]
  },
  {
   "cell_type": "code",
   "execution_count": 114,
   "metadata": {},
   "outputs": [
    {
     "name": "stdout",
     "output_type": "stream",
     "text": [
      "+--------------------+----------+\n",
      "|          VOTER NAME|first_name|\n",
      "+--------------------+----------+\n",
      "|        Adam Medrano|      Adam|\n",
      "|     Lee M. Kleinman|       Lee|\n",
      "|      Tennell Atkins|   Tennell|\n",
      "|        Kevin Felder|     Kevin|\n",
      "|    Casey Thomas, II|     Casey|\n",
      "|  Jennifer S.  Gates|  Jennifer|\n",
      "|      Sandy  Greyson|     Sandy|\n",
      "|        Omar Narvaez|      Omar|\n",
      "| Michael S. Rawlings|   Michael|\n",
      "|  the  final   20...|          |\n",
      "|      Sandy  Greyson|     Sandy|\n",
      "|       Sandy Greyson|     Sandy|\n",
      "|    Monica R. Alonzo|    Monica|\n",
      "|   Tiffinni A. Young|  Tiffinni|\n",
      "| Rickey D.  Callahan|    Rickey|\n",
      "|      Tennell Atkins|   Tennell|\n",
      "|      Sandy  Greyson|     Sandy|\n",
      "|        Adam Medrano|      Adam|\n",
      "| Michael S. Rawlings|   Michael|\n",
      "|   Tiffinni A. Young|  Tiffinni|\n",
      "+--------------------+----------+\n",
      "only showing top 20 rows\n",
      "\n"
     ]
    }
   ],
   "source": [
    "df = df.withColumn('first_name',splits[0])\n",
    "df[['VOTER NAME','first_name']].show()"
   ]
  },
  {
   "cell_type": "markdown",
   "metadata": {},
   "source": [
    "### 10. Tạo cột last_name lấy dữ liệu từ phần tử cuối trong cột splits"
   ]
  },
  {
   "cell_type": "code",
   "execution_count": 120,
   "metadata": {},
   "outputs": [
    {
     "name": "stdout",
     "output_type": "stream",
     "text": [
      "+--------------------+---------+\n",
      "|          VOTER NAME|last_name|\n",
      "+--------------------+---------+\n",
      "|        Adam Medrano|  Medrano|\n",
      "|     Lee M. Kleinman| Kleinman|\n",
      "|      Tennell Atkins|   Atkins|\n",
      "|        Kevin Felder|   Felder|\n",
      "|    Casey Thomas, II|       II|\n",
      "|  Jennifer S.  Gates|    Gates|\n",
      "|      Sandy  Greyson|  Greyson|\n",
      "|        Omar Narvaez|  Narvaez|\n",
      "| Michael S. Rawlings| Rawlings|\n",
      "|  the  final   20...| District|\n",
      "|      Sandy  Greyson|  Greyson|\n",
      "|       Sandy Greyson|  Greyson|\n",
      "|    Monica R. Alonzo|   Alonzo|\n",
      "|   Tiffinni A. Young|    Young|\n",
      "| Rickey D.  Callahan| Callahan|\n",
      "|      Tennell Atkins|   Atkins|\n",
      "|      Sandy  Greyson|  Greyson|\n",
      "|        Adam Medrano|  Medrano|\n",
      "| Michael S. Rawlings| Rawlings|\n",
      "|   Tiffinni A. Young|    Young|\n",
      "+--------------------+---------+\n",
      "only showing top 20 rows\n",
      "\n"
     ]
    }
   ],
   "source": [
    "df = df.withColumn('last_name',df.splits.getItem(size('splits')-1))\n",
    "df[['VOTER NAME','last_name']].show()"
   ]
  },
  {
   "cell_type": "markdown",
   "metadata": {},
   "source": [
    "### 11. tạo cột 'random_val' theo điều kiện: nếu cột TITLE có nội dung Councilmember thì có giá trị rand(), Mayor thì giá trị 2, ngược lại là 0"
   ]
  },
  {
   "cell_type": "code",
   "execution_count": 123,
   "metadata": {},
   "outputs": [],
   "source": [
    "from pyspark.sql.functions import rand,when"
   ]
  },
  {
   "cell_type": "code",
   "execution_count": 128,
   "metadata": {},
   "outputs": [],
   "source": [
    "df = df.withColumn('random_val', when(df.TITLE == 'Councilmember',rand())\n",
    "                                .when(df.TITLE == 'Mayor',2)\n",
    "                                .otherwise(0))"
   ]
  },
  {
   "cell_type": "markdown",
   "metadata": {},
   "source": [
    "### 12. Lọc các dữ liệu có 'random_val' = 0 "
   ]
  },
  {
   "cell_type": "code",
   "execution_count": 129,
   "metadata": {},
   "outputs": [
    {
     "name": "stdout",
     "output_type": "stream",
     "text": [
      "+--------------------+--------------------+--------------------+--------------------+----------+---------+----------+\n",
      "|                DATE|               TITLE|          VOTER NAME|              splits|first_name|last_name|random_val|\n",
      "+--------------------+--------------------+--------------------+--------------------+----------+---------+----------+\n",
      "|          04/11/2018|Deputy Mayor Pro Tem|        Adam Medrano|     [Adam, Medrano]|      Adam|  Medrano|       0.0|\n",
      "|A public hearing ...| authorize an  or...|  the  final   20...|[, , the, , final...|          | District|       0.0|\n",
      "|          04/12/2017|       Mayor Pro Tem|    Monica R. Alonzo|[Monica, R., Alonzo]|    Monica|   Alonzo|       0.0|\n",
      "|          06/28/2017|Deputy Mayor Pro Tem|        Adam Medrano|     [Adam, Medrano]|      Adam|  Medrano|       0.0|\n",
      "|          01/03/2018|Deputy Mayor Pro Tem|        Adam Medrano|     [Adam, Medrano]|      Adam|  Medrano|       0.0|\n",
      "+--------------------+--------------------+--------------------+--------------------+----------+---------+----------+\n",
      "only showing top 5 rows\n",
      "\n"
     ]
    }
   ],
   "source": [
    "df.filter(df.random_val == 0).show(5)"
   ]
  },
  {
   "cell_type": "markdown",
   "metadata": {},
   "source": [
    "### 13. Xây dựng function: getFirstAndMiddle(names) trả về kết quả gồm First và Middle. Khai báo function vừa viết dưới dạng udf đặt tên là udfFirstAndMiddle."
   ]
  },
  {
   "cell_type": "code",
   "execution_count": 146,
   "metadata": {},
   "outputs": [],
   "source": [
    "def getFirstAndMiddle(names):\n",
    "    splits = names.split(' ')\n",
    "    return ' '.join(splits[:-1])"
   ]
  },
  {
   "cell_type": "code",
   "execution_count": 147,
   "metadata": {},
   "outputs": [],
   "source": [
    "from pyspark.sql.types import ArrayType,StringType"
   ]
  },
  {
   "cell_type": "code",
   "execution_count": 148,
   "metadata": {},
   "outputs": [],
   "source": [
    "udfFirstAndMiddle = udf(getFirstAndMiddle,StringType())"
   ]
  },
  {
   "cell_type": "code",
   "execution_count": 153,
   "metadata": {},
   "outputs": [],
   "source": [
    "df = df.withColumn('First and Middle', udfFirstAndMiddle(col('VOTER NAME')))"
   ]
  },
  {
   "cell_type": "markdown",
   "metadata": {},
   "source": [
    "### 15. Xóa các cột first_name và split"
   ]
  },
  {
   "cell_type": "code",
   "execution_count": 155,
   "metadata": {},
   "outputs": [
    {
     "name": "stdout",
     "output_type": "stream",
     "text": [
      "+----------+--------------------+----------------+---------+-------------------+----------------+\n",
      "|      DATE|               TITLE|      VOTER NAME|last_name|         random_val|First and Middle|\n",
      "+----------+--------------------+----------------+---------+-------------------+----------------+\n",
      "|04/11/2018|Deputy Mayor Pro Tem|    Adam Medrano|  Medrano|                0.0|            Adam|\n",
      "|02/14/2018|       Councilmember| Lee M. Kleinman| Kleinman|0.06973589367492794|          Lee M.|\n",
      "|04/25/2018|       Councilmember|  Tennell Atkins|   Atkins| 0.8115915186595951|         Tennell|\n",
      "|08/29/2018|       Councilmember|    Kevin Felder|   Felder| 0.2985840903653585|           Kevin|\n",
      "|08/16/2017|       Councilmember|Casey Thomas, II|       II| 0.9883920966590523|   Casey Thomas,|\n",
      "+----------+--------------------+----------------+---------+-------------------+----------------+\n",
      "only showing top 5 rows\n",
      "\n"
     ]
    }
   ],
   "source": [
    "df = df.drop('first_name','splits')\n",
    "df.show(5)"
   ]
  },
  {
   "cell_type": "markdown",
   "metadata": {},
   "source": [
    "### 16. Thêm cột ROW_ID bằng phương thức: monotonically_increasing_id()"
   ]
  },
  {
   "cell_type": "code",
   "execution_count": 156,
   "metadata": {},
   "outputs": [],
   "source": [
    "from pyspark.sql.functions import monotonically_increasing_id"
   ]
  },
  {
   "cell_type": "code",
   "execution_count": 159,
   "metadata": {},
   "outputs": [],
   "source": [
    "df = df.withColumn('ROW_ID',monotonically_increasing_id())"
   ]
  },
  {
   "cell_type": "markdown",
   "metadata": {},
   "source": [
    "### 17. Show 10 ID cao nhất"
   ]
  },
  {
   "cell_type": "code",
   "execution_count": null,
   "metadata": {},
   "outputs": [],
   "source": [
    "df.orderBy(df.ROW_ID.desc()).show(10)"
   ]
  },
  {
   "cell_type": "code",
   "execution_count": null,
   "metadata": {},
   "outputs": [],
   "source": []
  },
  {
   "cell_type": "code",
   "execution_count": null,
   "metadata": {},
   "outputs": [],
   "source": []
  }
 ],
 "metadata": {
  "kernelspec": {
   "display_name": "Python 3",
   "language": "python",
   "name": "python3"
  },
  "language_info": {
   "codemirror_mode": {
    "name": "ipython",
    "version": 3
   },
   "file_extension": ".py",
   "mimetype": "text/x-python",
   "name": "python",
   "nbconvert_exporter": "python",
   "pygments_lexer": "ipython3",
   "version": "3.8.5"
  }
 },
 "nbformat": 4,
 "nbformat_minor": 4
}
