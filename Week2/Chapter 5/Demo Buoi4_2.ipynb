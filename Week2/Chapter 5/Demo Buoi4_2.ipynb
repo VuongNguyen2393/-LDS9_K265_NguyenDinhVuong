{
 "cells": [
  {
   "cell_type": "code",
   "execution_count": 1,
   "metadata": {},
   "outputs": [],
   "source": [
    "import findspark\n",
    "findspark.init()\n",
    "from pyspark.sql import SparkSession\n",
    "from pyspark import SparkContext"
   ]
  },
  {
   "cell_type": "code",
   "execution_count": 2,
   "metadata": {},
   "outputs": [],
   "source": [
    "sc = SparkContext(master='local',appName='Buoi4')\n",
    "spark = SparkSession(sc)"
   ]
  },
  {
   "cell_type": "code",
   "execution_count": 3,
   "metadata": {},
   "outputs": [
    {
     "name": "stdout",
     "output_type": "stream",
     "text": [
      "+-------------------+----------+-----------------+---------------+-----+-----------------+---------------+---------+------------+\n",
      "|STREETNUMBERNUMERIC|FIREPLACES|LOTSIZEDIMENSIONS|       LISTTYPE|ACRES|ASSUMABLEMORTGAGE|SalesClosePrice|ListPrice|DAYSONMARKET|\n",
      "+-------------------+----------+-----------------+---------------+-----+-----------------+---------------+---------+------------+\n",
      "|              11511|         0|          279X200|Exclusive Right| 1.28|             null|         143000|   139900|          10|\n",
      "|              11200|         0|          100x140|Exclusive Right| 0.32|             null|         190000|   210000|           4|\n",
      "|               8583|         0|          120x296|Exclusive Right|0.822|    Not Assumable|         225000|   225000|          28|\n",
      "+-------------------+----------+-----------------+---------------+-----+-----------------+---------------+---------+------------+\n",
      "only showing top 3 rows\n",
      "\n"
     ]
    }
   ],
   "source": [
    "from pyspark import SparkContext\n",
    "from pyspark.conf import SparkConf\n",
    "from pyspark.sql import SparkSession\n",
    "import matplotlib.pyplot as plt\n",
    "import seaborn as sns\n",
    "from pyspark.sql.functions import mean, stddev, col, log\n",
    "from pyspark.sql.functions import to_date, dayofweek, to_timestamp\n",
    "from pyspark.sql import types \n",
    "from pyspark.sql.functions import col, udf\n",
    "from datetime import datetime\n",
    "from pyspark.sql.types import DateType\n",
    "from pyspark.sql.functions import year, month\n",
    "from pyspark.sql.functions import dayofmonth, weekofyear\n",
    "from pyspark.sql.functions import split, explode\n",
    "from pyspark.sql.functions import coalesce, first, lit\n",
    "from pyspark.ml.feature import Binarizer\n",
    "from pyspark.ml.feature import Bucketizer\n",
    "from pyspark.ml.feature import OneHotEncoder, StringIndexer\n",
    "from pyspark.sql.functions import regexp_extract, col\n",
    "\n",
    "df = spark.read.csv(\"2017_StPaul_MN_Real_Estate.csv\", header=True, inferSchema=True)\n",
    "\n",
    "df_sub = df.select('STREETNUMBERNUMERIC', 'FIREPLACES', \n",
    "                   'LOTSIZEDIMENSIONS', 'LISTTYPE', 'ACRES', \n",
    "                   'ASSUMABLEMORTGAGE', 'SalesClosePrice', 'ListPrice',\n",
    "                   'DAYSONMARKET')\n",
    "df_sub.show(3)"
   ]
  },
  {
   "cell_type": "code",
   "execution_count": 4,
   "metadata": {},
   "outputs": [
    {
     "data": {
      "text/plain": [
       "['No',\n",
       " 'MLSID',\n",
       " 'StreetNumberNumeric',\n",
       " 'streetaddress',\n",
       " 'STREETNAME',\n",
       " 'PostalCode',\n",
       " 'StateOrProvince',\n",
       " 'City',\n",
       " 'SalesClosePrice',\n",
       " 'LISTDATE',\n",
       " 'LISTPRICE',\n",
       " 'LISTTYPE',\n",
       " 'OriginalListPrice',\n",
       " 'PricePerTSFT',\n",
       " 'FOUNDATIONSIZE',\n",
       " 'FENCE',\n",
       " 'MapLetter',\n",
       " 'LotSizeDimensions',\n",
       " 'SchoolDistrictNumber',\n",
       " 'DAYSONMARKET',\n",
       " 'offmarketdate',\n",
       " 'Fireplaces',\n",
       " 'RoomArea4',\n",
       " 'roomtype',\n",
       " 'ROOF',\n",
       " 'RoomFloor4',\n",
       " 'PotentialShortSale',\n",
       " 'PoolDescription',\n",
       " 'PDOM',\n",
       " 'GarageDescription',\n",
       " 'SQFTABOVEGROUND',\n",
       " 'Taxes',\n",
       " 'RoomFloor1',\n",
       " 'RoomArea1',\n",
       " 'TAXWITHASSESSMENTS',\n",
       " 'TAXYEAR',\n",
       " 'LivingArea',\n",
       " 'UNITNUMBER',\n",
       " 'YEARBUILT',\n",
       " 'ZONING',\n",
       " 'STYLE',\n",
       " 'ACRES',\n",
       " 'CoolingDescription',\n",
       " 'APPLIANCES',\n",
       " 'backonmarketdate',\n",
       " 'ROOMFAMILYCHAR',\n",
       " 'RoomArea3',\n",
       " 'EXTERIOR',\n",
       " 'RoomFloor3',\n",
       " 'RoomFloor2',\n",
       " 'RoomArea2',\n",
       " 'DiningRoomDescription',\n",
       " 'BASEMENT',\n",
       " 'BathsFull',\n",
       " 'BathsHalf',\n",
       " 'BATHQUARTER',\n",
       " 'BATHSTHREEQUARTER',\n",
       " 'Class',\n",
       " 'BATHSTOTAL',\n",
       " 'BATHDESC',\n",
       " 'RoomArea5',\n",
       " 'RoomFloor5',\n",
       " 'RoomArea6',\n",
       " 'RoomFloor6',\n",
       " 'RoomArea7',\n",
       " 'RoomFloor7',\n",
       " 'RoomArea8',\n",
       " 'RoomFloor8',\n",
       " 'Bedrooms',\n",
       " 'SQFTBELOWGROUND',\n",
       " 'AssumableMortgage',\n",
       " 'AssociationFee',\n",
       " 'ASSESSMENTPENDING',\n",
       " 'AssessedValuation']"
      ]
     },
     "execution_count": 4,
     "metadata": {},
     "output_type": "execute_result"
    }
   ],
   "source": [
    "df.columns"
   ]
  },
  {
   "cell_type": "code",
   "execution_count": 5,
   "metadata": {},
   "outputs": [],
   "source": [
    "df = df.withColumn('TSQFT',(df['SQFTBELOWGROUND'] + df['SQFTABOVEGROUND']))\n",
    "df = df.withColumn('PRICEPERTSQFT',(df['LISTPRICE']/df['TSQFT']))"
   ]
  },
  {
   "cell_type": "code",
   "execution_count": 6,
   "metadata": {},
   "outputs": [],
   "source": [
    "from pyspark.sql.functions import datediff"
   ]
  },
  {
   "cell_type": "code",
   "execution_count": 7,
   "metadata": {},
   "outputs": [],
   "source": [
    "#df = df.withColumn('DAYSONMARKET',datediff('OFFMARKETDATE','LISTDATE'))"
   ]
  },
  {
   "cell_type": "code",
   "execution_count": 8,
   "metadata": {},
   "outputs": [],
   "source": [
    "acres_to_sqfeet = 43560\n",
    "df = df.withColumn('LOT_SIZE_SQFT',df['ACRES']*acres_to_sqfeet)"
   ]
  },
  {
   "cell_type": "code",
   "execution_count": 9,
   "metadata": {},
   "outputs": [],
   "source": [
    "df = df.withColumn('YARD_SIZE',df['LOT_SIZE_SQFT']-df['FOUNDATIONSIZE'])"
   ]
  },
  {
   "cell_type": "code",
   "execution_count": 10,
   "metadata": {},
   "outputs": [
    {
     "data": {
      "text/plain": [
       "0.22060612588935327"
      ]
     },
     "execution_count": 10,
     "metadata": {},
     "output_type": "execute_result"
    }
   ],
   "source": [
    "df.corr('ACRES','SalesClosePrice')"
   ]
  },
  {
   "cell_type": "code",
   "execution_count": 11,
   "metadata": {},
   "outputs": [
    {
     "data": {
      "text/plain": [
       "0.20714585430854263"
      ]
     },
     "execution_count": 11,
     "metadata": {},
     "output_type": "execute_result"
    }
   ],
   "source": [
    "df.corr('YARD_SIZE','SalesClosePrice')"
   ]
  },
  {
   "cell_type": "code",
   "execution_count": 12,
   "metadata": {},
   "outputs": [
    {
     "data": {
      "text/plain": [
       "0.6152231695664401"
      ]
     },
     "execution_count": 12,
     "metadata": {},
     "output_type": "execute_result"
    }
   ],
   "source": [
    "df.corr('FOUNDATIONSIZE','SalesClosePrice')"
   ]
  },
  {
   "cell_type": "markdown",
   "metadata": {},
   "source": [
    "### Time Feature"
   ]
  },
  {
   "cell_type": "code",
   "execution_count": 13,
   "metadata": {},
   "outputs": [],
   "source": [
    "func = udf(lambda x : datetime.strptime(x,'%m/%d/%Y %H:%M'),DateType())"
   ]
  },
  {
   "cell_type": "code",
   "execution_count": 14,
   "metadata": {},
   "outputs": [],
   "source": [
    "df = df.withColumn('LISTDATE_new',func(col('LISTDATE')))"
   ]
  },
  {
   "cell_type": "code",
   "execution_count": 15,
   "metadata": {},
   "outputs": [],
   "source": [
    "df = df.withColumn('OFFMARKETDATE_new',func(col('OFFMARKETDATE')))\n",
    "df = df.withColumn('DAYSONMARKET_new',datediff('OFFMARKETDATE_new','LISTDATE_new'))"
   ]
  },
  {
   "cell_type": "code",
   "execution_count": 16,
   "metadata": {},
   "outputs": [],
   "source": [
    "df = df.withColumn('List_day_of_week',dayofweek('LISTDATE_new'))"
   ]
  },
  {
   "cell_type": "code",
   "execution_count": 17,
   "metadata": {},
   "outputs": [],
   "source": [
    "sample_df = df.sample(False,0.5,42).toPandas()"
   ]
  },
  {
   "cell_type": "code",
   "execution_count": 19,
   "metadata": {},
   "outputs": [
    {
     "name": "stdout",
     "output_type": "stream",
     "text": [
      "+------------+----------------+\n",
      "|DAYSONMARKET|DAYSONMARKET_new|\n",
      "+------------+----------------+\n",
      "|          10|              15|\n",
      "|           4|               4|\n",
      "|          28|              28|\n",
      "|          19|              19|\n",
      "|          21|              21|\n",
      "|          17|              17|\n",
      "|          32|              32|\n",
      "|           5|               5|\n",
      "|          23|              30|\n",
      "|          73|              79|\n",
      "+------------+----------------+\n",
      "only showing top 10 rows\n",
      "\n"
     ]
    }
   ],
   "source": [
    "df.select('DAYSONMARKET','DAYSONMARKET_new').show(10)"
   ]
  },
  {
   "cell_type": "code",
   "execution_count": 22,
   "metadata": {},
   "outputs": [
    {
     "data": {
      "image/png": "[encoded data removed]",
      "text/plain": [
       "<Figure size 432x288 with 1 Axes>"
      ]
     },
     "metadata": {
      "needs_background": "light"
     },
     "output_type": "display_data"
    }
   ],
   "source": [
    "sns.countplot(data=sample_df,x='List_day_of_week');"
   ]
  },
  {
   "cell_type": "markdown",
   "metadata": {},
   "source": [
    "### Extracting Feature"
   ]
  },
  {
   "cell_type": "code",
   "execution_count": 24,
   "metadata": {},
   "outputs": [],
   "source": [
    "attched_garage = df['GARAGEDESCRIPTION'].contains('Attached Garage')\n",
    "detched_garage = df['GARAGEDESCRIPTION'].contains('Detached Garage')"
   ]
  },
  {
   "cell_type": "code",
   "execution_count": 26,
   "metadata": {},
   "outputs": [],
   "source": [
    "from pyspark.sql.functions import when"
   ]
  },
  {
   "cell_type": "code",
   "execution_count": 27,
   "metadata": {},
   "outputs": [],
   "source": [
    "df = df.withColumn('Check',(when(attched_garage,1)\n",
    "                            .when(detched_garage,0)\n",
    "                            .otherwise(None)))"
   ]
  },
  {
   "cell_type": "code",
   "execution_count": 29,
   "metadata": {},
   "outputs": [
    {
     "name": "stdout",
     "output_type": "stream",
     "text": [
      "+--------------------------------------------------+-----+\n",
      "|                                 GARAGEDESCRIPTION|Check|\n",
      "+--------------------------------------------------+-----+\n",
      "|                                   Attached Garage|    1|\n",
      "|Attached Garage, Driveway - Asphalt, Garage Doo...|    1|\n",
      "|                                   Attached Garage|    1|\n",
      "+--------------------------------------------------+-----+\n",
      "only showing top 3 rows\n",
      "\n"
     ]
    }
   ],
   "source": [
    "df[['GARAGEDESCRIPTION','Check']].show(truncate=50,n=3)"
   ]
  },
  {
   "cell_type": "markdown",
   "metadata": {},
   "source": [
    "### tao thuoc tinh moi Exploding"
   ]
  },
  {
   "cell_type": "code",
   "execution_count": 30,
   "metadata": {},
   "outputs": [],
   "source": [
    "from pyspark.sql.functions import split,explode"
   ]
  },
  {
   "cell_type": "code",
   "execution_count": 31,
   "metadata": {},
   "outputs": [],
   "source": [
    "df = df.withColumn('roof_list',split(col('ROOF'),', '))"
   ]
  },
  {
   "cell_type": "code",
   "execution_count": 33,
   "metadata": {},
   "outputs": [
    {
     "name": "stdout",
     "output_type": "stream",
     "text": [
      "+---+------------------------------------------------+\n",
      "| No|                                       roof_list|\n",
      "+---+------------------------------------------------+\n",
      "|  1|                                            null|\n",
      "|  2|[Asphalt Shingles, Pitched, Age 8 Years or Less]|\n",
      "|  3|                                            null|\n",
      "|  4|[Asphalt Shingles, Pitched, Age 8 Years or Less]|\n",
      "+---+------------------------------------------------+\n",
      "only showing top 4 rows\n",
      "\n"
     ]
    }
   ],
   "source": [
    "df[['No','roof_list']].show(4,truncate=50)"
   ]
  },
  {
   "cell_type": "code",
   "execution_count": 34,
   "metadata": {},
   "outputs": [],
   "source": [
    "roof_df = df.withColumn('ex_roof_list',explode(col('roof_list')))"
   ]
  },
  {
   "cell_type": "code",
   "execution_count": 35,
   "metadata": {},
   "outputs": [
    {
     "name": "stdout",
     "output_type": "stream",
     "text": [
      "+---+-------------------+\n",
      "| No|       ex_roof_list|\n",
      "+---+-------------------+\n",
      "|  2|   Asphalt Shingles|\n",
      "|  2|            Pitched|\n",
      "|  2|Age 8 Years or Less|\n",
      "|  4|   Asphalt Shingles|\n",
      "|  4|            Pitched|\n",
      "+---+-------------------+\n",
      "only showing top 5 rows\n",
      "\n"
     ]
    }
   ],
   "source": [
    "roof_df[['No','ex_roof_list']].show(n=5,truncate=50)"
   ]
  },
  {
   "cell_type": "markdown",
   "metadata": {},
   "source": [
    "### Pivot"
   ]
  },
  {
   "cell_type": "code",
   "execution_count": 36,
   "metadata": {},
   "outputs": [],
   "source": [
    "from pyspark.sql.functions import split,explode,lit,coalesce,first"
   ]
  },
  {
   "cell_type": "code",
   "execution_count": 38,
   "metadata": {},
   "outputs": [
    {
     "name": "stdout",
     "output_type": "stream",
     "text": [
      "+---+-------------------+------------+\n",
      "| No|       ex_roof_list|constant_val|\n",
      "+---+-------------------+------------+\n",
      "|  2|   Asphalt Shingles|        true|\n",
      "|  2|            Pitched|        true|\n",
      "|  2|Age 8 Years or Less|        true|\n",
      "|  4|   Asphalt Shingles|        true|\n",
      "|  4|            Pitched|        true|\n",
      "+---+-------------------+------------+\n",
      "only showing top 5 rows\n",
      "\n"
     ]
    }
   ],
   "source": [
    "roof_df = roof_df.withColumn('constant_val',lit(True))\n",
    "roof_df[['No','ex_roof_list','constant_val']].show(5)"
   ]
  },
  {
   "cell_type": "code",
   "execution_count": 40,
   "metadata": {},
   "outputs": [],
   "source": [
    "roof_piv_df = roof_df.groupBy('No').pivot('ex_roof_list')\\\n",
    ".agg(coalesce(first('constant_val')))"
   ]
  },
  {
   "cell_type": "code",
   "execution_count": 41,
   "metadata": {},
   "outputs": [
    {
     "name": "stdout",
     "output_type": "stream",
     "text": [
      "+---+-------------------+----------------+----------------+----+-----+-----+-------+------+------+-----+----------+----+-------------------+-------------+\n",
      "| No|Age 8 Years or Less|Age Over 8 Years|Asphalt Shingles|Flat|Metal|Other|Pitched|Rubber|Shakes|Slate|Tar/Gravel|Tile|Unspecified Shingle|Wood Shingles|\n",
      "+---+-------------------+----------------+----------------+----+-----+-----+-------+------+------+-----+----------+----+-------------------+-------------+\n",
      "|  2|               true|            null|            true|null| null| null|   true|  null|  null| null|      null|null|               null|         null|\n",
      "|  4|               true|            null|            true|null| null| null|   true|  null|  null| null|      null|null|               null|         null|\n",
      "|  5|               null|            true|            true|null| null| null|   null|  null|  null| null|      null|null|               null|         null|\n",
      "|  6|               true|            null|            true|null| null| null|   null|  null|  null| null|      null|null|               null|         null|\n",
      "|  7|               true|            null|            true|null| null| null|   null|  null|  null| null|      null|null|               null|         null|\n",
      "+---+-------------------+----------------+----------------+----+-----+-----+-------+------+------+-----+----------+----+-------------------+-------------+\n",
      "only showing top 5 rows\n",
      "\n"
     ]
    }
   ],
   "source": [
    "roof_piv_df.orderBy('No').show(5)"
   ]
  },
  {
   "cell_type": "markdown",
   "metadata": {},
   "source": [
    "### Join"
   ]
  },
  {
   "cell_type": "code",
   "execution_count": 42,
   "metadata": {},
   "outputs": [],
   "source": [
    "joined_data = df.join(roof_piv_df,on='No',how='left')"
   ]
  },
  {
   "cell_type": "code",
   "execution_count": 47,
   "metadata": {},
   "outputs": [],
   "source": [
    "zfill_cols = roof_piv_df.columns"
   ]
  },
  {
   "cell_type": "code",
   "execution_count": 52,
   "metadata": {},
   "outputs": [],
   "source": [
    "zfill_df = joined_data.fillna('ahihi',subset=zfill_cols)"
   ]
  },
  {
   "cell_type": "code",
   "execution_count": 53,
   "metadata": {},
   "outputs": [
    {
     "name": "stdout",
     "output_type": "stream",
     "text": [
      "+---+-----+-------------------+--------------------+----------+----------+---------------+----------------+---------------+--------------+---------+---------------+-----------------+------------+--------------+----------+---------+-----------------+--------------------+------------+---------------+----------+---------+--------------------+--------------------+----------+------------------+---------------+----+--------------------+---------------+-----+----------+---------+------------------+-------+----------+----------+---------+------------------+--------------------+-----+------------------+--------------------+----------------+--------------+---------+------------+----------+----------+---------+---------------------+--------------------+---------+---------+-----------+-----------------+-----+----------+--------------------+---------+----------+---------+----------+---------+----------+---------+----------+--------+---------------+-----------------+--------------+-----------------+-----------------+-----+------------------+------------------+------------------+------------+-----------------+----------------+----------------+-----+--------------------+-------------------+----------------+----------------+----+-----+-----+-------+------+------+-----+----------+----+-------------------+-------------+\n",
      "| No|MLSID|StreetNumberNumeric|       streetaddress|STREETNAME|PostalCode|StateOrProvince|            City|SalesClosePrice|      LISTDATE|LISTPRICE|       LISTTYPE|OriginalListPrice|PricePerTSFT|FOUNDATIONSIZE|     FENCE|MapLetter|LotSizeDimensions|SchoolDistrictNumber|DAYSONMARKET|  offmarketdate|Fireplaces|RoomArea4|            roomtype|                ROOF|RoomFloor4|PotentialShortSale|PoolDescription|PDOM|   GarageDescription|SQFTABOVEGROUND|Taxes|RoomFloor1|RoomArea1|TAXWITHASSESSMENTS|TAXYEAR|LivingArea|UNITNUMBER|YEARBUILT|            ZONING|               STYLE|ACRES|CoolingDescription|          APPLIANCES|backonmarketdate|ROOMFAMILYCHAR|RoomArea3|    EXTERIOR|RoomFloor3|RoomFloor2|RoomArea2|DiningRoomDescription|            BASEMENT|BathsFull|BathsHalf|BATHQUARTER|BATHSTHREEQUARTER|Class|BATHSTOTAL|            BATHDESC|RoomArea5|RoomFloor5|RoomArea6|RoomFloor6|RoomArea7|RoomFloor7|RoomArea8|RoomFloor8|Bedrooms|SQFTBELOWGROUND|AssumableMortgage|AssociationFee|ASSESSMENTPENDING|AssessedValuation|TSQFT|     PRICEPERTSQFT|     LOT_SIZE_SQFT|         YARD_SIZE|LISTDATE_new|OFFMARKETDATE_new|DAYSONMARKET_new|List_day_of_week|Check|           roof_list|Age 8 Years or Less|Age Over 8 Years|Asphalt Shingles|Flat|Metal|Other|Pitched|Rubber|Shakes|Slate|Tar/Gravel|Tile|Unspecified Shingle|Wood Shingles|\n",
      "+---+-----+-------------------+--------------------+----------+----------+---------------+----------------+---------------+--------------+---------+---------------+-----------------+------------+--------------+----------+---------+-----------------+--------------------+------------+---------------+----------+---------+--------------------+--------------------+----------+------------------+---------------+----+--------------------+---------------+-----+----------+---------+------------------+-------+----------+----------+---------+------------------+--------------------+-----+------------------+--------------------+----------------+--------------+---------+------------+----------+----------+---------+---------------------+--------------------+---------+---------+-----------+-----------------+-----+----------+--------------------+---------+----------+---------+----------+---------+----------+---------+----------+--------+---------------+-----------------+--------------+-----------------+-----------------+-----+------------------+------------------+------------------+------------+-----------------+----------------+----------------+-----+--------------------+-------------------+----------------+----------------+----+-----+-----+-------+------+------+-----+----------+----+-------------------+-------------+\n",
      "|  1| RMLS|              11511|11511 Stillwater ...|Stillwater|     55042|             MN|LELM - Lake Elmo|         143000|7/15/2017 0:00|   139900|Exclusive Right|           139900|    145.9184|           980|     Other|       C4|          279X200|    834 - Stillwater|          10| 7/30/2017 0:00|         0|  12 x  9|Living Room, Dini...|                null|      Main|                No|           null|  10|     Attached Garage|            980| 1858|      Main|  16 x 13|            1858.0|   2017|       980|      null|     1950|Residential-Single|      (SF) One Story| 1.28|           Central|Range, Dishwasher...|            null|          null|     null|       Vinyl|      null|      Main|   9 x  7|       Eat In Kitchen|                Full|        1|        1|          0|                0|   SF|         2|Main Floor 3/4 Ba...|  13 x 11|      Main|  10 x 10|      Main|     null|      null|     null|      null|       3|              0|             null|             0|          Unknown|              0.0|  980|142.75510204081633|           55756.8|           54776.8|  2017-07-15|       2017-07-30|              15|               7|    1|                null|               null|            null|            null|null| null| null|   null|  null|  null| null|      null|null|               null|         null|\n",
      "|  2| RMLS|              11200|     11200 31st St N|      31st|     55042|             MN|LELM - Lake Elmo|         190000|10/9/2017 0:00|   210000|Exclusive Right|           210000|     85.2783|          1144|      null|       C1|          100x140|    834 - Stillwater|           4|10/13/2017 0:00|         0|    11x11|Living Room, Dini...|Asphalt Shingles,...|      Main|                No|           null|   4|Attached Garage, ...|           1268| 1640|      Main|    22x14|            1640.0|   2017|      2228|      null|     1971|Residential-Single|(SF) Split Entry ...| 0.32|           Central|Range, Microwave,...|            null|   Lower Level|    22x14|       Vinyl|     Lower|      Main|    11x12| Informal Dining R...|Full, Partial Fin...|        1|        0|          0|                2|   SF|         3|Main Floor Full B...|    15x11|      Main|    14x11|      Main|    10x11|      Main|    11x11|     Lower|       4|            960|             null|             0|          Unknown|              0.0| 2228| 94.25493716337522|           13939.2|           12795.2|  2017-10-09|       2017-10-13|               4|               2|    1|[Asphalt Shingles...|               true|            null|            true|null| null| null|   true|  null|  null| null|      null|null|               null|         null|\n",
      "|  3| RMLS|               8583|8583 Stillwater B...|Stillwater|     55042|             MN|LELM - Lake Elmo|         225000|6/26/2017 0:00|   225000|Exclusive Right|           225000|    204.1742|          1102|      None|       E1|          120x296|622 - North St Pa...|          28| 7/24/2017 0:00|         0|    14x12|Living Room, Dini...|                null|      Main|                No|           None|  28|     Attached Garage|           1102| 2390|      Main|    20x13|            2390.0|   2016|      1102|      null|     1949|Residential-Single|      (SF) One Story|0.822|            Window|Range, Microwave,...|            null|          null|     null|Cement Board|      null|      Main|    18x11| Informal Dining Room|Full, Crawl Space...|        1|        0|          0|                0|   SF|         1|Main Floor Full Bath|    12x12|      Main|    12x12|      Main|     null|      null|     null|      null|       2|              0|    Not Assumable|             0|               No|              0.0| 1102| 204.1742286751361|          35806.32|          34704.32|  2017-06-26|       2017-07-24|              28|               2|    1|                null|               null|            null|            null|null| null| null|   null|  null|  null| null|      null|null|               null|         null|\n",
      "|  4| RMLS|               9350|      9350 31st St N|      31st|     55042|             MN|LELM - Lake Elmo|         265000|8/25/2017 0:00|   230000|Exclusive Right|           230000|    162.3775|           959|      None|       A1|          208X208|    834 - Stillwater|          19| 9/13/2017 0:00|         1|    12X16|Living Room, Dini...|Asphalt Shingles,...|      Main|                No|           None|  19|Attached Garage, ...|           1284| 2146|      null|     null|            2146.0|   2017|      1632|      null|     1960|Residential-Single|      (SF) One Story| 0.94|           Central|Range, Washer, Dryer|            null|    Main Level|    25X13|      Stucco|      Main|      Main|    20X11|                 null|Full, Partial Fin...|        1|        1|          0|                0|   SF|         2|Main Floor Full B...|    13X11|      Main|    13X10|      Main|     null|      null|     null|      null|       2|            348|             null|             0|          Unknown|              0.0| 1632| 140.9313725490196|40946.399999999994|39987.399999999994|  2017-08-25|       2017-09-13|              19|               6|    1|[Asphalt Shingles...|               true|            null|            true|null| null| null|   true|  null|  null| null|      null|null|               null|         null|\n",
      "|  5| RMLS|               2915|   2915 Inwood Ave N|    Inwood|     55042|             MN|LELM - Lake Elmo|         249900|9/12/2017 0:00|   239900|Exclusive Right|           239900|    121.7836|          1026|Chain Link|       E1|          116x200|622 - North St Pa...|          21| 10/3/2017 0:00|         1|    12x10|Living Room, Dini...|Asphalt Shingles,...|      Main|                No|           null|  21|Attached Garage, ...|           1026| 2010|      Main|    22x14|            2010.0|   2017|      2052|      null|     1978|Residential-Single|(SF) Split Entry ...|  0.0|           Central|Range, Exhaust Fa...|            null|   Lower Level|    22x18|       Vinyl|     Lower|      Main|    12x10| Breakfast Area, K...|Walkout, Full, Fi...|        1|        0|          0|                1|   SF|         2|Main Floor Full B...|    13x11|      Main|    13x12|      Main|    14x13|     Lower|     null|      null|       3|           1026|             null|             0|               No|              0.0| 2052|116.91033138401559|               0.0|           -1026.0|  2017-09-12|       2017-10-03|              21|               3|    1|[Asphalt Shingles...|               null|            true|            true|null| null| null|   null|  null|  null| null|      null|null|               null|         null|\n",
      "+---+-----+-------------------+--------------------+----------+----------+---------------+----------------+---------------+--------------+---------+---------------+-----------------+------------+--------------+----------+---------+-----------------+--------------------+------------+---------------+----------+---------+--------------------+--------------------+----------+------------------+---------------+----+--------------------+---------------+-----+----------+---------+------------------+-------+----------+----------+---------+------------------+--------------------+-----+------------------+--------------------+----------------+--------------+---------+------------+----------+----------+---------+---------------------+--------------------+---------+---------+-----------+-----------------+-----+----------+--------------------+---------+----------+---------+----------+---------+----------+---------+----------+--------+---------------+-----------------+--------------+-----------------+-----------------+-----+------------------+------------------+------------------+------------+-----------------+----------------+----------------+-----+--------------------+-------------------+----------------+----------------+----+-----+-----+-------+------+------+-----+----------+----+-------------------+-------------+\n",
      "only showing top 5 rows\n",
      "\n"
     ]
    }
   ],
   "source": [
    "zfill_df.show(5)"
   ]
  },
  {
   "cell_type": "markdown",
   "metadata": {},
   "source": [
    "### Binarizing, Bucketing, Encoding"
   ]
  },
  {
   "cell_type": "code",
   "execution_count": 54,
   "metadata": {},
   "outputs": [],
   "source": [
    "from pyspark.ml.feature import Binarizer"
   ]
  },
  {
   "cell_type": "code",
   "execution_count": 56,
   "metadata": {},
   "outputs": [
    {
     "data": {
      "text/plain": [
       "['No',\n",
       " 'MLSID',\n",
       " 'StreetNumberNumeric',\n",
       " 'streetaddress',\n",
       " 'STREETNAME',\n",
       " 'PostalCode',\n",
       " 'StateOrProvince',\n",
       " 'City',\n",
       " 'SalesClosePrice',\n",
       " 'LISTDATE',\n",
       " 'LISTPRICE',\n",
       " 'LISTTYPE',\n",
       " 'OriginalListPrice',\n",
       " 'PricePerTSFT',\n",
       " 'FOUNDATIONSIZE',\n",
       " 'FENCE',\n",
       " 'MapLetter',\n",
       " 'LotSizeDimensions',\n",
       " 'SchoolDistrictNumber',\n",
       " 'DAYSONMARKET',\n",
       " 'offmarketdate',\n",
       " 'Fireplaces',\n",
       " 'RoomArea4',\n",
       " 'roomtype',\n",
       " 'ROOF',\n",
       " 'RoomFloor4',\n",
       " 'PotentialShortSale',\n",
       " 'PoolDescription',\n",
       " 'PDOM',\n",
       " 'GarageDescription',\n",
       " 'SQFTABOVEGROUND',\n",
       " 'Taxes',\n",
       " 'RoomFloor1',\n",
       " 'RoomArea1',\n",
       " 'TAXWITHASSESSMENTS',\n",
       " 'TAXYEAR',\n",
       " 'LivingArea',\n",
       " 'UNITNUMBER',\n",
       " 'YEARBUILT',\n",
       " 'ZONING',\n",
       " 'STYLE',\n",
       " 'ACRES',\n",
       " 'CoolingDescription',\n",
       " 'APPLIANCES',\n",
       " 'backonmarketdate',\n",
       " 'ROOMFAMILYCHAR',\n",
       " 'RoomArea3',\n",
       " 'EXTERIOR',\n",
       " 'RoomFloor3',\n",
       " 'RoomFloor2',\n",
       " 'RoomArea2',\n",
       " 'DiningRoomDescription',\n",
       " 'BASEMENT',\n",
       " 'BathsFull',\n",
       " 'BathsHalf',\n",
       " 'BATHQUARTER',\n",
       " 'BATHSTHREEQUARTER',\n",
       " 'Class',\n",
       " 'BATHSTOTAL',\n",
       " 'BATHDESC',\n",
       " 'RoomArea5',\n",
       " 'RoomFloor5',\n",
       " 'RoomArea6',\n",
       " 'RoomFloor6',\n",
       " 'RoomArea7',\n",
       " 'RoomFloor7',\n",
       " 'RoomArea8',\n",
       " 'RoomFloor8',\n",
       " 'Bedrooms',\n",
       " 'SQFTBELOWGROUND',\n",
       " 'AssumableMortgage',\n",
       " 'AssociationFee',\n",
       " 'ASSESSMENTPENDING',\n",
       " 'AssessedValuation',\n",
       " 'TSQFT',\n",
       " 'PRICEPERTSQFT',\n",
       " 'LOT_SIZE_SQFT',\n",
       " 'YARD_SIZE',\n",
       " 'LISTDATE_new',\n",
       " 'OFFMARKETDATE_new',\n",
       " 'DAYSONMARKET_new',\n",
       " 'List_day_of_week',\n",
       " 'Check',\n",
       " 'roof_list']"
      ]
     },
     "execution_count": 56,
     "metadata": {},
     "output_type": "execute_result"
    }
   ],
   "source": [
    "df.columns"
   ]
  },
  {
   "cell_type": "code",
   "execution_count": 57,
   "metadata": {},
   "outputs": [],
   "source": [
    "df = df.withColumn('',df['YARD_SIZE'].cast('double'))"
   ]
  },
  {
   "cell_type": "code",
   "execution_count": 69,
   "metadata": {},
   "outputs": [],
   "source": [
    "bin = Binarizer(threshold=20000,inputCol='YARD_SIZE',outputCol='Check_yard2')"
   ]
  },
  {
   "cell_type": "code",
   "execution_count": 70,
   "metadata": {},
   "outputs": [],
   "source": [
    "df = bin.transform(df)"
   ]
  },
  {
   "cell_type": "code",
   "execution_count": 71,
   "metadata": {},
   "outputs": [
    {
     "name": "stdout",
     "output_type": "stream",
     "text": [
      "+------------------+-----------+\n",
      "|         YARD_SIZE|Check_yard2|\n",
      "+------------------+-----------+\n",
      "|           54776.8|        1.0|\n",
      "|           12795.2|        0.0|\n",
      "|          34704.32|        1.0|\n",
      "|39987.399999999994|        1.0|\n",
      "|           -1026.0|        0.0|\n",
      "|           6340.32|        0.0|\n",
      "+------------------+-----------+\n",
      "only showing top 6 rows\n",
      "\n"
     ]
    }
   ],
   "source": [
    "df[['YARD_SIZE','Check_yard2']].show(6)"
   ]
  },
  {
   "cell_type": "code",
   "execution_count": 73,
   "metadata": {},
   "outputs": [],
   "source": [
    "#Bucketing"
   ]
  },
  {
   "cell_type": "code",
   "execution_count": 78,
   "metadata": {},
   "outputs": [],
   "source": [
    "#One hot Encoding"
   ]
  },
  {
   "cell_type": "code",
   "execution_count": 79,
   "metadata": {},
   "outputs": [],
   "source": [
    "f = spark.createDataFrame([\n",
    "    (\"a\", 2.0),\n",
    "    (\"b\", 2.0),\n",
    "    (\"c\", 1.0),\n",
    "    (\"a\", 1.0),\n",
    "    (\"a\", 0.0),\n",
    "    (\"b\", 1.0),\n",
    "    (\"c\", 1.0)\n",
    "], [\"categoryIndex\", \"categoryIndex2\"])"
   ]
  },
  {
   "cell_type": "code",
   "execution_count": 81,
   "metadata": {},
   "outputs": [
    {
     "name": "stdout",
     "output_type": "stream",
     "text": [
      "+----------------+\n",
      "|            City|\n",
      "+----------------+\n",
      "|  OAKD - Oakdale|\n",
      "|MAPW - Maplewood|\n",
      "|   WB - Woodbury|\n",
      "|LELM - Lake Elmo|\n",
      "|STP - Saint Paul|\n",
      "+----------------+\n",
      "\n"
     ]
    }
   ],
   "source": [
    "df.select('City').distinct().show()"
   ]
  },
  {
   "cell_type": "code",
   "execution_count": 87,
   "metadata": {},
   "outputs": [
    {
     "name": "stdout",
     "output_type": "stream",
     "text": [
      "+----------------+\n",
      "|            City|\n",
      "+----------------+\n",
      "|  OAKD - Oakdale|\n",
      "|MAPW - Maplewood|\n",
      "|   WB - Woodbury|\n",
      "|LELM - Lake Elmo|\n",
      "|STP - Saint Paul|\n",
      "+----------------+\n",
      "\n"
     ]
    }
   ],
   "source": [
    "df[['City']].distinct().show()"
   ]
  },
  {
   "cell_type": "code",
   "execution_count": 88,
   "metadata": {},
   "outputs": [],
   "source": [
    "StringIndexer = StringIndexer(inputCol='City',outputCol='City_index')"
   ]
  },
  {
   "cell_type": "code",
   "execution_count": 89,
   "metadata": {},
   "outputs": [],
   "source": [
    "model = StringIndexer.fit(df)"
   ]
  },
  {
   "cell_type": "code",
   "execution_count": 90,
   "metadata": {},
   "outputs": [],
   "source": [
    "indexed = model.transform(df)"
   ]
  },
  {
   "cell_type": "code",
   "execution_count": 91,
   "metadata": {},
   "outputs": [
    {
     "name": "stdout",
     "output_type": "stream",
     "text": [
      "+----------------+----------+\n",
      "|            City|City_Index|\n",
      "+----------------+----------+\n",
      "|LELM - Lake Elmo|       4.0|\n",
      "|LELM - Lake Elmo|       4.0|\n",
      "|LELM - Lake Elmo|       4.0|\n",
      "|LELM - Lake Elmo|       4.0|\n",
      "|LELM - Lake Elmo|       4.0|\n",
      "+----------------+----------+\n",
      "only showing top 5 rows\n",
      "\n"
     ]
    }
   ],
   "source": [
    "indexed[['City','City_Index']].show(5)"
   ]
  },
  {
   "cell_type": "markdown",
   "metadata": {},
   "source": [
    "### Caching"
   ]
  },
  {
   "cell_type": "code",
   "execution_count": null,
   "metadata": {},
   "outputs": [],
   "source": []
  }
 ],
 "metadata": {
  "kernelspec": {
   "display_name": "Python 3",
   "language": "python",
   "name": "python3"
  },
  "language_info": {
   "codemirror_mode": {
    "name": "ipython",
    "version": 3
   },
   "file_extension": ".py",
   "mimetype": "text/x-python",
   "name": "python",
   "nbconvert_exporter": "python",
   "pygments_lexer": "ipython3",
   "version": "3.6.8"
  }
 },
 "nbformat": 4,
 "nbformat_minor": 4
}
