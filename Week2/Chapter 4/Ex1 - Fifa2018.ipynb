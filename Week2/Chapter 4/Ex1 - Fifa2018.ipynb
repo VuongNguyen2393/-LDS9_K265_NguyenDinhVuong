{
 "cells": [
  {
   "cell_type": "code",
   "execution_count": 4,
   "metadata": {},
   "outputs": [],
   "source": [
    "#Khởi tạo mội trường cho pyspark\n",
    "import findspark\n",
    "findspark.init()"
   ]
  },
  {
   "cell_type": "code",
   "execution_count": 6,
   "metadata": {},
   "outputs": [],
   "source": [
    "#Khởi tạo spark context và session\n",
    "from pyspark import SparkContext\n",
    "from pyspark.sql import SparkSession"
   ]
  },
  {
   "cell_type": "code",
   "execution_count": 7,
   "metadata": {},
   "outputs": [],
   "source": [
    "sc = SparkContext(master='local',appName='Ex_Chapter4')\n",
    "spark = SparkSession(sc)"
   ]
  },
  {
   "cell_type": "markdown",
   "metadata": {},
   "source": [
    "### 1. Đọc tập tin Fifa2018_dataset.csv vào fifa_df"
   ]
  },
  {
   "cell_type": "code",
   "execution_count": 12,
   "metadata": {},
   "outputs": [],
   "source": [
    "file_name = 'Fifa2018_dataset.csv'\n",
    "fifa_df = spark.read.csv(file_name,inferSchema=True,header=True)"
   ]
  },
  {
   "cell_type": "markdown",
   "metadata": {},
   "source": [
    "### 2. In schema của fifa_df. Hiển thị 2 dòng đầu tiên, cho biết dữ liệu có bao nhiêu dòng"
   ]
  },
  {
   "cell_type": "code",
   "execution_count": 13,
   "metadata": {},
   "outputs": [
    {
     "name": "stdout",
     "output_type": "stream",
     "text": [
      "root\n",
      " |-- _c0: integer (nullable = true)\n",
      " |-- Name: string (nullable = true)\n",
      " |-- Age: integer (nullable = true)\n",
      " |-- Photo: string (nullable = true)\n",
      " |-- Nationality: string (nullable = true)\n",
      " |-- Flag: string (nullable = true)\n",
      " |-- Overall: integer (nullable = true)\n",
      " |-- Potential: integer (nullable = true)\n",
      " |-- Club: string (nullable = true)\n",
      " |-- Club Logo: string (nullable = true)\n",
      " |-- Value: string (nullable = true)\n",
      " |-- Wage: string (nullable = true)\n",
      " |-- Special: integer (nullable = true)\n",
      " |-- Acceleration: string (nullable = true)\n",
      " |-- Aggression: string (nullable = true)\n",
      " |-- Agility: string (nullable = true)\n",
      " |-- Balance: string (nullable = true)\n",
      " |-- Ball control: string (nullable = true)\n",
      " |-- Composure: string (nullable = true)\n",
      " |-- Crossing: string (nullable = true)\n",
      " |-- Curve: string (nullable = true)\n",
      " |-- Dribbling: string (nullable = true)\n",
      " |-- Finishing: string (nullable = true)\n",
      " |-- Free kick accuracy: string (nullable = true)\n",
      " |-- GK diving: string (nullable = true)\n",
      " |-- GK handling: string (nullable = true)\n",
      " |-- GK kicking: string (nullable = true)\n",
      " |-- GK positioning: string (nullable = true)\n",
      " |-- GK reflexes: string (nullable = true)\n",
      " |-- Heading accuracy: string (nullable = true)\n",
      " |-- Interceptions: string (nullable = true)\n",
      " |-- Jumping: string (nullable = true)\n",
      " |-- Long passing: string (nullable = true)\n",
      " |-- Long shots: string (nullable = true)\n",
      " |-- Marking: string (nullable = true)\n",
      " |-- Penalties: string (nullable = true)\n",
      " |-- Positioning: string (nullable = true)\n",
      " |-- Reactions: string (nullable = true)\n",
      " |-- Short passing: string (nullable = true)\n",
      " |-- Shot power: string (nullable = true)\n",
      " |-- Sliding tackle: string (nullable = true)\n",
      " |-- Sprint speed: string (nullable = true)\n",
      " |-- Stamina: string (nullable = true)\n",
      " |-- Standing tackle: string (nullable = true)\n",
      " |-- Strength: string (nullable = true)\n",
      " |-- Vision: string (nullable = true)\n",
      " |-- Volleys: string (nullable = true)\n",
      " |-- CAM: double (nullable = true)\n",
      " |-- CB: double (nullable = true)\n",
      " |-- CDM: double (nullable = true)\n",
      " |-- CF: double (nullable = true)\n",
      " |-- CM: double (nullable = true)\n",
      " |-- ID: integer (nullable = true)\n",
      " |-- LAM: double (nullable = true)\n",
      " |-- LB: double (nullable = true)\n",
      " |-- LCB: double (nullable = true)\n",
      " |-- LCM: double (nullable = true)\n",
      " |-- LDM: double (nullable = true)\n",
      " |-- LF: double (nullable = true)\n",
      " |-- LM: double (nullable = true)\n",
      " |-- LS: double (nullable = true)\n",
      " |-- LW: double (nullable = true)\n",
      " |-- LWB: double (nullable = true)\n",
      " |-- Preferred Positions: string (nullable = true)\n",
      " |-- RAM: double (nullable = true)\n",
      " |-- RB: double (nullable = true)\n",
      " |-- RCB: double (nullable = true)\n",
      " |-- RCM: double (nullable = true)\n",
      " |-- RDM: double (nullable = true)\n",
      " |-- RF: double (nullable = true)\n",
      " |-- RM: double (nullable = true)\n",
      " |-- RS: double (nullable = true)\n",
      " |-- RW: double (nullable = true)\n",
      " |-- RWB: double (nullable = true)\n",
      " |-- ST: double (nullable = true)\n",
      "\n"
     ]
    }
   ],
   "source": [
    "fifa_df.printSchema()"
   ]
  },
  {
   "cell_type": "code",
   "execution_count": 15,
   "metadata": {},
   "outputs": [
    {
     "data": {
      "text/plain": [
       "[Row(_c0=0, Name='Cristiano Ronaldo', Age=32, Photo='https://cdn.sofifa.org/48/18/players/20801.png', Nationality='Portugal', Flag='https://cdn.sofifa.org/flags/38.png', Overall=94, Potential=94, Club='Real Madrid CF', Club Logo='https://cdn.sofifa.org/24/18/teams/243.png', Value='€95.5M', Wage='€565K', Special=2228, Acceleration='89', Aggression='63', Agility='89', Balance='63', Ball control='93', Composure='95', Crossing='85', Curve='81', Dribbling='91', Finishing='94', Free kick accuracy='76', GK diving='7', GK handling='11', GK kicking='15', GK positioning='14', GK reflexes='11', Heading accuracy='88', Interceptions='29', Jumping='95', Long passing='77', Long shots='92', Marking='22', Penalties='85', Positioning='95', Reactions='96', Short passing='83', Shot power='94', Sliding tackle='23', Sprint speed='91', Stamina='92', Standing tackle='31', Strength='80', Vision='85', Volleys='88', CAM=89.0, CB=53.0, CDM=62.0, CF=91.0, CM=82.0, ID=20801, LAM=89.0, LB=61.0, LCB=53.0, LCM=82.0, LDM=62.0, LF=91.0, LM=89.0, LS=92.0, LW=91.0, LWB=66.0, Preferred Positions='ST LW ', RAM=89.0, RB=61.0, RCB=53.0, RCM=82.0, RDM=62.0, RF=91.0, RM=89.0, RS=92.0, RW=91.0, RWB=66.0, ST=92.0),\n",
       " Row(_c0=1, Name='L. Messi', Age=30, Photo='https://cdn.sofifa.org/48/18/players/158023.png', Nationality='Argentina', Flag='https://cdn.sofifa.org/flags/52.png', Overall=93, Potential=93, Club='FC Barcelona', Club Logo='https://cdn.sofifa.org/24/18/teams/241.png', Value='€105M', Wage='€565K', Special=2154, Acceleration='92', Aggression='48', Agility='90', Balance='95', Ball control='95', Composure='96', Crossing='77', Curve='89', Dribbling='97', Finishing='95', Free kick accuracy='90', GK diving='6', GK handling='11', GK kicking='15', GK positioning='14', GK reflexes='8', Heading accuracy='71', Interceptions='22', Jumping='68', Long passing='87', Long shots='88', Marking='13', Penalties='74', Positioning='93', Reactions='95', Short passing='88', Shot power='85', Sliding tackle='26', Sprint speed='87', Stamina='73', Standing tackle='28', Strength='59', Vision='90', Volleys='85', CAM=92.0, CB=45.0, CDM=59.0, CF=92.0, CM=84.0, ID=158023, LAM=92.0, LB=57.0, LCB=45.0, LCM=84.0, LDM=59.0, LF=92.0, LM=90.0, LS=88.0, LW=91.0, LWB=62.0, Preferred Positions='RW ', RAM=92.0, RB=57.0, RCB=45.0, RCM=84.0, RDM=59.0, RF=92.0, RM=90.0, RS=88.0, RW=91.0, RWB=62.0, ST=88.0)]"
      ]
     },
     "execution_count": 15,
     "metadata": {},
     "output_type": "execute_result"
    }
   ],
   "source": [
    "fifa_df.head(2)"
   ]
  },
  {
   "cell_type": "code",
   "execution_count": 17,
   "metadata": {},
   "outputs": [
    {
     "name": "stdout",
     "output_type": "stream",
     "text": [
      "Number of lines is : 17981\n"
     ]
    }
   ],
   "source": [
    "print('Number of lines is :',fifa_df.count()) #Dữ liệu có 17981 dòng"
   ]
  },
  {
   "cell_type": "markdown",
   "metadata": {},
   "source": [
    "### 3. Tạo view 'fifa_table' từ fifa_df"
   ]
  },
  {
   "cell_type": "code",
   "execution_count": 18,
   "metadata": {},
   "outputs": [],
   "source": [
    "fifa_df.createOrReplaceTempView('fifa_table')"
   ]
  },
  {
   "cell_type": "markdown",
   "metadata": {},
   "source": [
    "### 4. Dùng SQL Query lấy cột Age của VĐV có Nationality là *Germani* => *fifa_germany_age* . Hiển thị 3 dòng đầu. In thống kê dữ liệu"
   ]
  },
  {
   "cell_type": "code",
   "execution_count": 20,
   "metadata": {},
   "outputs": [],
   "source": [
    "fifa_germany_age = spark.sql('select Age from fifa_table where Nationality == \"Germany\"')"
   ]
  },
  {
   "cell_type": "code",
   "execution_count": 21,
   "metadata": {},
   "outputs": [
    {
     "name": "stdout",
     "output_type": "stream",
     "text": [
      "+---+\n",
      "|Age|\n",
      "+---+\n",
      "| 31|\n",
      "| 27|\n",
      "| 28|\n",
      "+---+\n",
      "only showing top 3 rows\n",
      "\n"
     ]
    }
   ],
   "source": [
    "fifa_germany_age.show(3)"
   ]
  },
  {
   "cell_type": "code",
   "execution_count": 44,
   "metadata": {},
   "outputs": [
    {
     "name": "stdout",
     "output_type": "stream",
     "text": [
      "+-------+-----------------+\n",
      "|summary|              Age|\n",
      "+-------+-----------------+\n",
      "|  count|             1140|\n",
      "|   mean|24.20263157894737|\n",
      "| stddev|4.197096712293756|\n",
      "|    min|               16|\n",
      "|    max|               36|\n",
      "+-------+-----------------+\n",
      "\n"
     ]
    }
   ],
   "source": [
    "fifa_germany_age.describe().show()"
   ]
  },
  {
   "cell_type": "markdown",
   "metadata": {},
   "source": [
    "### 5. Trực quan hóa dữ liệu fifa_germany_age. Nhận xét biểu đồ"
   ]
  },
  {
   "cell_type": "code",
   "execution_count": 22,
   "metadata": {},
   "outputs": [],
   "source": [
    "import matplotlib.pyplot as plt\n",
    "import seaborn as sns"
   ]
  },
  {
   "cell_type": "code",
   "execution_count": 23,
   "metadata": {},
   "outputs": [],
   "source": [
    "ff_plot = fifa_germany_age.toPandas()"
   ]
  },
  {
   "cell_type": "code",
   "execution_count": 31,
   "metadata": {},
   "outputs": [
    {
     "data": {
      "image/png": "[encoded data removed]",
      "text/plain": [
       "<Figure size 432x288 with 1 Axes>"
      ]
     },
     "metadata": {
      "needs_background": "light"
     },
     "output_type": "display_data"
    }
   ],
   "source": [
    "ff_plot.plot(kind='kde',title = 'Age of althetics from Germany');"
   ]
  },
  {
   "cell_type": "markdown",
   "metadata": {},
   "source": [
    "##### Nhận xét: \n",
    "- Phần lớn lứa tuổi của các vận động viên Đức là từ khoảng 25-30 tuổi.\n",
    "- Range tuổi các VĐV kéo dài từ 15-35 tuổi.\n",
    "- Phân phối khá chuẩn với mean là 25, lệch chuẩn 10"
   ]
  },
  {
   "cell_type": "markdown",
   "metadata": {},
   "source": [
    "### 6. Từ fifa_df, cho biết mỗi độ tuổi có bao nhiêu cầu thủ. Độ tuổi trung bình của cầu thủ mỗi quốc gia là bao nhiều?"
   ]
  },
  {
   "cell_type": "code",
   "execution_count": 39,
   "metadata": {},
   "outputs": [
    {
     "name": "stdout",
     "output_type": "stream",
     "text": [
      "+---+-----+\n",
      "|Age|count|\n",
      "+---+-----+\n",
      "| 16|   13|\n",
      "| 17|  258|\n",
      "| 18|  672|\n",
      "| 19| 1069|\n",
      "| 20| 1245|\n",
      "| 21| 1286|\n",
      "| 22| 1324|\n",
      "| 23| 1394|\n",
      "| 24| 1334|\n",
      "| 25| 1522|\n",
      "| 26| 1202|\n",
      "| 27| 1152|\n",
      "| 28| 1051|\n",
      "| 29| 1121|\n",
      "| 30|  804|\n",
      "| 31|  671|\n",
      "| 32|  506|\n",
      "| 33|  617|\n",
      "| 34|  272|\n",
      "| 35|  191|\n",
      "| 36|  136|\n",
      "| 37|   69|\n",
      "| 38|   36|\n",
      "| 39|   20|\n",
      "| 40|    8|\n",
      "| 41|    3|\n",
      "| 43|    2|\n",
      "| 44|    2|\n",
      "| 47|    1|\n",
      "+---+-----+\n",
      "\n"
     ]
    }
   ],
   "source": [
    "#Số cầu thủ theo độ tuổi:\n",
    "fifa_df.groupby('Age').count().orderBy('Age').show(50)"
   ]
  },
  {
   "cell_type": "code",
   "execution_count": 42,
   "metadata": {},
   "outputs": [
    {
     "name": "stdout",
     "output_type": "stream",
     "text": [
      "+--------------+------------------+\n",
      "|   Nationality|          avg(Age)|\n",
      "+--------------+------------------+\n",
      "|          Chad|              25.0|\n",
      "|        Russia| 25.23202614379085|\n",
      "|      Paraguay| 26.10144927536232|\n",
      "|       Senegal|25.046511627906977|\n",
      "|        Sweden|25.119565217391305|\n",
      "|        Guyana|              28.0|\n",
      "|       Eritrea|              32.0|\n",
      "|   Philippines|25.666666666666668|\n",
      "|          Fiji|              29.0|\n",
      "|        Turkey|25.127147766323024|\n",
      "|          Iraq|              26.0|\n",
      "|       Germany| 24.20263157894737|\n",
      "|St Kitts Nevis|26.666666666666668|\n",
      "|       Comoros| 27.11111111111111|\n",
      "|   Afghanistan|              22.0|\n",
      "|   Ivory Coast| 24.10891089108911|\n",
      "|         Sudan|              22.5|\n",
      "|        France|24.634969325153374|\n",
      "|        Greece|24.418367346938776|\n",
      "|        Kosovo|           23.9375|\n",
      "+--------------+------------------+\n",
      "only showing top 20 rows\n",
      "\n"
     ]
    }
   ],
   "source": [
    "#cầu thủ trung bình mỗi quốc gia:\n",
    "fifa_df.groupby('Nationality').agg({'Age':'mean'}).show()"
   ]
  },
  {
   "cell_type": "markdown",
   "metadata": {},
   "source": [
    "### 7. Từ fifa_df cho biết *Age* nhỏ nhất, lớn nhất, *Strength* nhỏ nhất, lớn nhất."
   ]
  },
  {
   "cell_type": "code",
   "execution_count": 50,
   "metadata": {},
   "outputs": [],
   "source": [
    "from pyspark.sql import functions as F"
   ]
  },
  {
   "cell_type": "code",
   "execution_count": 52,
   "metadata": {},
   "outputs": [
    {
     "name": "stdout",
     "output_type": "stream",
     "text": [
      "+--------+--------+-------------+-------------+\n",
      "|min(Age)|max(Age)|min(Strength)|max(Strength)|\n",
      "+--------+--------+-------------+-------------+\n",
      "|      16|      47|           12|           98|\n",
      "+--------+--------+-------------+-------------+\n",
      "\n"
     ]
    }
   ],
   "source": [
    "fifa_df.agg(F.min('Age'),\n",
    "           F.max('Age'),\n",
    "           F.min('Strength'),\n",
    "           F.max('Strength')).show()"
   ]
  },
  {
   "cell_type": "markdown",
   "metadata": {},
   "source": [
    "### 8. Liệt kê danh sách Club duy nhất theo 2 cách dataframe fifa_df và SQL query với fifa_table"
   ]
  },
  {
   "cell_type": "code",
   "execution_count": 53,
   "metadata": {},
   "outputs": [
    {
     "name": "stdout",
     "output_type": "stream",
     "text": [
      "+--------------------+\n",
      "|                Club|\n",
      "+--------------------+\n",
      "|             Palermo|\n",
      "|         Yeovil Town|\n",
      "|  1. FC Union Berlin|\n",
      "|  Santiago Wanderers|\n",
      "|               Carpi|\n",
      "|Evkur Yeni Malaty...|\n",
      "|          Sagan Tosu|\n",
      "|            FC Basel|\n",
      "|  Argentinos Juniors|\n",
      "|       Karlsruher SC|\n",
      "|  Lorca Deportiva CF|\n",
      "|     SC Paderborn 07|\n",
      "|     Cheltenham Town|\n",
      "|San Lorenzo de Al...|\n",
      "|         SC Freiburg|\n",
      "|  SpVgg Unterhaching|\n",
      "|Atletico Nacional...|\n",
      "|Universidad Católica|\n",
      "|         GFC Ajaccio|\n",
      "|           FC Luzern|\n",
      "+--------------------+\n",
      "only showing top 20 rows\n",
      "\n"
     ]
    }
   ],
   "source": [
    "#Từ dataframe\n",
    "fifa_df.select('Club').distinct().show()"
   ]
  },
  {
   "cell_type": "code",
   "execution_count": 54,
   "metadata": {},
   "outputs": [
    {
     "name": "stdout",
     "output_type": "stream",
     "text": [
      "+--------------------+\n",
      "|                Club|\n",
      "+--------------------+\n",
      "|             Palermo|\n",
      "|         Yeovil Town|\n",
      "|  1. FC Union Berlin|\n",
      "|  Santiago Wanderers|\n",
      "|               Carpi|\n",
      "|Evkur Yeni Malaty...|\n",
      "|          Sagan Tosu|\n",
      "|            FC Basel|\n",
      "|  Argentinos Juniors|\n",
      "|       Karlsruher SC|\n",
      "|  Lorca Deportiva CF|\n",
      "|     SC Paderborn 07|\n",
      "|     Cheltenham Town|\n",
      "|San Lorenzo de Al...|\n",
      "|         SC Freiburg|\n",
      "|  SpVgg Unterhaching|\n",
      "|Atletico Nacional...|\n",
      "|Universidad Católica|\n",
      "|         GFC Ajaccio|\n",
      "|           FC Luzern|\n",
      "+--------------------+\n",
      "only showing top 20 rows\n",
      "\n"
     ]
    }
   ],
   "source": [
    "#SQL Query\n",
    "query = 'select distinct Club from fifa_table '\n",
    "spark.sql(query).show()"
   ]
  },
  {
   "cell_type": "markdown",
   "metadata": {},
   "source": [
    "### 9. Từ fifa_df sắp xếp giảm dần theo Age => fifa_df_desc"
   ]
  },
  {
   "cell_type": "code",
   "execution_count": 59,
   "metadata": {},
   "outputs": [
    {
     "name": "stdout",
     "output_type": "stream",
     "text": [
      "+-------------+---+\n",
      "|         Name|Age|\n",
      "+-------------+---+\n",
      "|B. Richardson| 47|\n",
      "| E. El Hadary| 44|\n",
      "|     O. Pérez| 44|\n",
      "|     D. Coyne| 43|\n",
      "|    J. Walker| 43|\n",
      "|    K. Wæhler| 41|\n",
      "|         Quim| 41|\n",
      "|       C. Day| 41|\n",
      "|    L. Butrón| 40|\n",
      "|     M. Tyler| 40|\n",
      "|     M. Brown| 40|\n",
      "|   M. Storari| 40|\n",
      "|    T. Simons| 40|\n",
      "|     W. Brown| 40|\n",
      "|   M. Candelo| 40|\n",
      "|     B. Nivet| 40|\n",
      "|   F. Coppola| 39|\n",
      "|  J. Restrepo| 39|\n",
      "|     A. Şahin| 39|\n",
      "| A. Lucarelli| 39|\n",
      "+-------------+---+\n",
      "only showing top 20 rows\n",
      "\n"
     ]
    }
   ],
   "source": [
    "fifa_df_desc = fifa_df.orderBy(fifa_df.Age.desc())\n",
    "fifa_df_desc.select('Name','Age').show()"
   ]
  },
  {
   "cell_type": "markdown",
   "metadata": {},
   "source": [
    "### 10. Có bao nhiêu cầu thủ trong *Name* có \"Cristiano\" theo 2 cách datafram và SQL. In tên các cầu thủ này"
   ]
  },
  {
   "cell_type": "code",
   "execution_count": 62,
   "metadata": {},
   "outputs": [
    {
     "name": "stdout",
     "output_type": "stream",
     "text": [
      "Number of players : 3\n",
      "+-----------------+\n",
      "|             Name|\n",
      "+-----------------+\n",
      "|Cristiano Ronaldo|\n",
      "|        Cristiano|\n",
      "|        Cristiano|\n",
      "+-----------------+\n",
      "\n"
     ]
    }
   ],
   "source": [
    "# Dataframe\n",
    "Cristiano_df = fifa_df.select('Name').filter(fifa_df.Name.contains('Cristiano'))\n",
    "print('Number of players :' , Cristiano_df.count())\n",
    "Cristiano_df.show()"
   ]
  },
  {
   "cell_type": "code",
   "execution_count": 76,
   "metadata": {},
   "outputs": [
    {
     "name": "stdout",
     "output_type": "stream",
     "text": [
      "+-----------------+\n",
      "|             Name|\n",
      "+-----------------+\n",
      "|Cristiano Ronaldo|\n",
      "|        Cristiano|\n",
      "|        Cristiano|\n",
      "+-----------------+\n",
      "\n",
      "Number of players : 3\n"
     ]
    }
   ],
   "source": [
    "#SQL query:\n",
    "Critiano_sql = spark.sql('select Name from fifa_table where Name like \"%Cristiano%\"')\n",
    "Critiano_sql.show()\n",
    "print('Number of players :' , Critiano_sql.count())"
   ]
  },
  {
   "cell_type": "code",
   "execution_count": null,
   "metadata": {},
   "outputs": [],
   "source": []
  }
 ],
 "metadata": {
  "kernelspec": {
   "display_name": "Python 3",
   "language": "python",
   "name": "python3"
  },
  "language_info": {
   "codemirror_mode": {
    "name": "ipython",
    "version": 3
   },
   "file_extension": ".py",
   "mimetype": "text/x-python",
   "name": "python",
   "nbconvert_exporter": "python",
   "pygments_lexer": "ipython3",
   "version": "3.8.5"
  }
 },
 "nbformat": 4,
 "nbformat_minor": 4
}
