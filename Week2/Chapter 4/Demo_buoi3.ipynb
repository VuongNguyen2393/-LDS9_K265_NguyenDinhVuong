{
 "cells": [
  {
   "cell_type": "code",
   "execution_count": 5,
   "metadata": {},
   "outputs": [],
   "source": [
    "import findspark\n",
    "findspark.init()\n",
    "from pyspark.sql import SparkSession"
   ]
  },
  {
   "cell_type": "code",
   "execution_count": 2,
   "metadata": {},
   "outputs": [],
   "source": [
    "from pyspark import SparkContext"
   ]
  },
  {
   "cell_type": "code",
   "execution_count": 3,
   "metadata": {},
   "outputs": [],
   "source": [
    "sc = SparkContext(master='local',appName='Buoi3')"
   ]
  },
  {
   "cell_type": "code",
   "execution_count": 8,
   "metadata": {},
   "outputs": [],
   "source": [
    "sql_context = SQLContext(sc)"
   ]
  },
  {
   "cell_type": "code",
   "execution_count": 6,
   "metadata": {},
   "outputs": [],
   "source": [
    "spark = (SparkSession\n",
    "        .builder\n",
    "        .appName('Session Spark App')\n",
    "        .getOrCreate())"
   ]
  },
  {
   "cell_type": "code",
   "execution_count": 7,
   "metadata": {},
   "outputs": [],
   "source": [
    "from pyspark.sql import Row, SQLContext"
   ]
  },
  {
   "cell_type": "markdown",
   "metadata": {},
   "source": [
    "## Read data from RDD"
   ]
  },
  {
   "cell_type": "code",
   "execution_count": 9,
   "metadata": {},
   "outputs": [],
   "source": [
    "lst = [('Vuong',1993),('Hieu',1993),('Hoang',1992),('Danh',1986)]"
   ]
  },
  {
   "cell_type": "code",
   "execution_count": 10,
   "metadata": {},
   "outputs": [],
   "source": [
    "RDD = sc.parallelize(lst)"
   ]
  },
  {
   "cell_type": "code",
   "execution_count": 11,
   "metadata": {},
   "outputs": [],
   "source": [
    "danhsach = RDD.map(lambda x: Row(name = x[0],year = x[1]))"
   ]
  },
  {
   "cell_type": "code",
   "execution_count": 12,
   "metadata": {},
   "outputs": [],
   "source": [
    "table = sql_context.createDataFrame(danhsach)"
   ]
  },
  {
   "cell_type": "code",
   "execution_count": 13,
   "metadata": {},
   "outputs": [
    {
     "name": "stdout",
     "output_type": "stream",
     "text": [
      "+-----+----+\n",
      "| name|year|\n",
      "+-----+----+\n",
      "|Vuong|1993|\n",
      "| Hieu|1993|\n",
      "|Hoang|1992|\n",
      "| Danh|1986|\n",
      "+-----+----+\n",
      "\n"
     ]
    }
   ],
   "source": [
    "table.show()"
   ]
  },
  {
   "cell_type": "code",
   "execution_count": 14,
   "metadata": {},
   "outputs": [
    {
     "data": {
      "text/plain": [
       "DataFrame[name: string, year: bigint]"
      ]
     },
     "execution_count": 14,
     "metadata": {},
     "output_type": "execute_result"
    }
   ],
   "source": [
    "table"
   ]
  },
  {
   "cell_type": "markdown",
   "metadata": {},
   "source": [
    "## Read data from HDFS"
   ]
  },
  {
   "cell_type": "code",
   "execution_count": 18,
   "metadata": {},
   "outputs": [],
   "source": [
    "file_name = 'hdfs://bigdata.laptrinhpython.net:19000/people.csv'"
   ]
  },
  {
   "cell_type": "code",
   "execution_count": 19,
   "metadata": {},
   "outputs": [],
   "source": [
    "people = spark.read.csv(file_name,inferSchema=True,header=True)"
   ]
  },
  {
   "cell_type": "code",
   "execution_count": 20,
   "metadata": {},
   "outputs": [
    {
     "name": "stdout",
     "output_type": "stream",
     "text": [
      "+---+---------+-----------------+------+-------------+\n",
      "|_c0|person_id|             name|   sex|date of birth|\n",
      "+---+---------+-----------------+------+-------------+\n",
      "|  0|      100|   Penelope Lewis|female|   1990-08-31|\n",
      "|  1|      101|    David Anthony|  male|   1971-10-14|\n",
      "|  2|      102|        Ida Shipp|female|   1962-05-24|\n",
      "|  3|      103|     Joanna Moore|female|   2017-03-10|\n",
      "|  4|      104|   Lisandra Ortiz|female|   2020-08-05|\n",
      "|  5|      105|    David Simmons|  male|   1999-12-30|\n",
      "|  6|      106|    Edward Hudson|  male|   1983-05-09|\n",
      "|  7|      107|     Albert Jones|  male|   1990-09-13|\n",
      "|  8|      108| Leonard Cavender|  male|   1958-08-08|\n",
      "|  9|      109|   Everett Vadala|  male|   2005-05-24|\n",
      "| 10|      110| Freddie Claridge|  male|   2002-05-07|\n",
      "| 11|      111|Annabelle Rosseau|female|   1989-07-13|\n",
      "| 12|      112|    Eulah Emanuel|female|   1976-01-19|\n",
      "| 13|      113|       Shaun Love|  male|   1970-05-26|\n",
      "| 14|      114|Alejandro Brennan|  male|   1980-12-22|\n",
      "| 15|      115|Robert Mcreynolds|  male|   1973-12-27|\n",
      "| 16|      116|   Carla Spickard|female|   1985-06-13|\n",
      "| 17|      117|Florence Eberhart|female|   2024-06-01|\n",
      "| 18|      118|     Tina Gaskins|female|   1966-12-05|\n",
      "| 19|      119| Florence Mulhern|female|   1959-05-31|\n",
      "+---+---------+-----------------+------+-------------+\n",
      "only showing top 20 rows\n",
      "\n"
     ]
    }
   ],
   "source": [
    "people.show()"
   ]
  },
  {
   "cell_type": "code",
   "execution_count": 21,
   "metadata": {},
   "outputs": [
    {
     "data": {
      "text/plain": [
       "DataFrame[_c0: int, person_id: int, name: string, sex: string, date of birth: string]"
      ]
     },
     "execution_count": 21,
     "metadata": {},
     "output_type": "execute_result"
    }
   ],
   "source": [
    "people"
   ]
  },
  {
   "cell_type": "markdown",
   "metadata": {},
   "source": [
    "## Read data from JSON"
   ]
  },
  {
   "cell_type": "code",
   "execution_count": 22,
   "metadata": {},
   "outputs": [],
   "source": [
    "file_name = 'hdfs://bigdata.laptrinhpython.net:19000/data.json'"
   ]
  },
  {
   "cell_type": "code",
   "execution_count": 23,
   "metadata": {},
   "outputs": [
    {
     "name": "stdout",
     "output_type": "stream",
     "text": [
      "+----------+--------------------+-------------+--------------------+--------------------+-------------------+\n",
      "|        id|            location|sampling_rate|              sensor|    sensordatavalues|          timestamp|\n",
      "+----------+--------------------+-------------+--------------------+--------------------+-------------------+\n",
      "|5810744647|[112.6, FR, 0, 11...|         null|[22349, 1, [14, N...|[[12340422762, 1....|2019-12-20 03:22:01|\n",
      "|5810744646|[35.2, DE, 0, 107...|         null|[21149, 7, [9, va...|[[12340422760, 9....|2019-12-20 03:22:01|\n",
      "|5810744645|[51.0, DE, 0, 293...|         null|[5811, 1, [14, No...|[[12340422757, 6....|2019-12-20 03:22:01|\n",
      "|5810744644|[34.4, BE, 0, 441...|         null|[8765, 1, [14, No...|[[12340422756, 3....|2019-12-20 03:22:01|\n",
      "|5810744643|[5.0, FR, 0, 1100...|         null|[21693, 1, [14, N...|[[12340422754, 7....|2019-12-20 03:22:01|\n",
      "+----------+--------------------+-------------+--------------------+--------------------+-------------------+\n",
      "only showing top 5 rows\n",
      "\n"
     ]
    }
   ],
   "source": [
    "data = spark.read.json(file_name)\n",
    "data.show(5)"
   ]
  },
  {
   "cell_type": "code",
   "execution_count": 24,
   "metadata": {},
   "outputs": [
    {
     "name": "stdout",
     "output_type": "stream",
     "text": [
      "root\n",
      " |-- id: long (nullable = true)\n",
      " |-- location: struct (nullable = true)\n",
      " |    |-- altitude: string (nullable = true)\n",
      " |    |-- country: string (nullable = true)\n",
      " |    |-- exact_location: long (nullable = true)\n",
      " |    |-- id: long (nullable = true)\n",
      " |    |-- indoor: long (nullable = true)\n",
      " |    |-- latitude: string (nullable = true)\n",
      " |    |-- longitude: string (nullable = true)\n",
      " |-- sampling_rate: string (nullable = true)\n",
      " |-- sensor: struct (nullable = true)\n",
      " |    |-- id: long (nullable = true)\n",
      " |    |-- pin: string (nullable = true)\n",
      " |    |-- sensor_type: struct (nullable = true)\n",
      " |    |    |-- id: long (nullable = true)\n",
      " |    |    |-- manufacturer: string (nullable = true)\n",
      " |    |    |-- name: string (nullable = true)\n",
      " |-- sensordatavalues: array (nullable = true)\n",
      " |    |-- element: struct (containsNull = true)\n",
      " |    |    |-- id: long (nullable = true)\n",
      " |    |    |-- value: string (nullable = true)\n",
      " |    |    |-- value_type: string (nullable = true)\n",
      " |-- timestamp: string (nullable = true)\n",
      "\n"
     ]
    }
   ],
   "source": [
    "data.printSchema()"
   ]
  },
  {
   "cell_type": "code",
   "execution_count": 28,
   "metadata": {},
   "outputs": [],
   "source": [
    "df = spark.read.csv('Obesity_data.csv',inferSchema=True,header=True)"
   ]
  },
  {
   "cell_type": "code",
   "execution_count": 30,
   "metadata": {},
   "outputs": [
    {
     "name": "stdout",
     "output_type": "stream",
     "text": [
      "+---+------+------+------+----+---+----+----+-----+-----+-----+\n",
      "| id|gender|height|weight| bmi|age| bmc| bmd|  fat| lean|pcfat|\n",
      "+---+------+------+------+----+---+----+----+-----+-----+-----+\n",
      "|  1|     F|   150|    49|21.8| 53|1312|0.88|17802|28600| 37.3|\n",
      "|  2|     M|   165|    52|19.1| 65|1309|0.84| 8381|40229| 16.8|\n",
      "|  3|     F|   157|    57|23.1| 64|1230|0.84|19221|36057| 34.0|\n",
      "|  4|     F|   156|    53|21.8| 56|1171| 0.8|17472|33094| 33.8|\n",
      "|  5|     M|   160|    51|19.9| 54|1681|0.98| 7336|40621| 14.8|\n",
      "+---+------+------+------+----+---+----+----+-----+-----+-----+\n",
      "only showing top 5 rows\n",
      "\n"
     ]
    }
   ],
   "source": [
    "df.show(5)"
   ]
  },
  {
   "cell_type": "code",
   "execution_count": 29,
   "metadata": {},
   "outputs": [
    {
     "name": "stdout",
     "output_type": "stream",
     "text": [
      "root\n",
      " |-- id: integer (nullable = true)\n",
      " |-- gender: string (nullable = true)\n",
      " |-- height: integer (nullable = true)\n",
      " |-- weight: integer (nullable = true)\n",
      " |-- bmi: double (nullable = true)\n",
      " |-- age: integer (nullable = true)\n",
      " |-- bmc: integer (nullable = true)\n",
      " |-- bmd: double (nullable = true)\n",
      " |-- fat: integer (nullable = true)\n",
      " |-- lean: integer (nullable = true)\n",
      " |-- pcfat: double (nullable = true)\n",
      "\n"
     ]
    }
   ],
   "source": [
    "df.printSchema()"
   ]
  },
  {
   "cell_type": "code",
   "execution_count": 31,
   "metadata": {},
   "outputs": [
    {
     "data": {
      "text/plain": [
       "1217"
      ]
     },
     "execution_count": 31,
     "metadata": {},
     "output_type": "execute_result"
    }
   ],
   "source": [
    "df.count()"
   ]
  },
  {
   "cell_type": "code",
   "execution_count": 34,
   "metadata": {},
   "outputs": [
    {
     "name": "stdout",
     "output_type": "stream",
     "text": [
      "+-------+------------------+------------------+\n",
      "|summary|            height|               bmi|\n",
      "+-------+------------------+------------------+\n",
      "|  count|              1217|              1217|\n",
      "|   mean| 156.7239112571898| 22.39539852095314|\n",
      "| stddev|7.9777256820417035|3.0564419447471356|\n",
      "|    min|               136|              14.5|\n",
      "|    max|               185|              37.1|\n",
      "+-------+------------------+------------------+\n",
      "\n"
     ]
    }
   ],
   "source": [
    "df.describe('height','bmi').show()"
   ]
  },
  {
   "cell_type": "code",
   "execution_count": 36,
   "metadata": {},
   "outputs": [
    {
     "data": {
      "text/html": [
       "<div>\n",
       "<style scoped>\n",
       "    .dataframe tbody tr th:only-of-type {\n",
       "        vertical-align: middle;\n",
       "    }\n",
       "\n",
       "    .dataframe tbody tr th {\n",
       "        vertical-align: top;\n",
       "    }\n",
       "\n",
       "    .dataframe thead th {\n",
       "        text-align: right;\n",
       "    }\n",
       "</style>\n",
       "<table border=\"1\" class=\"dataframe\">\n",
       "  <thead>\n",
       "    <tr style=\"text-align: right;\">\n",
       "      <th></th>\n",
       "      <th>summary</th>\n",
       "      <th>height</th>\n",
       "      <th>bmi</th>\n",
       "    </tr>\n",
       "  </thead>\n",
       "  <tbody>\n",
       "    <tr>\n",
       "      <th>0</th>\n",
       "      <td>count</td>\n",
       "      <td>1217</td>\n",
       "      <td>1217</td>\n",
       "    </tr>\n",
       "    <tr>\n",
       "      <th>1</th>\n",
       "      <td>mean</td>\n",
       "      <td>156.7239112571898</td>\n",
       "      <td>22.39539852095314</td>\n",
       "    </tr>\n",
       "    <tr>\n",
       "      <th>2</th>\n",
       "      <td>stddev</td>\n",
       "      <td>7.9777256820417035</td>\n",
       "      <td>3.0564419447471356</td>\n",
       "    </tr>\n",
       "    <tr>\n",
       "      <th>3</th>\n",
       "      <td>min</td>\n",
       "      <td>136</td>\n",
       "      <td>14.5</td>\n",
       "    </tr>\n",
       "    <tr>\n",
       "      <th>4</th>\n",
       "      <td>max</td>\n",
       "      <td>185</td>\n",
       "      <td>37.1</td>\n",
       "    </tr>\n",
       "  </tbody>\n",
       "</table>\n",
       "</div>"
      ],
      "text/plain": [
       "  summary              height                 bmi\n",
       "0   count                1217                1217\n",
       "1    mean   156.7239112571898   22.39539852095314\n",
       "2  stddev  7.9777256820417035  3.0564419447471356\n",
       "3     min                 136                14.5\n",
       "4     max                 185                37.1"
      ]
     },
     "execution_count": 36,
     "metadata": {},
     "output_type": "execute_result"
    }
   ],
   "source": [
    "df.describe('height','bmi').toPandas() # Giao diện đẹp hơn show"
   ]
  },
  {
   "cell_type": "code",
   "execution_count": 80,
   "metadata": {},
   "outputs": [
    {
     "name": "stdout",
     "output_type": "stream",
     "text": [
      "+---+------+------+------+\n",
      "| id|gender|height|weight|\n",
      "+---+------+------+------+\n",
      "|  1|     F|   150|    49|\n",
      "|  2|     M|   165|    52|\n",
      "|  3|     F|   157|    57|\n",
      "+---+------+------+------+\n",
      "only showing top 3 rows\n",
      "\n"
     ]
    }
   ],
   "source": [
    "#truy vấn cột theo ý muốn:\n",
    "df_sub = df.select('id','gender','height','weight')\n",
    "df_sub.show(3)"
   ]
  },
  {
   "cell_type": "code",
   "execution_count": 59,
   "metadata": {},
   "outputs": [],
   "source": [
    "import matplotlib.pyplot as plt\n",
    "import seaborn as sns"
   ]
  },
  {
   "cell_type": "code",
   "execution_count": 71,
   "metadata": {},
   "outputs": [
    {
     "data": {
      "text/html": [
       "<div>\n",
       "<style scoped>\n",
       "    .dataframe tbody tr th:only-of-type {\n",
       "        vertical-align: middle;\n",
       "    }\n",
       "\n",
       "    .dataframe tbody tr th {\n",
       "        vertical-align: top;\n",
       "    }\n",
       "\n",
       "    .dataframe thead th {\n",
       "        text-align: right;\n",
       "    }\n",
       "</style>\n",
       "<table border=\"1\" class=\"dataframe\">\n",
       "  <thead>\n",
       "    <tr style=\"text-align: right;\">\n",
       "      <th></th>\n",
       "      <th>height_gender</th>\n",
       "      <th>F</th>\n",
       "      <th>M</th>\n",
       "    </tr>\n",
       "  </thead>\n",
       "  <tbody>\n",
       "    <tr>\n",
       "      <th>0</th>\n",
       "      <td>138</td>\n",
       "      <td>2</td>\n",
       "      <td>0</td>\n",
       "    </tr>\n",
       "    <tr>\n",
       "      <th>1</th>\n",
       "      <td>170</td>\n",
       "      <td>1</td>\n",
       "      <td>24</td>\n",
       "    </tr>\n",
       "    <tr>\n",
       "      <th>2</th>\n",
       "      <td>142</td>\n",
       "      <td>11</td>\n",
       "      <td>0</td>\n",
       "    </tr>\n",
       "    <tr>\n",
       "      <th>3</th>\n",
       "      <td>153</td>\n",
       "      <td>73</td>\n",
       "      <td>1</td>\n",
       "    </tr>\n",
       "    <tr>\n",
       "      <th>4</th>\n",
       "      <td>174</td>\n",
       "      <td>0</td>\n",
       "      <td>2</td>\n",
       "    </tr>\n",
       "  </tbody>\n",
       "</table>\n",
       "</div>"
      ],
      "text/plain": [
       "  height_gender   F   M\n",
       "0           138   2   0\n",
       "1           170   1  24\n",
       "2           142  11   0\n",
       "3           153  73   1\n",
       "4           174   0   2"
      ]
     },
     "execution_count": 71,
     "metadata": {},
     "output_type": "execute_result"
    }
   ],
   "source": [
    "#crosstab\n",
    "gender_height = df_sub.crosstab('height','gender').toPandas()\n",
    "gender_height.head()"
   ]
  },
  {
   "cell_type": "code",
   "execution_count": 89,
   "metadata": {},
   "outputs": [
    {
     "name": "stderr",
     "output_type": "stream",
     "text": [
      "c:\\program files\\python36\\lib\\site-packages\\seaborn\\distributions.py:2557: FutureWarning: `distplot` is a deprecated function and will be removed in a future version. Please adapt your code to use either `displot` (a figure-level function with similar flexibility) or `histplot` (an axes-level function for histograms).\n",
      "  warnings.warn(msg, FutureWarning)\n",
      "c:\\program files\\python36\\lib\\site-packages\\seaborn\\distributions.py:2557: FutureWarning: `distplot` is a deprecated function and will be removed in a future version. Please adapt your code to use either `displot` (a figure-level function with similar flexibility) or `histplot` (an axes-level function for histograms).\n",
      "  warnings.warn(msg, FutureWarning)\n"
     ]
    },
    {
     "data": {
      "image/png": "[encoded data removed]",
      "text/plain": [
       "<Figure size 432x288 with 2 Axes>"
      ]
     },
     "metadata": {
      "needs_background": "light"
     },
     "output_type": "display_data"
    }
   ],
   "source": [
    "plt.subplot(1,2,1)\n",
    "sns.distplot(gender_height['F'])\n",
    "plt.subplot(1,2,2)\n",
    "sns.distplot(gender_height['M'],color ='r');"
   ]
  },
  {
   "cell_type": "code",
   "execution_count": 79,
   "metadata": {},
   "outputs": [
    {
     "name": "stdout",
     "output_type": "stream",
     "text": [
      "+------+------------------+\n",
      "|gender|       avg(height)|\n",
      "+------+------------------+\n",
      "|     F|153.29118329466357|\n",
      "|     M|165.05915492957746|\n",
      "+------+------------------+\n",
      "\n"
     ]
    }
   ],
   "source": [
    "df_sub.groupby('gender').agg({'height':'mean'}).show()"
   ]
  },
  {
   "cell_type": "code",
   "execution_count": 87,
   "metadata": {},
   "outputs": [
    {
     "name": "stdout",
     "output_type": "stream",
     "text": [
      "+------+-----------+-----------+\n",
      "|gender|min(weight)|min(height)|\n",
      "+------+-----------+-----------+\n",
      "|     F|         34|        136|\n",
      "|     M|         38|        146|\n",
      "+------+-----------+-----------+\n",
      "\n"
     ]
    }
   ],
   "source": [
    "df_sub.groupby('gender').agg({'height':'min','weight':'min'}).show()"
   ]
  },
  {
   "cell_type": "code",
   "execution_count": 90,
   "metadata": {},
   "outputs": [
    {
     "name": "stdout",
     "output_type": "stream",
     "text": [
      "+------+\n",
      "|gender|\n",
      "+------+\n",
      "|     F|\n",
      "|     M|\n",
      "+------+\n",
      "\n"
     ]
    }
   ],
   "source": [
    "df_sub.select('gender').distinct().show()"
   ]
  },
  {
   "cell_type": "code",
   "execution_count": 94,
   "metadata": {},
   "outputs": [
    {
     "data": {
      "text/plain": [
       "48"
      ]
     },
     "execution_count": 94,
     "metadata": {},
     "output_type": "execute_result"
    }
   ],
   "source": [
    "df_sub.select('height').distinct().count()"
   ]
  },
  {
   "cell_type": "code",
   "execution_count": 95,
   "metadata": {},
   "outputs": [
    {
     "data": {
      "text/plain": [
       "55"
      ]
     },
     "execution_count": 95,
     "metadata": {},
     "output_type": "execute_result"
    }
   ],
   "source": [
    "df_sub.select('weight').distinct().count()"
   ]
  },
  {
   "cell_type": "code",
   "execution_count": 99,
   "metadata": {},
   "outputs": [
    {
     "name": "stdout",
     "output_type": "stream",
     "text": [
      "+---+\n",
      "|age|\n",
      "+---+\n",
      "| 13|\n",
      "| 14|\n",
      "| 14|\n",
      "+---+\n",
      "only showing top 3 rows\n",
      "\n"
     ]
    }
   ],
   "source": [
    "df.select('age').orderBy(df.age.asc()).show(3)"
   ]
  },
  {
   "cell_type": "code",
   "execution_count": 100,
   "metadata": {},
   "outputs": [
    {
     "name": "stdout",
     "output_type": "stream",
     "text": [
      "+---+\n",
      "|age|\n",
      "+---+\n",
      "| 88|\n",
      "| 87|\n",
      "| 85|\n",
      "+---+\n",
      "only showing top 3 rows\n",
      "\n"
     ]
    }
   ],
   "source": [
    "df.select('age').orderBy(df.age.desc()).show(3)"
   ]
  },
  {
   "cell_type": "code",
   "execution_count": 107,
   "metadata": {},
   "outputs": [
    {
     "name": "stdout",
     "output_type": "stream",
     "text": [
      "+---+\n",
      "|age|\n",
      "+---+\n",
      "| 13|\n",
      "| 14|\n",
      "| 14|\n",
      "| 14|\n",
      "| 14|\n",
      "+---+\n",
      "only showing top 5 rows\n",
      "\n"
     ]
    }
   ],
   "source": [
    "df.select('age').sort(df.age).show(5)"
   ]
  },
  {
   "cell_type": "markdown",
   "metadata": {},
   "source": [
    "### Tạo cột mới:"
   ]
  },
  {
   "cell_type": "code",
   "execution_count": 111,
   "metadata": {},
   "outputs": [],
   "source": [
    "df_sub = df_sub.withColumn('bmi',(df_sub.weight/(df_sub.height/100)**2))"
   ]
  },
  {
   "cell_type": "code",
   "execution_count": 112,
   "metadata": {},
   "outputs": [
    {
     "name": "stdout",
     "output_type": "stream",
     "text": [
      "+---+------+------+------+------------------+\n",
      "| id|gender|height|weight|               bmi|\n",
      "+---+------+------+------+------------------+\n",
      "|  1|     F|   150|    49| 21.77777777777778|\n",
      "|  2|     M|   165|    52|19.100091827364558|\n",
      "|  3|     F|   157|    57|23.124670372023203|\n",
      "|  4|     F|   156|    53|  21.7784352399737|\n",
      "|  5|     M|   160|    51|19.921874999999996|\n",
      "+---+------+------+------+------------------+\n",
      "only showing top 5 rows\n",
      "\n"
     ]
    }
   ],
   "source": [
    "df_sub.show(5)"
   ]
  },
  {
   "cell_type": "markdown",
   "metadata": {},
   "source": [
    "### Đổi tên cột"
   ]
  },
  {
   "cell_type": "code",
   "execution_count": 113,
   "metadata": {},
   "outputs": [
    {
     "name": "stdout",
     "output_type": "stream",
     "text": [
      "+---+---+------+------+------------------+\n",
      "| id|sex|height|weight|               bmi|\n",
      "+---+---+------+------+------------------+\n",
      "|  1|  F|   150|    49| 21.77777777777778|\n",
      "|  2|  M|   165|    52|19.100091827364558|\n",
      "|  3|  F|   157|    57|23.124670372023203|\n",
      "+---+---+------+------+------------------+\n",
      "only showing top 3 rows\n",
      "\n"
     ]
    }
   ],
   "source": [
    "df_sub.withColumnRenamed('gender','sex').show(3)"
   ]
  },
  {
   "cell_type": "markdown",
   "metadata": {},
   "source": [
    "### Xóa cột"
   ]
  },
  {
   "cell_type": "code",
   "execution_count": 114,
   "metadata": {},
   "outputs": [
    {
     "name": "stdout",
     "output_type": "stream",
     "text": [
      "+---+------+------+------+----+---+----+----+-----+-----+-----+\n",
      "| id|gender|height|weight| bmi|age| bmc| bmd|  fat| lean|pcfat|\n",
      "+---+------+------+------+----+---+----+----+-----+-----+-----+\n",
      "|  1|     F|   150|    49|21.8| 53|1312|0.88|17802|28600| 37.3|\n",
      "|  2|     M|   165|    52|19.1| 65|1309|0.84| 8381|40229| 16.8|\n",
      "|  3|     F|   157|    57|23.1| 64|1230|0.84|19221|36057| 34.0|\n",
      "+---+------+------+------+----+---+----+----+-----+-----+-----+\n",
      "only showing top 3 rows\n",
      "\n"
     ]
    }
   ],
   "source": [
    "df.show(3)"
   ]
  },
  {
   "cell_type": "code",
   "execution_count": 117,
   "metadata": {},
   "outputs": [
    {
     "name": "stdout",
     "output_type": "stream",
     "text": [
      "+---+------+------+------+---+----+----+-----+-----+\n",
      "| id|gender|height|weight|age| bmc| bmd|  fat|pcfat|\n",
      "+---+------+------+------+---+----+----+-----+-----+\n",
      "|  1|     F|   150|    49| 53|1312|0.88|17802| 37.3|\n",
      "|  2|     M|   165|    52| 65|1309|0.84| 8381| 16.8|\n",
      "|  3|     F|   157|    57| 64|1230|0.84|19221| 34.0|\n",
      "+---+------+------+------+---+----+----+-----+-----+\n",
      "only showing top 3 rows\n",
      "\n"
     ]
    }
   ],
   "source": [
    "df.drop('bmi','lean').show(3)"
   ]
  },
  {
   "cell_type": "code",
   "execution_count": 122,
   "metadata": {},
   "outputs": [
    {
     "data": {
      "text/plain": [
       "['id',\n",
       " 'gender',\n",
       " 'height',\n",
       " 'weight',\n",
       " 'bmi',\n",
       " 'age',\n",
       " 'bmc',\n",
       " 'bmd',\n",
       " 'fat',\n",
       " 'lean',\n",
       " 'pcfat']"
      ]
     },
     "execution_count": 122,
     "metadata": {},
     "output_type": "execute_result"
    }
   ],
   "source": [
    "df.columns"
   ]
  },
  {
   "cell_type": "code",
   "execution_count": 123,
   "metadata": {},
   "outputs": [
    {
     "data": {
      "text/plain": [
       "100000"
      ]
     },
     "execution_count": 123,
     "metadata": {},
     "output_type": "execute_result"
    }
   ],
   "source": [
    "people.count()"
   ]
  },
  {
   "cell_type": "code",
   "execution_count": 124,
   "metadata": {},
   "outputs": [
    {
     "data": {
      "text/plain": [
       "98080"
      ]
     },
     "execution_count": 124,
     "metadata": {},
     "output_type": "execute_result"
    }
   ],
   "source": [
    "people.dropna().count()"
   ]
  },
  {
   "cell_type": "markdown",
   "metadata": {},
   "source": [
    "### Lọc dữ liệu"
   ]
  },
  {
   "cell_type": "code",
   "execution_count": 126,
   "metadata": {},
   "outputs": [
    {
     "name": "stdout",
     "output_type": "stream",
     "text": [
      "+-----+---------+-----------------+------+-------------+\n",
      "|  _c0|person_id|             name|   sex|date of birth|\n",
      "+-----+---------+-----------------+------+-------------+\n",
      "| 1394|     1494| Vernon Steinberg|  male|   1976-03-31|\n",
      "| 8235|     8335|Veronica Revering|female|   2026-12-24|\n",
      "|11524|    11624|  Velda Creveling|female|   1998-06-14|\n",
      "|12287|    12387|       Verna King|female|   1982-03-20|\n",
      "|13458|    13558|     Vivian Young|female|   1928-04-08|\n",
      "+-----+---------+-----------------+------+-------------+\n",
      "only showing top 5 rows\n",
      "\n"
     ]
    }
   ],
   "source": [
    "people.filter(people.name.like('V%g')).show(5)"
   ]
  },
  {
   "cell_type": "code",
   "execution_count": 143,
   "metadata": {},
   "outputs": [
    {
     "data": {
      "text/plain": [
       "6075"
      ]
     },
     "execution_count": 143,
     "metadata": {},
     "output_type": "execute_result"
    }
   ],
   "source": [
    "people.filter(people.name.like('%na%')).count()"
   ]
  },
  {
   "cell_type": "code",
   "execution_count": 141,
   "metadata": {},
   "outputs": [
    {
     "data": {
      "text/plain": [
       "6075"
      ]
     },
     "execution_count": 141,
     "metadata": {},
     "output_type": "execute_result"
    }
   ],
   "source": [
    "people.where(people.name.contains('na')).count()"
   ]
  },
  {
   "cell_type": "code",
   "execution_count": 146,
   "metadata": {},
   "outputs": [
    {
     "name": "stdout",
     "output_type": "stream",
     "text": [
      "+----+---------+------------------+------+-------------+\n",
      "| _c0|person_id|              name|   sex|date of birth|\n",
      "+----+---------+------------------+------+-------------+\n",
      "|   5|      105|     David Simmons|  male|   1999-12-30|\n",
      "|  77|      177|     Frances Myers|female|   1999-09-25|\n",
      "| 114|      214|     Mary Mininger|female|   1999-07-03|\n",
      "| 287|      387|   Bella Dickinson|female|   1999-04-23|\n",
      "| 329|      429|Charles Schlarbaum|  male|   1999-07-16|\n",
      "| 403|      503|     Deborah Souza|female|   1999-01-06|\n",
      "| 467|      567| William Sylvestre|  male|   1999-04-17|\n",
      "| 544|      644|         John Bono|  male|   1999-07-20|\n",
      "| 556|      656|       Susan Brund|female|   1999-10-25|\n",
      "| 565|      665|      Kelly Aleman|female|   1999-01-20|\n",
      "| 567|      667|    Tamara Stewart|female|   1999-10-15|\n",
      "| 581|      681|        Ethel Noll|female|   1999-11-24|\n",
      "| 718|      818|       Linda Reyes|female|   1999-01-14|\n",
      "| 789|      889|      Timothy Holt|  male|   1999-05-09|\n",
      "|1061|     1161|      Theresa Shaw|female|   1999-05-22|\n",
      "|1078|     1178|       Clara Ellis|female|   1999-06-20|\n",
      "|1097|     1197|     Lorene Watson|female|   1999-10-22|\n",
      "|1113|     1213|  Lawrence Tronaas|  male|   1999-10-30|\n",
      "|1123|     1223|       Martha Blue|female|   1999-05-05|\n",
      "|1140|     1240|        Anna Faris|female|   1999-10-27|\n",
      "+----+---------+------------------+------+-------------+\n",
      "only showing top 20 rows\n",
      "\n"
     ]
    }
   ],
   "source": [
    "people.filter((people['date of birth'] >= '1999-01-01') & (people['date of birth'] <= '1999-12-31')).show()"
   ]
  },
  {
   "cell_type": "markdown",
   "metadata": {},
   "source": [
    "# SQL Function"
   ]
  },
  {
   "cell_type": "markdown",
   "metadata": {},
   "source": [
    "#### Chuyển đổi kiểu dữ liệu bằng cast"
   ]
  },
  {
   "cell_type": "code",
   "execution_count": 157,
   "metadata": {},
   "outputs": [],
   "source": [
    "from pyspark.sql.functions import * #import hàm"
   ]
  },
  {
   "cell_type": "code",
   "execution_count": 155,
   "metadata": {},
   "outputs": [],
   "source": [
    "from pyspark.sql.types import * #import type"
   ]
  },
  {
   "cell_type": "code",
   "execution_count": 159,
   "metadata": {},
   "outputs": [],
   "source": [
    "people = people.withColumn('year', substring('date of birth',pos=0,len=4).cast(IntegerType()))"
   ]
  },
  {
   "cell_type": "code",
   "execution_count": 160,
   "metadata": {},
   "outputs": [
    {
     "name": "stdout",
     "output_type": "stream",
     "text": [
      "+---+---------+--------------+------+-------------+----+\n",
      "|_c0|person_id|          name|   sex|date of birth|year|\n",
      "+---+---------+--------------+------+-------------+----+\n",
      "|  0|      100|Penelope Lewis|female|   1990-08-31|1990|\n",
      "|  1|      101| David Anthony|  male|   1971-10-14|1971|\n",
      "|  2|      102|     Ida Shipp|female|   1962-05-24|1962|\n",
      "+---+---------+--------------+------+-------------+----+\n",
      "only showing top 3 rows\n",
      "\n"
     ]
    }
   ],
   "source": [
    "people.show(3)"
   ]
  },
  {
   "cell_type": "code",
   "execution_count": 164,
   "metadata": {},
   "outputs": [
    {
     "data": {
      "text/plain": [
       "39593"
      ]
     },
     "execution_count": 164,
     "metadata": {},
     "output_type": "execute_result"
    }
   ],
   "source": [
    "people.filter(people.year >= 1989).count()"
   ]
  },
  {
   "cell_type": "markdown",
   "metadata": {},
   "source": [
    "### when"
   ]
  },
  {
   "cell_type": "code",
   "execution_count": 172,
   "metadata": {},
   "outputs": [
    {
     "name": "stdout",
     "output_type": "stream",
     "text": [
      "+------+------+-----+\n",
      "|weight|height| Type|\n",
      "+------+------+-----+\n",
      "|    49|   150|short|\n",
      "|    52|   165| null|\n",
      "|    57|   157| null|\n",
      "+------+------+-----+\n",
      "only showing top 3 rows\n",
      "\n"
     ]
    }
   ],
   "source": [
    "df.select(df.weight,df.height, when(df.height <= 150,'short')\n",
    "          .alias('Type')).show(3)"
   ]
  },
  {
   "cell_type": "code",
   "execution_count": 178,
   "metadata": {},
   "outputs": [
    {
     "name": "stdout",
     "output_type": "stream",
     "text": [
      "+------+------+------+------+\n",
      "|height|weight|gender|  type|\n",
      "+------+------+------+------+\n",
      "|   150|    49|     F| short|\n",
      "|   165|    52|     M|  tall|\n",
      "|   157|    57|     F|Medium|\n",
      "|   156|    53|     F|Medium|\n",
      "|   160|    51|     M|Medium|\n",
      "+------+------+------+------+\n",
      "only showing top 5 rows\n",
      "\n"
     ]
    }
   ],
   "source": [
    "df.select(df.height,df.weight,df.gender,when(df.height <= 150,'short')\n",
    "          .when(df.height <= 160,'Medium')\n",
    "          .otherwise('tall').alias('type')).show(5)"
   ]
  },
  {
   "cell_type": "markdown",
   "metadata": {},
   "source": [
    "### User defined function - UDF"
   ]
  },
  {
   "cell_type": "code",
   "execution_count": 181,
   "metadata": {},
   "outputs": [],
   "source": [
    "from pyspark.sql.functions import udf"
   ]
  },
  {
   "cell_type": "code",
   "execution_count": 182,
   "metadata": {},
   "outputs": [],
   "source": [
    "def bmi_classification(bmi):\n",
    "    bmi_type = ''\n",
    "    if bmi <= 18.5:\n",
    "        bmi_type = 'Nhe'\n",
    "    elif bmi <=24.9:\n",
    "        bmi_type = 'Vua'\n",
    "    elif bmi <= 29.9:\n",
    "        bmi_type = 'Nang'\n",
    "    else:\n",
    "        bmi_type = 'Obesity'\n",
    "    return bmi_type"
   ]
  },
  {
   "cell_type": "code",
   "execution_count": 190,
   "metadata": {},
   "outputs": [
    {
     "name": "stdout",
     "output_type": "stream",
     "text": [
      "+---+------+------+------+------------------+--------+\n",
      "| id|gender|height|weight|               bmi|bmi_type|\n",
      "+---+------+------+------+------------------+--------+\n",
      "|  1|     F|   150|    49| 21.77777777777778|     Vua|\n",
      "|  2|     M|   165|    52|19.100091827364558|     Vua|\n",
      "|  3|     F|   157|    57|23.124670372023203|     Vua|\n",
      "|  4|     F|   156|    53|  21.7784352399737|     Vua|\n",
      "|  5|     M|   160|    51|19.921874999999996|     Vua|\n",
      "+---+------+------+------+------------------+--------+\n",
      "only showing top 5 rows\n",
      "\n"
     ]
    }
   ],
   "source": [
    "udf_bmi = udf(bmi_classification,StringType())\n",
    "df_sub.withColumn('bmi_type',udf_bmi(df_sub.bmi)).show(5)"
   ]
  },
  {
   "cell_type": "markdown",
   "metadata": {},
   "source": [
    "# Thực thi SQL Query"
   ]
  },
  {
   "cell_type": "code",
   "execution_count": 191,
   "metadata": {},
   "outputs": [],
   "source": [
    "people.createOrReplaceTempView('people_view')"
   ]
  },
  {
   "cell_type": "code",
   "execution_count": 200,
   "metadata": {},
   "outputs": [],
   "source": [
    "query = 'select name from people_view'"
   ]
  },
  {
   "cell_type": "code",
   "execution_count": 201,
   "metadata": {},
   "outputs": [],
   "source": [
    "people_names = spark.sql(query)"
   ]
  },
  {
   "cell_type": "code",
   "execution_count": 202,
   "metadata": {},
   "outputs": [
    {
     "name": "stdout",
     "output_type": "stream",
     "text": [
      "+--------------+\n",
      "|          name|\n",
      "+--------------+\n",
      "|Penelope Lewis|\n",
      "| David Anthony|\n",
      "|     Ida Shipp|\n",
      "|  Joanna Moore|\n",
      "|Lisandra Ortiz|\n",
      "+--------------+\n",
      "only showing top 5 rows\n",
      "\n"
     ]
    }
   ],
   "source": [
    "people_names.show(5)"
   ]
  },
  {
   "cell_type": "code",
   "execution_count": 205,
   "metadata": {},
   "outputs": [],
   "source": [
    "query = 'select * from people_view where sex == \"male\"'"
   ]
  },
  {
   "cell_type": "code",
   "execution_count": 207,
   "metadata": {},
   "outputs": [
    {
     "name": "stdout",
     "output_type": "stream",
     "text": [
      "+---+---------+----------------+----+-------------+----+\n",
      "|_c0|person_id|            name| sex|date of birth|year|\n",
      "+---+---------+----------------+----+-------------+----+\n",
      "|  1|      101|   David Anthony|male|   1971-10-14|1971|\n",
      "|  5|      105|   David Simmons|male|   1999-12-30|1999|\n",
      "|  6|      106|   Edward Hudson|male|   1983-05-09|1983|\n",
      "|  7|      107|    Albert Jones|male|   1990-09-13|1990|\n",
      "|  8|      108|Leonard Cavender|male|   1958-08-08|1958|\n",
      "+---+---------+----------------+----+-------------+----+\n",
      "only showing top 5 rows\n",
      "\n"
     ]
    }
   ],
   "source": [
    "spark.sql(query).show(5)"
   ]
  },
  {
   "cell_type": "code",
   "execution_count": 208,
   "metadata": {},
   "outputs": [
    {
     "data": {
      "text/plain": [
       "['_c0', 'person_id', 'name', 'sex', 'date of birth', 'year']"
      ]
     },
     "execution_count": 208,
     "metadata": {},
     "output_type": "execute_result"
    }
   ],
   "source": [
    "people.columns"
   ]
  },
  {
   "cell_type": "code",
   "execution_count": 210,
   "metadata": {},
   "outputs": [
    {
     "name": "stdout",
     "output_type": "stream",
     "text": [
      "+----------------+------+\n",
      "|            name|   sex|\n",
      "+----------------+------+\n",
      "|   David Anthony|  male|\n",
      "| Spencer Layland|  male|\n",
      "|   James Vantull|  male|\n",
      "|      Tina Smith|female|\n",
      "|    Johnny Scott|  male|\n",
      "|    Martha Jones|female|\n",
      "|  Dennis Mcguire|  male|\n",
      "|Heather Gonzalez|female|\n",
      "|    Barry Jensen|  male|\n",
      "|   Andrew Batres|  male|\n",
      "|    Debra Bowden|female|\n",
      "|Jennifer Sanchez|female|\n",
      "|Kathleen Salazar|  null|\n",
      "|     Tracy Drain|female|\n",
      "| William Yoshida|  male|\n",
      "|   Eric Williams|  male|\n",
      "|   Howard Steele|  male|\n",
      "|     Noriko Chow|female|\n",
      "|     Agnes Baird|female|\n",
      "|   Evelyn Soltis|female|\n",
      "+----------------+------+\n",
      "only showing top 20 rows\n",
      "\n"
     ]
    }
   ],
   "source": [
    "spark.sql('select name,sex from people_view where year == 1971').show()"
   ]
  },
  {
   "cell_type": "code",
   "execution_count": 216,
   "metadata": {},
   "outputs": [
    {
     "name": "stdout",
     "output_type": "stream",
     "text": [
      "+---+---------+----+---+-------------+----+\n",
      "|_c0|person_id|name|sex|date of birth|year|\n",
      "+---+---------+----+---+-------------+----+\n",
      "+---+---------+----+---+-------------+----+\n",
      "\n"
     ]
    }
   ],
   "source": [
    "spark.sql('select * from people_view where ((sex <> \"male\") and (sex <> \"female\"))').show()"
   ]
  },
  {
   "cell_type": "code",
   "execution_count": 222,
   "metadata": {},
   "outputs": [
    {
     "data": {
      "text/plain": [
       "49066"
      ]
     },
     "execution_count": 222,
     "metadata": {},
     "output_type": "execute_result"
    }
   ],
   "source": [
    "spark.sql('select * from people_view where sex == \"male\"').count()"
   ]
  },
  {
   "cell_type": "code",
   "execution_count": 221,
   "metadata": {},
   "outputs": [
    {
     "data": {
      "text/plain": [
       "49066"
      ]
     },
     "execution_count": 221,
     "metadata": {},
     "output_type": "execute_result"
    }
   ],
   "source": [
    "spark.sql('select * from people_view where sex != \"female\"').count()"
   ]
  },
  {
   "cell_type": "code",
   "execution_count": 219,
   "metadata": {},
   "outputs": [
    {
     "data": {
      "text/plain": [
       "100000"
      ]
     },
     "execution_count": 219,
     "metadata": {},
     "output_type": "execute_result"
    }
   ],
   "source": [
    "spark.sql('select * from people_view').count()"
   ]
  },
  {
   "cell_type": "code",
   "execution_count": 226,
   "metadata": {},
   "outputs": [
    {
     "name": "stdout",
     "output_type": "stream",
     "text": [
      "+------+-----+\n",
      "|   sex|count|\n",
      "+------+-----+\n",
      "|  null| 1920|\n",
      "|female|49014|\n",
      "|  male|49066|\n",
      "+------+-----+\n",
      "\n"
     ]
    }
   ],
   "source": [
    "people.select(people.sex).groupby(people.sex).count().show()"
   ]
  },
  {
   "cell_type": "code",
   "execution_count": null,
   "metadata": {},
   "outputs": [],
   "source": []
  }
 ],
 "metadata": {
  "kernelspec": {
   "display_name": "Python 3",
   "language": "python",
   "name": "python3"
  },
  "language_info": {
   "codemirror_mode": {
    "name": "ipython",
    "version": 3
   },
   "file_extension": ".py",
   "mimetype": "text/x-python",
   "name": "python",
   "nbconvert_exporter": "python",
   "pygments_lexer": "ipython3",
   "version": "3.8.5"
  }
 },
 "nbformat": 4,
 "nbformat_minor": 4
}
