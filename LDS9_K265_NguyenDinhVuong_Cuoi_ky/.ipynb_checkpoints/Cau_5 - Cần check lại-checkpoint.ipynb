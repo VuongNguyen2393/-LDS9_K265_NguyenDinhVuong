{
 "cells": [
  {
   "cell_type": "code",
   "execution_count": 1,
   "metadata": {},
   "outputs": [],
   "source": [
    "import findspark\n",
    "findspark.init()"
   ]
  },
  {
   "cell_type": "code",
   "execution_count": 2,
   "metadata": {},
   "outputs": [],
   "source": [
    "from pyspark import SparkContext\n",
    "from pyspark.sql import SparkSession\n",
    "sc = SparkContext(master='local',appName='Ex5')\n",
    "spark = SparkSession(sc)"
   ]
  },
  {
   "cell_type": "code",
   "execution_count": 3,
   "metadata": {},
   "outputs": [],
   "source": [
    "from pyspark.sql.functions import col"
   ]
  },
  {
   "cell_type": "markdown",
   "metadata": {},
   "source": [
    "## Data Exploring"
   ]
  },
  {
   "cell_type": "code",
   "execution_count": 4,
   "metadata": {},
   "outputs": [],
   "source": [
    "data = spark.read.csv('./data/ratings_Office_Products.csv',inferSchema=True,header=False)"
   ]
  },
  {
   "cell_type": "code",
   "execution_count": 5,
   "metadata": {},
   "outputs": [
    {
     "name": "stdout",
     "output_type": "stream",
     "text": [
      "+--------------+----------+---+----------+\n",
      "|           _c0|       _c1|_c2|       _c3|\n",
      "+--------------+----------+---+----------+\n",
      "|A2UESEUCI73CBO|0078800242|5.0|1374192000|\n",
      "|A3BBNK2R5TUYGV|0113000316|5.0|1359417600|\n",
      "| A5J78T14FJ5DU|0113000316|3.0|1318723200|\n",
      "|A2P462UH5L6T57|043928631X|5.0|1356912000|\n",
      "|A2E0X1MWNRTQF4|0439340039|1.0|1379721600|\n",
      "| AAYGDWCI3LDQP|0439394058|5.0|1405382400|\n",
      "| AI7SARYVM8FGA|0439394058|4.0|1212624000|\n",
      "|A1BUVOGGFTGMBN|0439394058|2.0|1389744000|\n",
      "|A35UM9B38X7AYS|0439394058|5.0|1386201600|\n",
      "| AM2U8KJROWYKR|0439394058|4.0|1346976000|\n",
      "|A1V1VJ3W1SYJU0|0439394058|5.0|1374969600|\n",
      "|A2GLL6RNXXGBCM|0439394058|5.0|1395014400|\n",
      "|A1I4RQ7F65L5VZ|0439394058|4.0|1394841600|\n",
      "|A39L54MWP4C86L|0439394058|5.0|1349308800|\n",
      "| AYVV0R6U3HRIR|0439394058|2.0|1399593600|\n",
      "|A2VBRY9MELAPYT|0439394058|5.0|1381795200|\n",
      "|A3340VCHPJTEC8|0439394058|5.0|1372118400|\n",
      "|A1U3WTFJZO6CJL|0439394058|5.0|1386806400|\n",
      "|A1LSX9PO1Q2XF1|0439394058|5.0|1370390400|\n",
      "|A33X18AKYV9GBB|0439394058|5.0|1386028800|\n",
      "+--------------+----------+---+----------+\n",
      "only showing top 20 rows\n",
      "\n"
     ]
    }
   ],
   "source": [
    "data.show()"
   ]
  },
  {
   "cell_type": "code",
   "execution_count": 6,
   "metadata": {},
   "outputs": [],
   "source": [
    "data = data.select(col('_c0').alias('reviewerID'),\n",
    "            col('_c1').alias('asin'),\n",
    "            col('_c2').alias('overall'),\n",
    "            col('_c3').alias('unixReviewTime'))"
   ]
  },
  {
   "cell_type": "code",
   "execution_count": 7,
   "metadata": {},
   "outputs": [
    {
     "name": "stdout",
     "output_type": "stream",
     "text": [
      "root\n",
      " |-- reviewerID: string (nullable = true)\n",
      " |-- asin: string (nullable = true)\n",
      " |-- overall: double (nullable = true)\n",
      " |-- unixReviewTime: integer (nullable = true)\n",
      "\n"
     ]
    }
   ],
   "source": [
    "data.printSchema()"
   ]
  },
  {
   "cell_type": "markdown",
   "metadata": {},
   "source": [
    "## Cleaning Data"
   ]
  },
  {
   "cell_type": "code",
   "execution_count": 8,
   "metadata": {},
   "outputs": [
    {
     "name": "stdout",
     "output_type": "stream",
     "text": [
      "+--------------+----------+-------+--------------+\n",
      "|    reviewerID|      asin|overall|unixReviewTime|\n",
      "+--------------+----------+-------+--------------+\n",
      "|A2UESEUCI73CBO|0078800242|    5.0|    1374192000|\n",
      "|A3BBNK2R5TUYGV|0113000316|    5.0|    1359417600|\n",
      "| A5J78T14FJ5DU|0113000316|    3.0|    1318723200|\n",
      "|A2P462UH5L6T57|043928631X|    5.0|    1356912000|\n",
      "|A2E0X1MWNRTQF4|0439340039|    1.0|    1379721600|\n",
      "| AAYGDWCI3LDQP|0439394058|    5.0|    1405382400|\n",
      "| AI7SARYVM8FGA|0439394058|    4.0|    1212624000|\n",
      "|A1BUVOGGFTGMBN|0439394058|    2.0|    1389744000|\n",
      "|A35UM9B38X7AYS|0439394058|    5.0|    1386201600|\n",
      "| AM2U8KJROWYKR|0439394058|    4.0|    1346976000|\n",
      "|A1V1VJ3W1SYJU0|0439394058|    5.0|    1374969600|\n",
      "|A2GLL6RNXXGBCM|0439394058|    5.0|    1395014400|\n",
      "|A1I4RQ7F65L5VZ|0439394058|    4.0|    1394841600|\n",
      "|A39L54MWP4C86L|0439394058|    5.0|    1349308800|\n",
      "| AYVV0R6U3HRIR|0439394058|    2.0|    1399593600|\n",
      "|A2VBRY9MELAPYT|0439394058|    5.0|    1381795200|\n",
      "|A3340VCHPJTEC8|0439394058|    5.0|    1372118400|\n",
      "|A1U3WTFJZO6CJL|0439394058|    5.0|    1386806400|\n",
      "|A1LSX9PO1Q2XF1|0439394058|    5.0|    1370390400|\n",
      "|A33X18AKYV9GBB|0439394058|    5.0|    1386028800|\n",
      "+--------------+----------+-------+--------------+\n",
      "only showing top 20 rows\n",
      "\n"
     ]
    }
   ],
   "source": [
    "data.show()"
   ]
  },
  {
   "cell_type": "markdown",
   "metadata": {},
   "source": [
    "### Check missing value:"
   ]
  },
  {
   "cell_type": "code",
   "execution_count": 9,
   "metadata": {},
   "outputs": [],
   "source": [
    "from pyspark.sql.functions import when, count, isnan, isnull"
   ]
  },
  {
   "cell_type": "code",
   "execution_count": 10,
   "metadata": {},
   "outputs": [
    {
     "data": {
      "text/html": [
       "<div>\n",
       "<style scoped>\n",
       "    .dataframe tbody tr th:only-of-type {\n",
       "        vertical-align: middle;\n",
       "    }\n",
       "\n",
       "    .dataframe tbody tr th {\n",
       "        vertical-align: top;\n",
       "    }\n",
       "\n",
       "    .dataframe thead th {\n",
       "        text-align: right;\n",
       "    }\n",
       "</style>\n",
       "<table border=\"1\" class=\"dataframe\">\n",
       "  <thead>\n",
       "    <tr style=\"text-align: right;\">\n",
       "      <th></th>\n",
       "      <th>reviewerID</th>\n",
       "      <th>asin</th>\n",
       "      <th>overall</th>\n",
       "      <th>unixReviewTime</th>\n",
       "    </tr>\n",
       "  </thead>\n",
       "  <tbody>\n",
       "    <tr>\n",
       "      <th>0</th>\n",
       "      <td>0</td>\n",
       "      <td>0</td>\n",
       "      <td>0</td>\n",
       "      <td>0</td>\n",
       "    </tr>\n",
       "  </tbody>\n",
       "</table>\n",
       "</div>"
      ],
      "text/plain": [
       "   reviewerID  asin  overall  unixReviewTime\n",
       "0           0     0        0               0"
      ]
     },
     "execution_count": 10,
     "metadata": {},
     "output_type": "execute_result"
    }
   ],
   "source": [
    "data.select([count(when(isnan(col),col)).alias(col) for col in data.columns]).toPandas()"
   ]
  },
  {
   "cell_type": "code",
   "execution_count": 11,
   "metadata": {},
   "outputs": [
    {
     "data": {
      "text/html": [
       "<div>\n",
       "<style scoped>\n",
       "    .dataframe tbody tr th:only-of-type {\n",
       "        vertical-align: middle;\n",
       "    }\n",
       "\n",
       "    .dataframe tbody tr th {\n",
       "        vertical-align: top;\n",
       "    }\n",
       "\n",
       "    .dataframe thead th {\n",
       "        text-align: right;\n",
       "    }\n",
       "</style>\n",
       "<table border=\"1\" class=\"dataframe\">\n",
       "  <thead>\n",
       "    <tr style=\"text-align: right;\">\n",
       "      <th></th>\n",
       "      <th>reviewerID</th>\n",
       "      <th>asin</th>\n",
       "      <th>overall</th>\n",
       "      <th>unixReviewTime</th>\n",
       "    </tr>\n",
       "  </thead>\n",
       "  <tbody>\n",
       "    <tr>\n",
       "      <th>0</th>\n",
       "      <td>0</td>\n",
       "      <td>0</td>\n",
       "      <td>0</td>\n",
       "      <td>0</td>\n",
       "    </tr>\n",
       "  </tbody>\n",
       "</table>\n",
       "</div>"
      ],
      "text/plain": [
       "   reviewerID  asin  overall  unixReviewTime\n",
       "0           0     0        0               0"
      ]
     },
     "execution_count": 11,
     "metadata": {},
     "output_type": "execute_result"
    }
   ],
   "source": [
    "data.select([count(when(isnull(col),col)).alias(col) for col in data.columns]).toPandas()"
   ]
  },
  {
   "cell_type": "markdown",
   "metadata": {},
   "source": [
    "**Nhận xét :**\n",
    "\n",
    "- Dữ liệu tốt không có dữ liệu nào bị thiếu. "
   ]
  },
  {
   "cell_type": "markdown",
   "metadata": {},
   "source": [
    "### Check duplicate values:"
   ]
  },
  {
   "cell_type": "code",
   "execution_count": 12,
   "metadata": {},
   "outputs": [
    {
     "data": {
      "text/plain": [
       "0"
      ]
     },
     "execution_count": 12,
     "metadata": {},
     "output_type": "execute_result"
    }
   ],
   "source": [
    "duplicate_row = data.count() - data.distinct().count()\n",
    "duplicate_row"
   ]
  },
  {
   "cell_type": "markdown",
   "metadata": {},
   "source": [
    "**Nhận xét:**\n",
    "- Dữ liệu không bị trùng lặp"
   ]
  },
  {
   "cell_type": "markdown",
   "metadata": {},
   "source": [
    "### Encoder"
   ]
  },
  {
   "cell_type": "code",
   "execution_count": 13,
   "metadata": {},
   "outputs": [],
   "source": [
    "from pyspark.ml.feature import StringIndexer, OneHotEncoder\n",
    "from pyspark.ml import Pipeline"
   ]
  },
  {
   "cell_type": "code",
   "execution_count": 14,
   "metadata": {},
   "outputs": [
    {
     "data": {
      "text/plain": [
       "['reviewerID', 'asin', 'overall', 'unixReviewTime']"
      ]
     },
     "execution_count": 14,
     "metadata": {},
     "output_type": "execute_result"
    }
   ],
   "source": [
    "data.columns"
   ]
  },
  {
   "cell_type": "code",
   "execution_count": 15,
   "metadata": {},
   "outputs": [],
   "source": [
    "string_idx = StringIndexer(inputCols=['reviewerID', 'asin'], outputCols=['reviewerID_idx', 'asin_idx'])"
   ]
  },
  {
   "cell_type": "code",
   "execution_count": 16,
   "metadata": {},
   "outputs": [],
   "source": [
    "final_data = string_idx.fit(data).transform(data)"
   ]
  },
  {
   "cell_type": "code",
   "execution_count": 17,
   "metadata": {},
   "outputs": [
    {
     "name": "stdout",
     "output_type": "stream",
     "text": [
      "+--------------+----------+-------+--------------+--------------+--------+\n",
      "|    reviewerID|      asin|overall|unixReviewTime|reviewerID_idx|asin_idx|\n",
      "+--------------+----------+-------+--------------+--------------+--------+\n",
      "|A2UESEUCI73CBO|0078800242|    5.0|    1374192000|      112059.0| 71702.0|\n",
      "|A3BBNK2R5TUYGV|0113000316|    5.0|    1359417600|      621354.0| 51103.0|\n",
      "| A5J78T14FJ5DU|0113000316|    3.0|    1318723200|       26236.0| 51103.0|\n",
      "+--------------+----------+-------+--------------+--------------+--------+\n",
      "only showing top 3 rows\n",
      "\n"
     ]
    }
   ],
   "source": [
    "final_data.show(3)"
   ]
  },
  {
   "cell_type": "code",
   "execution_count": 18,
   "metadata": {},
   "outputs": [],
   "source": [
    "train_data , test_data = final_data.randomSplit([0.8,0.2])"
   ]
  },
  {
   "cell_type": "markdown",
   "metadata": {},
   "source": [
    "## Build model"
   ]
  },
  {
   "cell_type": "code",
   "execution_count": 19,
   "metadata": {},
   "outputs": [],
   "source": [
    "from pyspark.ml.recommendation import ALS\n",
    "from pyspark.ml.evaluation import RegressionEvaluator"
   ]
  },
  {
   "cell_type": "code",
   "execution_count": 20,
   "metadata": {},
   "outputs": [],
   "source": [
    "als = ALS(maxIter=10, \n",
    "          regParam=0.01,\n",
    "          userCol='reviewerID_idx', \n",
    "          itemCol='asin_idx', \n",
    "          ratingCol='overall',\n",
    "         alpha=1)"
   ]
  },
  {
   "cell_type": "code",
   "execution_count": 21,
   "metadata": {},
   "outputs": [],
   "source": [
    "model = als.fit(train_data)"
   ]
  },
  {
   "cell_type": "markdown",
   "metadata": {},
   "source": [
    "### Evaluate the Result"
   ]
  },
  {
   "cell_type": "code",
   "execution_count": 22,
   "metadata": {},
   "outputs": [],
   "source": [
    "prediction = model.transform(test_data)"
   ]
  },
  {
   "cell_type": "code",
   "execution_count": 23,
   "metadata": {},
   "outputs": [
    {
     "name": "stdout",
     "output_type": "stream",
     "text": [
      "+--------------+----------+-------+--------------+--------------+--------+----------+\n",
      "|    reviewerID|      asin|overall|unixReviewTime|reviewerID_idx|asin_idx|prediction|\n",
      "+--------------+----------+-------+--------------+--------------+--------+----------+\n",
      "|A37H473BZHX9P0|B003QR87I6|    5.0|    1370390400|        2142.0|   148.0| -3.506613|\n",
      "|A1B4WOF6SC74PS|B003QR87I6|    5.0|    1392508800|      228359.0|   148.0|       NaN|\n",
      "|A3ETZLY3N8VSZE|B003QR87I6|    4.0|    1368057600|      640481.0|   148.0|       NaN|\n",
      "|A2B0UOUFIDIRE3|B003QR87I6|    4.0|    1395014400|       96591.0|   148.0| 0.3777519|\n",
      "|A1CN0KDI3C0M1O|B003QR87I6|    5.0|    1378425600|       69896.0|   148.0|       NaN|\n",
      "|A32BD3SXG903HT|B003QR87I6|    1.0|    1302998400|      572109.0|   148.0|       NaN|\n",
      "|A32R7W1DRKEX3O|B003QR87I6|    4.0|    1364515200|      574472.0|   148.0|       NaN|\n",
      "|A350ZGMBOU5A9N|B003QR87I6|    5.0|    1316390400|      587016.0|   148.0|       NaN|\n",
      "|A2HD02N80BHG98|B003QR87I6|    4.0|    1396915200|      458639.0|   148.0|       NaN|\n",
      "|A1GVEO0RIF35EH|B003QR87I6|    4.0|    1357603200|       73174.0|   148.0| 0.4993678|\n",
      "|A1CC1GHMFUS72N|B003QR87I6|    5.0|    1324771200|      234966.0|   148.0|       NaN|\n",
      "| AXNDH2DADRQTS|B003QR87I6|    5.0|    1371600000|       28760.0|   148.0| 0.2775302|\n",
      "|A33CNFK776MTWR|B003QR87I6|    5.0|    1390262400|       14163.0|   148.0| 1.4156438|\n",
      "|A2QTNMG7EKJVN0|B003QR87I6|    4.0|    1357257600|       22387.0|   148.0|0.37825042|\n",
      "|A1PPKZ4C646PXB|B003QR87I6|    3.0|    1360713600|       80004.0|   148.0| 1.1529764|\n",
      "|A3F4GOBMBJAFXL|B003QR87I6|    5.0|    1290556800|      642107.0|   148.0|       NaN|\n",
      "|A3GFRPE54A514P|B003QR87I6|    5.0|    1349308800|      649279.0|   148.0|       NaN|\n",
      "|A13USPA4S80Q3W|B003QR87I6|    4.0|    1394928000|      188645.0|   148.0|       NaN|\n",
      "|A1YWELG5RPN2WB|B003QR87I6|    5.0|    1358553600|      358017.0|   148.0|       NaN|\n",
      "|A3U6QM5A7D8E3H|B003QR87I6|    5.0|    1392854400|        3549.0|   148.0|-3.7055247|\n",
      "+--------------+----------+-------+--------------+--------------+--------+----------+\n",
      "only showing top 20 rows\n",
      "\n"
     ]
    }
   ],
   "source": [
    "prediction.show()"
   ]
  },
  {
   "cell_type": "code",
   "execution_count": 24,
   "metadata": {},
   "outputs": [
    {
     "name": "stdout",
     "output_type": "stream",
     "text": [
      "+--------------+----------+-------+--------------+--------------+--------+----------+\n",
      "|    reviewerID|      asin|overall|unixReviewTime|reviewerID_idx|asin_idx|prediction|\n",
      "+--------------+----------+-------+--------------+--------------+--------+----------+\n",
      "|A104N0PWB1WMY6|B004ZIAP5I|    5.0|    1381881600|           1.0| 62484.0| 3.8169193|\n",
      "|A104N0PWB1WMY6|B004ZI96U8|    5.0|    1392595200|           1.0| 38004.0|  3.974701|\n",
      "|A104N0PWB1WMY6|B00C2ST59K|    5.0|    1383177600|           1.0| 49723.0| 4.2776594|\n",
      "|A104N0PWB1WMY6|B005TA1M80|    5.0|    1392854400|           1.0| 63850.0| 3.8169193|\n",
      "|A104N0PWB1WMY6|B004ZIANOQ|    5.0|    1381795200|           1.0| 28313.0| 3.7245648|\n",
      "|A104N0PWB1WMY6|B00FY8UZ76|    5.0|    1403481600|           1.0|126785.0|       NaN|\n",
      "|A104N0PWB1WMY6|B002TMMEVA|    5.0|    1393113600|           1.0| 58338.0| 3.8169193|\n",
      "|A104N0PWB1WMY6|B00C2STDEM|    5.0|    1383523200|           1.0| 68801.0|       NaN|\n",
      "|A104N0PWB1WMY6|B009MPAAFO|    5.0|    1381363200|           1.0| 67245.0| 3.8169193|\n",
      "|A104N0PWB1WMY6|B002TMTTFO|    5.0|    1392854400|           1.0| 58356.0| 3.8169193|\n",
      "|A104N0PWB1WMY6|B002TMVA6U|    5.0|    1392681600|           1.0| 58364.0| 3.8169193|\n",
      "|A104N0PWB1WMY6|B002TMRZ5K|    5.0|    1382227200|           1.0| 58352.0|       NaN|\n",
      "|A104N0PWB1WMY6|B004ZIAG7U|    5.0|    1403568000|           1.0| 62481.0|0.17057675|\n",
      "|A104N0PWB1WMY6|B009MPH22S|    5.0|    1392595200|           1.0| 67251.0| 3.8169193|\n",
      "|A104N0PWB1WMY6|B00FY8UAA8|    5.0|    1386547200|           1.0| 70870.0| 3.8169193|\n",
      "|A104N0PWB1WMY6|B00FDT78Y4|    5.0|    1393113600|           1.0| 70652.0| 3.8169193|\n",
      "|A104N0PWB1WMY6|B002TMU85E|    5.0|    1379376000|           1.0| 16557.0| 2.2968197|\n",
      "|A104N0PWB1WMY6|B00FDT6JXA|    5.0|    1393113600|           1.0| 70650.0| 3.8169193|\n",
      "|A104N0PWB1WMY6|B009MPGVS4|    5.0|    1392681600|           1.0| 49030.0| 3.8748765|\n",
      "|A104N0PWB1WMY6|B002TMTYW2|    5.0|    1393113600|           1.0| 58359.0| 3.8169193|\n",
      "+--------------+----------+-------+--------------+--------------+--------+----------+\n",
      "only showing top 20 rows\n",
      "\n"
     ]
    }
   ],
   "source": [
    "prediction.where(col('reviewerID_idx')==1).show()"
   ]
  },
  {
   "cell_type": "code",
   "execution_count": null,
   "metadata": {},
   "outputs": [],
   "source": []
  }
 ],
 "metadata": {
  "kernelspec": {
   "display_name": "Python 3",
   "language": "python",
   "name": "python3"
  },
  "language_info": {
   "codemirror_mode": {
    "name": "ipython",
    "version": 3
   },
   "file_extension": ".py",
   "mimetype": "text/x-python",
   "name": "python",
   "nbconvert_exporter": "python",
   "pygments_lexer": "ipython3",
   "version": "3.8.5"
  }
 },
 "nbformat": 4,
 "nbformat_minor": 4
}
