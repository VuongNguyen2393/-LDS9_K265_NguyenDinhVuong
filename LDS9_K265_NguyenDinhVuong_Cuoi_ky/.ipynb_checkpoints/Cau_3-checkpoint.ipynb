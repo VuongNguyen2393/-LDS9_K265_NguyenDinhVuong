{
 "cells": [
  {
   "cell_type": "code",
   "execution_count": 1,
   "metadata": {},
   "outputs": [],
   "source": [
    "import findspark\n",
    "findspark.init()"
   ]
  },
  {
   "cell_type": "code",
   "execution_count": 2,
   "metadata": {},
   "outputs": [],
   "source": [
    "from pyspark import SparkContext\n",
    "from pyspark.sql import SparkSession\n",
    "import pandas as pd\n",
    "import numpy as np\n",
    "import matplotlib.pyplot as plt\n",
    "import seaborn as sns"
   ]
  },
  {
   "cell_type": "code",
   "execution_count": 3,
   "metadata": {},
   "outputs": [],
   "source": [
    "sc = SparkContext()\n",
    "spark = SparkSession(sc)"
   ]
  },
  {
   "cell_type": "markdown",
   "metadata": {},
   "source": [
    "### Data Exploring"
   ]
  },
  {
   "cell_type": "code",
   "execution_count": 4,
   "metadata": {},
   "outputs": [],
   "source": [
    "file = pd.read_excel('./data/CCPP/Folds5x2_pp.xlsx')"
   ]
  },
  {
   "cell_type": "code",
   "execution_count": 5,
   "metadata": {},
   "outputs": [],
   "source": [
    "data = spark.createDataFrame(file)"
   ]
  },
  {
   "cell_type": "code",
   "execution_count": 6,
   "metadata": {},
   "outputs": [
    {
     "name": "stdout",
     "output_type": "stream",
     "text": [
      "+-----+-----+-------+-----+------+\n",
      "|   AT|    V|     AP|   RH|    PE|\n",
      "+-----+-----+-------+-----+------+\n",
      "|14.96|41.76|1024.07|73.17|463.26|\n",
      "|25.18|62.96|1020.04|59.08|444.37|\n",
      "| 5.11| 39.4|1012.16|92.14|488.56|\n",
      "|20.86|57.32|1010.24|76.64|446.48|\n",
      "|10.82| 37.5|1009.23|96.62| 473.9|\n",
      "|26.27|59.44|1012.23|58.77|443.67|\n",
      "|15.89|43.96|1014.02|75.24|467.35|\n",
      "| 9.48|44.71|1019.12|66.43|478.42|\n",
      "|14.64| 45.0|1021.78|41.25|475.98|\n",
      "|11.74|43.56|1015.14|70.72| 477.5|\n",
      "|17.99|43.72|1008.64|75.04|453.02|\n",
      "|20.14|46.93|1014.66|64.22|453.99|\n",
      "|24.34| 73.5|1011.31|84.15|440.29|\n",
      "|25.71|58.59|1012.77|61.83|451.28|\n",
      "|26.19|69.34|1009.48|87.59|433.99|\n",
      "|21.42|43.79|1015.76|43.08|462.19|\n",
      "|18.21| 45.0|1022.86|48.84|467.54|\n",
      "|11.04|41.74| 1022.6|77.51| 477.2|\n",
      "|14.45|52.75|1023.97|63.59|459.85|\n",
      "|13.97|38.47|1015.15|55.28| 464.3|\n",
      "+-----+-----+-------+-----+------+\n",
      "only showing top 20 rows\n",
      "\n"
     ]
    }
   ],
   "source": [
    "data.show()"
   ]
  },
  {
   "cell_type": "code",
   "execution_count": 7,
   "metadata": {},
   "outputs": [
    {
     "name": "stdout",
     "output_type": "stream",
     "text": [
      "root\n",
      " |-- AT: double (nullable = true)\n",
      " |-- V: double (nullable = true)\n",
      " |-- AP: double (nullable = true)\n",
      " |-- RH: double (nullable = true)\n",
      " |-- PE: double (nullable = true)\n",
      "\n"
     ]
    }
   ],
   "source": [
    "data.printSchema()"
   ]
  },
  {
   "cell_type": "code",
   "execution_count": 8,
   "metadata": {},
   "outputs": [
    {
     "data": {
      "text/html": [
       "<div>\n",
       "<style scoped>\n",
       "    .dataframe tbody tr th:only-of-type {\n",
       "        vertical-align: middle;\n",
       "    }\n",
       "\n",
       "    .dataframe tbody tr th {\n",
       "        vertical-align: top;\n",
       "    }\n",
       "\n",
       "    .dataframe thead th {\n",
       "        text-align: right;\n",
       "    }\n",
       "</style>\n",
       "<table border=\"1\" class=\"dataframe\">\n",
       "  <thead>\n",
       "    <tr style=\"text-align: right;\">\n",
       "      <th></th>\n",
       "      <th>AT</th>\n",
       "      <th>V</th>\n",
       "      <th>AP</th>\n",
       "      <th>RH</th>\n",
       "      <th>PE</th>\n",
       "    </tr>\n",
       "  </thead>\n",
       "  <tbody>\n",
       "    <tr>\n",
       "      <th>AT</th>\n",
       "      <td>1.000000</td>\n",
       "      <td>0.844107</td>\n",
       "      <td>-0.507549</td>\n",
       "      <td>-0.542535</td>\n",
       "      <td>-0.948128</td>\n",
       "    </tr>\n",
       "    <tr>\n",
       "      <th>V</th>\n",
       "      <td>0.844107</td>\n",
       "      <td>1.000000</td>\n",
       "      <td>-0.413502</td>\n",
       "      <td>-0.312187</td>\n",
       "      <td>-0.869780</td>\n",
       "    </tr>\n",
       "    <tr>\n",
       "      <th>AP</th>\n",
       "      <td>-0.507549</td>\n",
       "      <td>-0.413502</td>\n",
       "      <td>1.000000</td>\n",
       "      <td>0.099574</td>\n",
       "      <td>0.518429</td>\n",
       "    </tr>\n",
       "    <tr>\n",
       "      <th>RH</th>\n",
       "      <td>-0.542535</td>\n",
       "      <td>-0.312187</td>\n",
       "      <td>0.099574</td>\n",
       "      <td>1.000000</td>\n",
       "      <td>0.389794</td>\n",
       "    </tr>\n",
       "    <tr>\n",
       "      <th>PE</th>\n",
       "      <td>-0.948128</td>\n",
       "      <td>-0.869780</td>\n",
       "      <td>0.518429</td>\n",
       "      <td>0.389794</td>\n",
       "      <td>1.000000</td>\n",
       "    </tr>\n",
       "  </tbody>\n",
       "</table>\n",
       "</div>"
      ],
      "text/plain": [
       "          AT         V        AP        RH        PE\n",
       "AT  1.000000  0.844107 -0.507549 -0.542535 -0.948128\n",
       "V   0.844107  1.000000 -0.413502 -0.312187 -0.869780\n",
       "AP -0.507549 -0.413502  1.000000  0.099574  0.518429\n",
       "RH -0.542535 -0.312187  0.099574  1.000000  0.389794\n",
       "PE -0.948128 -0.869780  0.518429  0.389794  1.000000"
      ]
     },
     "execution_count": 8,
     "metadata": {},
     "output_type": "execute_result"
    }
   ],
   "source": [
    "data.toPandas().corr()"
   ]
  },
  {
   "cell_type": "markdown",
   "metadata": {},
   "source": [
    "**Nhận xét :**\n",
    "\n",
    "**Phân tích đơn biến:**\n",
    "- Input bao gồm 5 features: Ambient Temperature (**AT**), Exhaust Vacuum (**V**), Ambient Pressure (**AP**) và Relative Humidity (**RH**) đều là biến số (numerical)\n",
    "- Output:  electrical energy output (**PE**)\n",
    "\n",
    "**Phân tích đa biến**\n",
    "- Output **PE** có tương quan nghịch khá mạnh với 2 thuộc tính **AT** và **V**"
   ]
  },
  {
   "cell_type": "markdown",
   "metadata": {},
   "source": [
    "## Data Cleaning"
   ]
  },
  {
   "cell_type": "markdown",
   "metadata": {},
   "source": [
    "### Check missing values"
   ]
  },
  {
   "cell_type": "code",
   "execution_count": 9,
   "metadata": {},
   "outputs": [],
   "source": [
    "from pyspark.sql.functions import col, when, isnan, isnull, count"
   ]
  },
  {
   "cell_type": "code",
   "execution_count": 10,
   "metadata": {},
   "outputs": [
    {
     "data": {
      "text/html": [
       "<div>\n",
       "<style scoped>\n",
       "    .dataframe tbody tr th:only-of-type {\n",
       "        vertical-align: middle;\n",
       "    }\n",
       "\n",
       "    .dataframe tbody tr th {\n",
       "        vertical-align: top;\n",
       "    }\n",
       "\n",
       "    .dataframe thead th {\n",
       "        text-align: right;\n",
       "    }\n",
       "</style>\n",
       "<table border=\"1\" class=\"dataframe\">\n",
       "  <thead>\n",
       "    <tr style=\"text-align: right;\">\n",
       "      <th></th>\n",
       "      <th>AT</th>\n",
       "      <th>V</th>\n",
       "      <th>AP</th>\n",
       "      <th>RH</th>\n",
       "      <th>PE</th>\n",
       "    </tr>\n",
       "  </thead>\n",
       "  <tbody>\n",
       "    <tr>\n",
       "      <th>0</th>\n",
       "      <td>0</td>\n",
       "      <td>0</td>\n",
       "      <td>0</td>\n",
       "      <td>0</td>\n",
       "      <td>0</td>\n",
       "    </tr>\n",
       "  </tbody>\n",
       "</table>\n",
       "</div>"
      ],
      "text/plain": [
       "   AT  V  AP  RH  PE\n",
       "0   0  0   0   0   0"
      ]
     },
     "execution_count": 10,
     "metadata": {},
     "output_type": "execute_result"
    }
   ],
   "source": [
    "data.select([count(when(isnan(col),col)).alias(col) for col in data.columns]).toPandas()"
   ]
  },
  {
   "cell_type": "code",
   "execution_count": 11,
   "metadata": {},
   "outputs": [
    {
     "data": {
      "text/html": [
       "<div>\n",
       "<style scoped>\n",
       "    .dataframe tbody tr th:only-of-type {\n",
       "        vertical-align: middle;\n",
       "    }\n",
       "\n",
       "    .dataframe tbody tr th {\n",
       "        vertical-align: top;\n",
       "    }\n",
       "\n",
       "    .dataframe thead th {\n",
       "        text-align: right;\n",
       "    }\n",
       "</style>\n",
       "<table border=\"1\" class=\"dataframe\">\n",
       "  <thead>\n",
       "    <tr style=\"text-align: right;\">\n",
       "      <th></th>\n",
       "      <th>AT</th>\n",
       "      <th>V</th>\n",
       "      <th>AP</th>\n",
       "      <th>RH</th>\n",
       "      <th>PE</th>\n",
       "    </tr>\n",
       "  </thead>\n",
       "  <tbody>\n",
       "    <tr>\n",
       "      <th>0</th>\n",
       "      <td>0</td>\n",
       "      <td>0</td>\n",
       "      <td>0</td>\n",
       "      <td>0</td>\n",
       "      <td>0</td>\n",
       "    </tr>\n",
       "  </tbody>\n",
       "</table>\n",
       "</div>"
      ],
      "text/plain": [
       "   AT  V  AP  RH  PE\n",
       "0   0  0   0   0   0"
      ]
     },
     "execution_count": 11,
     "metadata": {},
     "output_type": "execute_result"
    }
   ],
   "source": [
    "data.select([count(when(isnull(col),col)).alias(col) for col in data.columns]).toPandas()"
   ]
  },
  {
   "cell_type": "markdown",
   "metadata": {},
   "source": [
    "**Nhận xét :** Dữ liệu không bị thiếu"
   ]
  },
  {
   "cell_type": "markdown",
   "metadata": {},
   "source": [
    "### Check duplicate values"
   ]
  },
  {
   "cell_type": "code",
   "execution_count": 12,
   "metadata": {},
   "outputs": [
    {
     "data": {
      "text/plain": [
       "41"
      ]
     },
     "execution_count": 12,
     "metadata": {},
     "output_type": "execute_result"
    }
   ],
   "source": [
    "duplicate_row = data.count() - data.distinct().count()\n",
    "duplicate_row"
   ]
  },
  {
   "cell_type": "markdown",
   "metadata": {},
   "source": [
    "### Check duplicate values"
   ]
  },
  {
   "cell_type": "markdown",
   "metadata": {},
   "source": [
    "**Nhận xét:** Xuất hiện dữ liệu bị trùng lặp, tiến hành drop những dòng bị lặp lại."
   ]
  },
  {
   "cell_type": "code",
   "execution_count": 13,
   "metadata": {},
   "outputs": [],
   "source": [
    "data = data.drop_duplicates()"
   ]
  },
  {
   "cell_type": "markdown",
   "metadata": {},
   "source": [
    "### Data scaling"
   ]
  },
  {
   "cell_type": "code",
   "execution_count": 14,
   "metadata": {},
   "outputs": [
    {
     "data": {
      "image/png": "[encoded data removed]",
      "text/plain": [
       "<Figure size 1440x1296 with 5 Axes>"
      ]
     },
     "metadata": {
      "needs_background": "light"
     },
     "output_type": "display_data"
    }
   ],
   "source": [
    "plt.figure(figsize=(20,18))\n",
    "for i, col in enumerate(data.columns):\n",
    "    plt.subplot(1,len(data.columns),i+1)\n",
    "    sns.distplot(data.select(col).toPandas())"
   ]
  },
  {
   "cell_type": "code",
   "execution_count": 15,
   "metadata": {},
   "outputs": [
    {
     "data": {
      "image/png": "[encoded data removed]",
      "text/plain": [
       "<Figure size 1440x1296 with 5 Axes>"
      ]
     },
     "metadata": {
      "needs_background": "light"
     },
     "output_type": "display_data"
    }
   ],
   "source": [
    "plt.figure(figsize=(20,18))\n",
    "for i, col in enumerate(data.columns):\n",
    "    plt.subplot(1,len(data.columns),i+1)\n",
    "    sns.boxplot(data.select(col).toPandas())"
   ]
  },
  {
   "cell_type": "code",
   "execution_count": 16,
   "metadata": {},
   "outputs": [
    {
     "data": {
      "text/plain": [
       "['AT', 'V', 'AP', 'RH', 'PE']"
      ]
     },
     "execution_count": 16,
     "metadata": {},
     "output_type": "execute_result"
    }
   ],
   "source": [
    "data.columns"
   ]
  },
  {
   "cell_type": "markdown",
   "metadata": {},
   "source": [
    "**Nhận xét:**\n",
    "- Dữ liệu input có đơn vị đo khác nhau, range đo cũng chênh lệch lớn so với nhau đặc biệt là thuộc tính AP và phần còn lại. \n",
    "- Tổng quan từng thuộc tính có phân phối không đồng đều. Thuộc tính **AT**,**V** không có hình dạng chuông, thuộc tính **RH** lệch phải. \n",
    "- Thuộc tính **AP** và **RH** chứa outliers\n",
    "- *Từ những nhận xét trên ta tiến hành sử dụng Robust Scale cho dữ liệu*\n"
   ]
  },
  {
   "cell_type": "code",
   "execution_count": 17,
   "metadata": {},
   "outputs": [],
   "source": [
    "from pyspark.ml.feature import RobustScaler\n",
    "from pyspark.ml.linalg import Vectors\n",
    "from pyspark.ml.feature import VectorAssembler\n",
    "from pyspark.ml import Pipeline"
   ]
  },
  {
   "cell_type": "code",
   "execution_count": 18,
   "metadata": {},
   "outputs": [],
   "source": [
    "for col in ['AT', 'V', 'AP', 'RH']:\n",
    "    Q3 = np.quantile(data.select(col).toPandas(),.75)\n",
    "    Q1 = np.quantile(data.select(col).toPandas(),.25)\n",
    "    data = data.withColumn(col+'_scaled',(data[col]-Q1)/(Q3-Q1))"
   ]
  },
  {
   "cell_type": "code",
   "execution_count": 19,
   "metadata": {},
   "outputs": [
    {
     "name": "stdout",
     "output_type": "stream",
     "text": [
      "+-----+-----+-------+-----+------+--------------------+--------------------+--------------------+--------------------+\n",
      "|   AT|    V|     AP|   RH|    PE|           AT_scaled|            V_scaled|           AP_scaled|           RH_scaled|\n",
      "+-----+-----+-------+-----+------+--------------------+--------------------+--------------------+--------------------+\n",
      "|24.54|60.29|1017.42|58.94|447.67|  0.9039408866995072|  0.7488897860314895|  1.0271102895871735|-0.20651920838183951|\n",
      "|10.59|42.49|1009.59|77.36|477.49| -0.2413793103448275| 0.03027856277755349|0.062230437461490436|   0.651222351571595|\n",
      "| 26.7|66.56|1005.31|71.97|430.21|  1.0812807881773399|  1.0020185708518368| -0.4651879235982855| 0.40023282887078004|\n",
      "|21.24|41.67| 1012.6|49.27|459.81|  0.6330049261083742|-0.00282599919257...|  0.4331484904497822| -0.6568102444703143|\n",
      "|27.74|74.78|1010.05|60.82|436.87|  1.1666666666666665|  1.3338716188938229|  0.1189155884165024|-0.11897555296856813|\n",
      "| 9.08|36.71|1025.07|81.32|479.02|-0.36535303776683076| -0.2030682276947921|  1.9698089956869849|  0.8356228172293363|\n",
      "|25.06|65.46|1014.37|38.82|443.03|  0.9466338259441706|  0.9576100121114246|  0.6512630930375801|  -1.143422584400466|\n",
      "| 30.2|73.67|1006.31|62.14|428.72|  1.3686371100164203|  1.2890593459830437|-0.34195933456563005|-0.05750873108265424|\n",
      "|16.53|46.18| 1010.2|95.42|458.67| 0.24630541871921194| 0.17924909164311656| 0.13739987677141194|  1.4922002328288713|\n",
      "|22.55|70.79|1006.19|92.56|436.43|  0.7405582922824302|  1.1727896649172387|-0.35674676524953525|  1.3590221187427245|\n",
      "|17.66|60.08|1017.22|86.96|456.62|   0.339080459770115|  0.7404117884537745|  1.0024645717806508|  1.0982537834691501|\n",
      "|23.17|62.39|1008.04|89.42|439.29|  0.7914614121510675|  0.8336697618086393| -0.1287738755391339|  1.2128055878928992|\n",
      "|23.89|65.18|1012.46|78.29|438.97|  0.8505747126436781|  0.9463060153411386|  0.4158964879852121|   0.694528521536671|\n",
      "| 26.2|65.18|1011.42|47.82|440.07|  1.0402298850574712|  0.9463060153411386| 0.28773875539124094| -0.7243306169965077|\n",
      "|26.01|74.33|1015.69|81.22|435.82|  1.0246305418719213|  1.3157044812272907|  0.8139248305606914|  0.8309662398137371|\n",
      "|28.26|72.43|1006.68| 72.3| 426.2|    1.20935960591133|   1.238998788857489|  -0.296364756623547| 0.41559953434225844|\n",
      "|15.37|43.34|1014.84|80.37|460.02| 0.15106732348111657| 0.06459426725878083|  0.7091805298829315|  0.7913853317811412|\n",
      "| 15.4|38.73|1000.67|79.71|469.18| 0.15353037766830877|-0.12151796528058154| -1.0369685767098051|  0.7606519208381839|\n",
      "|28.15|72.99|1007.62|70.03|431.83|  1.2003284072249587|  1.2616067823980617|-0.18052988293284414| 0.30989522700814914|\n",
      "|23.78| 49.3| 1003.3|76.56|439.83|  0.8415435139573071| 0.30520791279773896| -0.7128773875539218|  0.6139697322467988|\n",
      "+-----+-----+-------+-----+------+--------------------+--------------------+--------------------+--------------------+\n",
      "only showing top 20 rows\n",
      "\n"
     ]
    }
   ],
   "source": [
    "data.show()"
   ]
  },
  {
   "cell_type": "markdown",
   "metadata": {},
   "source": [
    "### Train-Test Split"
   ]
  },
  {
   "cell_type": "code",
   "execution_count": 20,
   "metadata": {},
   "outputs": [],
   "source": [
    "assembler = VectorAssembler(inputCols=['AT_scaled','V_scaled','AP_scaled','RH_scaled'],outputCol='features')"
   ]
  },
  {
   "cell_type": "code",
   "execution_count": 21,
   "metadata": {},
   "outputs": [],
   "source": [
    "data = assembler.transform(data)\n",
    "data_final = data.select('features','PE')"
   ]
  },
  {
   "cell_type": "code",
   "execution_count": 22,
   "metadata": {},
   "outputs": [],
   "source": [
    "train_data, test_data = data_final.randomSplit([0.8,0.2],seed = 41)"
   ]
  },
  {
   "cell_type": "markdown",
   "metadata": {},
   "source": [
    "## Build models"
   ]
  },
  {
   "cell_type": "markdown",
   "metadata": {},
   "source": [
    "### Linear Regression"
   ]
  },
  {
   "cell_type": "code",
   "execution_count": 23,
   "metadata": {},
   "outputs": [],
   "source": [
    "from pyspark.ml.regression import LinearRegression\n",
    "from pyspark.ml.evaluation import MulticlassClassificationEvaluator"
   ]
  },
  {
   "cell_type": "code",
   "execution_count": 24,
   "metadata": {},
   "outputs": [
    {
     "name": "stdout",
     "output_type": "stream",
     "text": [
      "Coefficients : [-24.019762651809803,-5.953782213136453,0.44822844926062305,-3.3599596464025447]\n"
     ]
    }
   ],
   "source": [
    "#training model\n",
    "linear = LinearRegression(labelCol='PE')\n",
    "linear_model = linear.fit(train_data)\n",
    "print('Coefficients :', linear_model.coefficients)"
   ]
  },
  {
   "cell_type": "code",
   "execution_count": 25,
   "metadata": {},
   "outputs": [
    {
     "name": "stdout",
     "output_type": "stream",
     "text": [
      "+--------------------+------+------------------+\n",
      "|            features|    PE|        prediction|\n",
      "+--------------------+------+------------------+\n",
      "|[-0.5599343185550...|486.58| 480.7436778810311|\n",
      "|[-0.4712643678160...|484.42| 478.9475894122431|\n",
      "|[-0.2413793103448...|477.49| 474.2729810012803|\n",
      "|[0.15106732348111...|460.02|464.46123725155934|\n",
      "|[0.74055829228243...|436.43|441.31883441178144|\n",
      "|[0.84154351395730...|439.83|446.40230423653384|\n",
      "|[0.85057471264367...|438.97|442.60369279044926|\n",
      "|[1.08128078817733...|430.21|437.32438174374795|\n",
      "|[1.20032840722495...|431.83| 433.3504770422655|\n",
      "|[1.20935960591133...| 426.2|432.86107017027587|\n",
      "|[1.36863711001642...|428.72| 430.3064005645466|\n",
      "|[-0.5714285714285...|483.86| 482.4167957899675|\n",
      "|[-0.2931034482758...|475.91| 477.1539613731564|\n",
      "|[-0.1625615763546...|469.13| 470.3428299515341|\n",
      "|[0.23891625615763...|468.57| 462.7721491676995|\n",
      "|[0.79310344827586...|442.45|  445.204425400219|\n",
      "|[1.00574712643678...|441.71| 442.2058850182823|\n",
      "|[1.34154351395730...| 431.8|  428.898634841334|\n",
      "|[1.63136288998357...|432.44| 427.5150179895359|\n",
      "|[-0.5706075533661...|488.22| 481.1112897729437|\n",
      "+--------------------+------+------------------+\n",
      "only showing top 20 rows\n",
      "\n"
     ]
    }
   ],
   "source": [
    "#Test model\n",
    "test_result = linear_model.transform(test_data)\n",
    "test_result.show()"
   ]
  },
  {
   "cell_type": "code",
   "execution_count": 26,
   "metadata": {},
   "outputs": [
    {
     "name": "stdout",
     "output_type": "stream",
     "text": [
      "RMSE : 4.800743980954522\n",
      "MSE : 23.047142770671073\n",
      "R2 : 0.9198472552717653\n"
     ]
    }
   ],
   "source": [
    "#Check the result\n",
    "test_check = linear_model.evaluate(test_data)\n",
    "print('RMSE :', test_check.rootMeanSquaredError)\n",
    "print('MSE :', test_check.meanSquaredError)\n",
    "print('R2 :', test_check.r2)"
   ]
  },
  {
   "cell_type": "markdown",
   "metadata": {},
   "source": [
    "### Random Forest"
   ]
  },
  {
   "cell_type": "code",
   "execution_count": 27,
   "metadata": {},
   "outputs": [],
   "source": [
    "from pyspark.ml.regression import RandomForestRegressor\n",
    "from pyspark.ml.evaluation import RegressionEvaluator"
   ]
  },
  {
   "cell_type": "code",
   "execution_count": 28,
   "metadata": {},
   "outputs": [],
   "source": [
    "#training model\n",
    "forest = RandomForestRegressor(labelCol='PE')\n",
    "forest_model = forest.fit(train_data)"
   ]
  },
  {
   "cell_type": "code",
   "execution_count": 29,
   "metadata": {},
   "outputs": [
    {
     "name": "stdout",
     "output_type": "stream",
     "text": [
      "+--------------------+------+------------------+\n",
      "|            features|    PE|        prediction|\n",
      "+--------------------+------+------------------+\n",
      "|[-0.5599343185550...|486.58|     481.415813535|\n",
      "|[-0.4712643678160...|484.42| 481.9293807243861|\n",
      "|[-0.2413793103448...|477.49|477.59080606425584|\n",
      "|[0.15106732348111...|460.02| 466.0518026048402|\n",
      "|[0.74055829228243...|436.43|440.09687449295177|\n",
      "|[0.84154351395730...|439.83|443.10173444685404|\n",
      "|[0.85057471264367...|438.97| 443.2123364726097|\n",
      "|[1.08128078817733...|430.21| 434.0938571801297|\n",
      "|[1.20032840722495...|431.83|433.58803839912025|\n",
      "|[1.20935960591133...| 426.2|433.58803839912025|\n",
      "|[1.36863711001642...|428.72|433.37808330112404|\n",
      "|[-0.5714285714285...|483.86|  482.630255666812|\n",
      "|[-0.2931034482758...|475.91| 477.4431778727665|\n",
      "|[-0.1625615763546...|469.13|472.04337065832397|\n",
      "|[0.23891625615763...|468.57|464.63939724675436|\n",
      "|[0.79310344827586...|442.45| 440.7753558864885|\n",
      "|[1.00574712643678...|441.71| 444.3468740887448|\n",
      "|[1.34154351395730...| 431.8|433.09369350992847|\n",
      "|[1.63136288998357...|432.44| 434.7576089240596|\n",
      "|[-0.5706075533661...|488.22| 481.9944811326865|\n",
      "+--------------------+------+------------------+\n",
      "only showing top 20 rows\n",
      "\n"
     ]
    }
   ],
   "source": [
    "#Test model\n",
    "test_result = forest_model.transform(test_data)\n",
    "test_result.show()"
   ]
  },
  {
   "cell_type": "code",
   "execution_count": 30,
   "metadata": {},
   "outputs": [
    {
     "name": "stdout",
     "output_type": "stream",
     "text": [
      "RMSE : 4.484903072492519\n",
      "MSE : 20.114355569652844\n",
      "R2 : 0.9300468251796061\n"
     ]
    }
   ],
   "source": [
    "#Check the result\n",
    "print('RMSE :', RegressionEvaluator(labelCol='PE',metricName='rmse').evaluate(test_result))\n",
    "print('MSE :', RegressionEvaluator(labelCol='PE',metricName='mse').evaluate(test_result))\n",
    "print('R2 :', RegressionEvaluator(labelCol='PE',metricName='r2').evaluate(test_result))"
   ]
  },
  {
   "cell_type": "markdown",
   "metadata": {},
   "source": [
    "### Gradient Boosting Tree"
   ]
  },
  {
   "cell_type": "code",
   "execution_count": 31,
   "metadata": {},
   "outputs": [],
   "source": [
    "from pyspark.ml.regression import GBTRegressor"
   ]
  },
  {
   "cell_type": "code",
   "execution_count": 32,
   "metadata": {},
   "outputs": [],
   "source": [
    "#training model\n",
    "gbt = GBTRegressor(labelCol='PE')\n",
    "gbt_model = gbt.fit(train_data)"
   ]
  },
  {
   "cell_type": "code",
   "execution_count": 33,
   "metadata": {},
   "outputs": [
    {
     "name": "stdout",
     "output_type": "stream",
     "text": [
      "+--------------------+------+------------------+\n",
      "|            features|    PE|        prediction|\n",
      "+--------------------+------+------------------+\n",
      "|[-0.5599343185550...|486.58| 481.0721226302384|\n",
      "|[-0.4712643678160...|484.42| 482.9198703756237|\n",
      "|[-0.2413793103448...|477.49| 477.9905836581148|\n",
      "|[0.15106732348111...|460.02|466.63311102480964|\n",
      "|[0.74055829228243...|436.43| 438.5358028300278|\n",
      "|[0.84154351395730...|439.83| 443.9421781944453|\n",
      "|[0.85057471264367...|438.97|442.02473489543775|\n",
      "|[1.08128078817733...|430.21|432.81381682008936|\n",
      "|[1.20032840722495...|431.83|431.85785339206035|\n",
      "|[1.20935960591133...| 426.2|431.69005023912285|\n",
      "|[1.36863711001642...|428.72| 432.9334490992012|\n",
      "|[-0.5714285714285...|483.86|482.05136297427487|\n",
      "|[-0.2931034482758...|475.91|476.70142981825137|\n",
      "|[-0.1625615763546...|469.13|471.32843480864204|\n",
      "|[0.23891625615763...|468.57| 460.9107661133647|\n",
      "|[0.79310344827586...|442.45|444.35082799868565|\n",
      "|[1.00574712643678...|441.71| 443.3040660584986|\n",
      "|[1.34154351395730...| 431.8| 432.1395185355048|\n",
      "|[1.63136288998357...|432.44|432.82970861529327|\n",
      "|[-0.5706075533661...|488.22| 483.5608775810264|\n",
      "+--------------------+------+------------------+\n",
      "only showing top 20 rows\n",
      "\n"
     ]
    }
   ],
   "source": [
    "#Test model\n",
    "test_result = gbt_model.transform(test_data)\n",
    "test_result.show()"
   ]
  },
  {
   "cell_type": "code",
   "execution_count": 34,
   "metadata": {},
   "outputs": [
    {
     "name": "stdout",
     "output_type": "stream",
     "text": [
      "RMSE : 4.2559314737361165\n",
      "MSE : 18.112952709137673\n",
      "R2 : 0.9370072512147749\n"
     ]
    }
   ],
   "source": [
    "#Check the result\n",
    "print('RMSE :', RegressionEvaluator(labelCol='PE',metricName='rmse').evaluate(test_result))\n",
    "print('MSE :', RegressionEvaluator(labelCol='PE',metricName='mse').evaluate(test_result))\n",
    "print('R2 :', RegressionEvaluator(labelCol='PE',metricName='r2').evaluate(test_result))"
   ]
  },
  {
   "cell_type": "markdown",
   "metadata": {},
   "source": [
    "**Nhận xét :**\n",
    "- Cả 3 model đều cho ra kết quả tốt với RMSE và MSE khá thấp phù hợp để sử dụng dự đoán chỉ số cho PE\n",
    "- Việc sử dụng thuật toán Random Forest cho kết quả tốt hơn so với Linear Regression, cùng với việc áp dụng thuật toán nâng cao hơn là GBT cho phép cải thiện R2 từ 0.91 lên gần 0.94"
   ]
  },
  {
   "cell_type": "code",
   "execution_count": null,
   "metadata": {},
   "outputs": [],
   "source": []
  }
 ],
 "metadata": {
  "kernelspec": {
   "display_name": "Python 3",
   "language": "python",
   "name": "python3"
  },
  "language_info": {
   "codemirror_mode": {
    "name": "ipython",
    "version": 3
   },
   "file_extension": ".py",
   "mimetype": "text/x-python",
   "name": "python",
   "nbconvert_exporter": "python",
   "pygments_lexer": "ipython3",
   "version": "3.8.5"
  }
 },
 "nbformat": 4,
 "nbformat_minor": 4
}
