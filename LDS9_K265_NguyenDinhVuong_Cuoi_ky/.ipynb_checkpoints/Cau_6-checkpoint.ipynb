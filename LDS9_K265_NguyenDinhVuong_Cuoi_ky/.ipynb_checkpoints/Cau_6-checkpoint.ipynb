{
 "cells": [
  {
   "cell_type": "code",
   "execution_count": 1,
   "metadata": {},
   "outputs": [],
   "source": [
    "import findspark\n",
    "findspark.init()"
   ]
  },
  {
   "cell_type": "code",
   "execution_count": 2,
   "metadata": {},
   "outputs": [],
   "source": [
    "from pyspark import SparkContext\n",
    "from pyspark.sql import SparkSession"
   ]
  },
  {
   "cell_type": "code",
   "execution_count": 3,
   "metadata": {},
   "outputs": [],
   "source": [
    "sc = SparkContext(master='local', appName='Ex6')\n",
    "spark = SparkSession(sc)"
   ]
  },
  {
   "cell_type": "code",
   "execution_count": 4,
   "metadata": {},
   "outputs": [],
   "source": [
    "from pyspark.sql.functions import count, col, when, isnan, isnull, concat,lit"
   ]
  },
  {
   "cell_type": "markdown",
   "metadata": {},
   "source": [
    "### Data Exploring"
   ]
  },
  {
   "cell_type": "code",
   "execution_count": 5,
   "metadata": {},
   "outputs": [],
   "source": [
    "data = spark.read.csv('./data/75000/75000-out1.csv',inferSchema=True, header=False)"
   ]
  },
  {
   "cell_type": "code",
   "execution_count": 6,
   "metadata": {},
   "outputs": [
    {
     "name": "stdout",
     "output_type": "stream",
     "text": [
      "+---+----+----+\n",
      "|_c0| _c1| _c2|\n",
      "+---+----+----+\n",
      "|  1|11.0|21.0|\n",
      "|  2| 7.0|11.0|\n",
      "|  3| 3.0|33.0|\n",
      "|  4| 5.0|12.0|\n",
      "|  5| 6.0|18.0|\n",
      "|  6| 2.0| 4.0|\n",
      "|  7|15.0|16.0|\n",
      "|  8| 2.0| 3.0|\n",
      "|  9|18.0|23.0|\n",
      "| 10|44.0|45.0|\n",
      "| 11|17.0|38.0|\n",
      "| 12| 2.0| 3.0|\n",
      "| 13| 3.0|17.0|\n",
      "| 14|17.0|35.0|\n",
      "| 15|15.0|37.0|\n",
      "| 16| 0.0| 2.0|\n",
      "| 17|17.0|47.0|\n",
      "| 18|14.0|null|\n",
      "| 19|16.0|39.0|\n",
      "| 20|13.0|42.0|\n",
      "+---+----+----+\n",
      "only showing top 20 rows\n",
      "\n"
     ]
    }
   ],
   "source": [
    "data.show()"
   ]
  },
  {
   "cell_type": "code",
   "execution_count": 7,
   "metadata": {},
   "outputs": [],
   "source": [
    "data = data.select(col('_c0').alias('Order_ID'), col('_c1').alias('Item_1'), col('_c2').alias('Item_2'))"
   ]
  },
  {
   "cell_type": "code",
   "execution_count": 8,
   "metadata": {},
   "outputs": [
    {
     "name": "stdout",
     "output_type": "stream",
     "text": [
      "+-------+-----------------+------------------+------------------+\n",
      "|summary|         Order_ID|            Item_1|            Item_2|\n",
      "+-------+-----------------+------------------+------------------+\n",
      "|  count|            75000|             75000|             71408|\n",
      "|   mean|          37500.5|10.907106666666667|21.120266636791396|\n",
      "| stddev|21650.77943169714| 9.988473077663798|  11.6884778948076|\n",
      "|    min|                1|               0.0|               1.0|\n",
      "|    max|            75000|              49.0|              49.0|\n",
      "+-------+-----------------+------------------+------------------+\n",
      "\n"
     ]
    }
   ],
   "source": [
    "data.describe().show()"
   ]
  },
  {
   "cell_type": "markdown",
   "metadata": {},
   "source": [
    "**Nhận xét**:\n",
    "    - Thống kê cho thấy cột Item_2 có dữ liệu thiếu"
   ]
  },
  {
   "cell_type": "code",
   "execution_count": 9,
   "metadata": {},
   "outputs": [
    {
     "name": "stdout",
     "output_type": "stream",
     "text": [
      "root\n",
      " |-- Order_ID: integer (nullable = true)\n",
      " |-- Item_1: double (nullable = true)\n",
      " |-- Item_2: double (nullable = true)\n",
      "\n"
     ]
    }
   ],
   "source": [
    "data.printSchema()"
   ]
  },
  {
   "cell_type": "markdown",
   "metadata": {},
   "source": [
    "## Cleaning data"
   ]
  },
  {
   "cell_type": "markdown",
   "metadata": {},
   "source": [
    "### Replace ID by food's name"
   ]
  },
  {
   "cell_type": "code",
   "execution_count": 10,
   "metadata": {},
   "outputs": [],
   "source": [
    "goods = spark.read.csv('./data/75000/goods.csv',inferSchema=True,header=True)"
   ]
  },
  {
   "cell_type": "code",
   "execution_count": 11,
   "metadata": {},
   "outputs": [],
   "source": [
    "goods = goods.withColumn('Flavor_Food', concat(col('Flavor'),lit('-'),col('Food')))"
   ]
  },
  {
   "cell_type": "code",
   "execution_count": 12,
   "metadata": {},
   "outputs": [
    {
     "name": "stdout",
     "output_type": "stream",
     "text": [
      "+---+------------+--------+-----+------+--------------------+\n",
      "| Id|      Flavor|    Food|Price|  Type|         Flavor_Food|\n",
      "+---+------------+--------+-----+------+--------------------+\n",
      "|  0| 'Chocolate'|  'Cake'| 8.95|'Food'|  'Chocolate'-'Cake'|\n",
      "|  1|     'Lemon'|  'Cake'| 8.95|'Food'|      'Lemon'-'Cake'|\n",
      "|  2|    'Casino'|  'Cake'|15.95|'Food'|     'Casino'-'Cake'|\n",
      "|  3|     'Opera'|  'Cake'|15.95|'Food'|      'Opera'-'Cake'|\n",
      "|  4|'Strawberry'|  'Cake'|11.95|'Food'| 'Strawberry'-'Cake'|\n",
      "|  5|   'Truffle'|  'Cake'|15.95|'Food'|    'Truffle'-'Cake'|\n",
      "|  6| 'Chocolate'|'Eclair'| 3.25|'Food'|'Chocolate'-'Eclair'|\n",
      "|  7|    'Coffee'|'Eclair'|  3.5|'Food'|   'Coffee'-'Eclair'|\n",
      "|  8|   'Vanilla'|'Eclair'| 3.25|'Food'|  'Vanilla'-'Eclair'|\n",
      "|  9|  'Napoleon'|  'Cake'|13.49|'Food'|   'Napoleon'-'Cake'|\n",
      "| 10|    'Almond'|  'Tart'| 3.75|'Food'|     'Almond'-'Tart'|\n",
      "| 11|     'Apple'|   'Pie'| 5.25|'Food'|       'Apple'-'Pie'|\n",
      "| 12|     'Apple'|  'Tart'| 3.25|'Food'|      'Apple'-'Tart'|\n",
      "| 13|   'Apricot'|  'Tart'| 3.25|'Food'|    'Apricot'-'Tart'|\n",
      "| 14|     'Berry'|  'Tart'| 3.25|'Food'|      'Berry'-'Tart'|\n",
      "| 15|'Blackberry'|  'Tart'| 3.25|'Food'| 'Blackberry'-'Tart'|\n",
      "| 16| 'Blueberry'|  'Tart'| 3.25|'Food'|  'Blueberry'-'Tart'|\n",
      "| 17| 'Chocolate'|  'Tart'| 3.75|'Food'|  'Chocolate'-'Tart'|\n",
      "| 18|    'Cherry'|  'Tart'| 3.25|'Food'|     'Cherry'-'Tart'|\n",
      "| 19|     'Lemon'|  'Tart'| 3.25|'Food'|      'Lemon'-'Tart'|\n",
      "+---+------------+--------+-----+------+--------------------+\n",
      "only showing top 20 rows\n",
      "\n"
     ]
    }
   ],
   "source": [
    "goods.show()"
   ]
  },
  {
   "cell_type": "code",
   "execution_count": 13,
   "metadata": {},
   "outputs": [],
   "source": [
    "data_temp = data.join(goods,data.Item_1 == goods.Id,how='left').select('Order_ID',col('Flavor_Food').alias('Item_1'),'Item_2')"
   ]
  },
  {
   "cell_type": "code",
   "execution_count": 14,
   "metadata": {},
   "outputs": [],
   "source": [
    "data_food = data_temp.join(goods,data_temp.Item_2 == goods.Id,how='left').select('Order_ID','Item_1',col('Flavor_Food').alias('Item_2'))"
   ]
  },
  {
   "cell_type": "code",
   "execution_count": 15,
   "metadata": {},
   "outputs": [
    {
     "name": "stdout",
     "output_type": "stream",
     "text": [
      "+--------+--------------------+--------------------+\n",
      "|Order_ID|              Item_1|              Item_2|\n",
      "+--------+--------------------+--------------------+\n",
      "|       1|       'Apple'-'Pie'|  'Ganache'-'Cookie'|\n",
      "|       2|   'Coffee'-'Eclair'|       'Apple'-'Pie'|\n",
      "|       3|      'Opera'-'Cake'|'Cheese'-'Croissant'|\n",
      "|       4|    'Truffle'-'Cake'|      'Apple'-'Tart'|\n",
      "|       5|'Chocolate'-'Eclair'|     'Cherry'-'Tart'|\n",
      "|       6|     'Casino'-'Cake'| 'Strawberry'-'Cake'|\n",
      "|       7| 'Blackberry'-'Tart'|  'Blueberry'-'Tart'|\n",
      "|       8|     'Casino'-'Cake'|      'Opera'-'Cake'|\n",
      "|       9|     'Cherry'-'Tart'|'Raspberry'-'Cookie'|\n",
      "|      10|   'Bottled'-'Water'|      'Hot'-'Coffee'|\n",
      "|      11|  'Chocolate'-'Tart'|'Almond'-'Bear Claw'|\n",
      "|      12|     'Casino'-'Cake'|      'Opera'-'Cake'|\n",
      "|      13|      'Opera'-'Cake'|  'Chocolate'-'Tart'|\n",
      "|      14|  'Chocolate'-'Tart'|  'Apricot'-'Danish'|\n",
      "|      15| 'Blackberry'-'Tart'|    'Almond'-'Twist'|\n",
      "|      16|  'Chocolate'-'Cake'|     'Casino'-'Cake'|\n",
      "|      17|  'Chocolate'-'Tart'|'Vanilla'-'Frappu...|\n",
      "|      18|      'Berry'-'Tart'|                null|\n",
      "|      19|  'Blueberry'-'Tart'|'Blueberry'-'Danish'|\n",
      "|      20|    'Apricot'-'Tart'|    'Orange'-'Juice'|\n",
      "+--------+--------------------+--------------------+\n",
      "only showing top 20 rows\n",
      "\n"
     ]
    }
   ],
   "source": [
    "data_food.show()"
   ]
  },
  {
   "cell_type": "markdown",
   "metadata": {},
   "source": [
    "### Check missing values"
   ]
  },
  {
   "cell_type": "code",
   "execution_count": 16,
   "metadata": {},
   "outputs": [
    {
     "data": {
      "text/html": [
       "<div>\n",
       "<style scoped>\n",
       "    .dataframe tbody tr th:only-of-type {\n",
       "        vertical-align: middle;\n",
       "    }\n",
       "\n",
       "    .dataframe tbody tr th {\n",
       "        vertical-align: top;\n",
       "    }\n",
       "\n",
       "    .dataframe thead th {\n",
       "        text-align: right;\n",
       "    }\n",
       "</style>\n",
       "<table border=\"1\" class=\"dataframe\">\n",
       "  <thead>\n",
       "    <tr style=\"text-align: right;\">\n",
       "      <th></th>\n",
       "      <th>Order_ID</th>\n",
       "      <th>Item_1</th>\n",
       "      <th>Item_2</th>\n",
       "    </tr>\n",
       "  </thead>\n",
       "  <tbody>\n",
       "    <tr>\n",
       "      <th>0</th>\n",
       "      <td>0</td>\n",
       "      <td>0</td>\n",
       "      <td>0</td>\n",
       "    </tr>\n",
       "  </tbody>\n",
       "</table>\n",
       "</div>"
      ],
      "text/plain": [
       "   Order_ID  Item_1  Item_2\n",
       "0         0       0       0"
      ]
     },
     "execution_count": 16,
     "metadata": {},
     "output_type": "execute_result"
    }
   ],
   "source": [
    "data_food.select([count(when(isnan(col),col)).alias(col) for col in data.columns]).toPandas()"
   ]
  },
  {
   "cell_type": "code",
   "execution_count": 17,
   "metadata": {},
   "outputs": [
    {
     "data": {
      "text/html": [
       "<div>\n",
       "<style scoped>\n",
       "    .dataframe tbody tr th:only-of-type {\n",
       "        vertical-align: middle;\n",
       "    }\n",
       "\n",
       "    .dataframe tbody tr th {\n",
       "        vertical-align: top;\n",
       "    }\n",
       "\n",
       "    .dataframe thead th {\n",
       "        text-align: right;\n",
       "    }\n",
       "</style>\n",
       "<table border=\"1\" class=\"dataframe\">\n",
       "  <thead>\n",
       "    <tr style=\"text-align: right;\">\n",
       "      <th></th>\n",
       "      <th>Order_ID</th>\n",
       "      <th>Item_1</th>\n",
       "      <th>Item_2</th>\n",
       "    </tr>\n",
       "  </thead>\n",
       "  <tbody>\n",
       "    <tr>\n",
       "      <th>0</th>\n",
       "      <td>0</td>\n",
       "      <td>0</td>\n",
       "      <td>3592</td>\n",
       "    </tr>\n",
       "  </tbody>\n",
       "</table>\n",
       "</div>"
      ],
      "text/plain": [
       "   Order_ID  Item_1  Item_2\n",
       "0         0       0    3592"
      ]
     },
     "execution_count": 17,
     "metadata": {},
     "output_type": "execute_result"
    }
   ],
   "source": [
    "data_food.select([count(when(isnull(col),col)).alias(col) for col in data.columns]).toPandas()"
   ]
  },
  {
   "cell_type": "code",
   "execution_count": 18,
   "metadata": {},
   "outputs": [],
   "source": [
    "null_data = data_food.where(col('Item_2').isNull())\n",
    "clean_data = data_food.dropna()"
   ]
  },
  {
   "cell_type": "markdown",
   "metadata": {},
   "source": [
    "### Correct data format"
   ]
  },
  {
   "cell_type": "code",
   "execution_count": 19,
   "metadata": {},
   "outputs": [],
   "source": [
    "from pyspark.ml.linalg import Vectors\n",
    "from pyspark.ml.feature import VectorAssembler\n",
    "from pyspark.sql.functions import array"
   ]
  },
  {
   "cell_type": "code",
   "execution_count": 20,
   "metadata": {},
   "outputs": [],
   "source": [
    "final_data = clean_data.withColumn('items',array(col('Item_1'),col('Item_2')))"
   ]
  },
  {
   "cell_type": "code",
   "execution_count": 21,
   "metadata": {},
   "outputs": [
    {
     "name": "stdout",
     "output_type": "stream",
     "text": [
      "+--------+--------------------+--------------------+--------------------+\n",
      "|Order_ID|              Item_1|              Item_2|               items|\n",
      "+--------+--------------------+--------------------+--------------------+\n",
      "|       1|       'Apple'-'Pie'|  'Ganache'-'Cookie'|['Apple'-'Pie', '...|\n",
      "|       2|   'Coffee'-'Eclair'|       'Apple'-'Pie'|['Coffee'-'Eclair...|\n",
      "|       3|      'Opera'-'Cake'|'Cheese'-'Croissant'|['Opera'-'Cake', ...|\n",
      "|       4|    'Truffle'-'Cake'|      'Apple'-'Tart'|['Truffle'-'Cake'...|\n",
      "|       5|'Chocolate'-'Eclair'|     'Cherry'-'Tart'|['Chocolate'-'Ecl...|\n",
      "|       6|     'Casino'-'Cake'| 'Strawberry'-'Cake'|['Casino'-'Cake',...|\n",
      "|       7| 'Blackberry'-'Tart'|  'Blueberry'-'Tart'|['Blackberry'-'Ta...|\n",
      "|       8|     'Casino'-'Cake'|      'Opera'-'Cake'|['Casino'-'Cake',...|\n",
      "|       9|     'Cherry'-'Tart'|'Raspberry'-'Cookie'|['Cherry'-'Tart',...|\n",
      "|      10|   'Bottled'-'Water'|      'Hot'-'Coffee'|['Bottled'-'Water...|\n",
      "|      11|  'Chocolate'-'Tart'|'Almond'-'Bear Claw'|['Chocolate'-'Tar...|\n",
      "|      12|     'Casino'-'Cake'|      'Opera'-'Cake'|['Casino'-'Cake',...|\n",
      "|      13|      'Opera'-'Cake'|  'Chocolate'-'Tart'|['Opera'-'Cake', ...|\n",
      "|      14|  'Chocolate'-'Tart'|  'Apricot'-'Danish'|['Chocolate'-'Tar...|\n",
      "|      15| 'Blackberry'-'Tart'|    'Almond'-'Twist'|['Blackberry'-'Ta...|\n",
      "|      16|  'Chocolate'-'Cake'|     'Casino'-'Cake'|['Chocolate'-'Cak...|\n",
      "|      17|  'Chocolate'-'Tart'|'Vanilla'-'Frappu...|['Chocolate'-'Tar...|\n",
      "|      19|  'Blueberry'-'Tart'|'Blueberry'-'Danish'|['Blueberry'-'Tar...|\n",
      "|      20|    'Apricot'-'Tart'|    'Orange'-'Juice'|['Apricot'-'Tart'...|\n",
      "|      21|   'Coffee'-'Eclair'|       'Apple'-'Pie'|['Coffee'-'Eclair...|\n",
      "+--------+--------------------+--------------------+--------------------+\n",
      "only showing top 20 rows\n",
      "\n"
     ]
    }
   ],
   "source": [
    "final_data.show()"
   ]
  },
  {
   "cell_type": "markdown",
   "metadata": {},
   "source": [
    "## Training"
   ]
  },
  {
   "cell_type": "code",
   "execution_count": 22,
   "metadata": {},
   "outputs": [],
   "source": [
    "from pyspark.ml.fpm import FPGrowth"
   ]
  },
  {
   "cell_type": "code",
   "execution_count": 23,
   "metadata": {},
   "outputs": [],
   "source": [
    "fpgrowth = FPGrowth(minSupport=0.01,minConfidence=0.01,itemsCol='items')"
   ]
  },
  {
   "cell_type": "code",
   "execution_count": 25,
   "metadata": {},
   "outputs": [],
   "source": [
    "model = fpgrowth.fit(final_data)"
   ]
  },
  {
   "cell_type": "code",
   "execution_count": 29,
   "metadata": {},
   "outputs": [
    {
     "name": "stdout",
     "output_type": "stream",
     "text": [
      "+----------------------------------------+----+\n",
      "|items                                   |freq|\n",
      "+----------------------------------------+----+\n",
      "|['Chocolate'-'Eclair']                  |2868|\n",
      "|['Vanilla'-'Meringue']                  |1352|\n",
      "|['Napoleon'-'Cake']                     |5053|\n",
      "|['Napoleon'-'Cake', 'Strawberry'-'Cake']|2504|\n",
      "|['Raspberry'-'Cookie']                  |3349|\n",
      "|['Almond'-'Croissant']                  |1099|\n",
      "|['Apple'-'Croissant']                   |2510|\n",
      "|['Apple'-'Croissant', 'Apple'-'Tart']   |1574|\n",
      "|['Apple'-'Pie']                         |4900|\n",
      "|['Apple'-'Pie', 'Coffee'-'Eclair']      |2452|\n",
      "|['Orange'-'Juice']                      |1858|\n",
      "|['Orange'-'Juice', 'Cheese'-'Croissant']|1138|\n",
      "|['Apple'-'Danish']                      |744 |\n",
      "|['Lemon'-'Cookie']                      |3213|\n",
      "|['Lemon'-'Cookie', 'Raspberry'-'Cookie']|1809|\n",
      "|['Chocolate'-'Cake']                    |6206|\n",
      "|['Truffle'-'Cake']                      |5906|\n",
      "|['Marzipan'-'Cookie']                   |4118|\n",
      "|['Chocolate'-'Tart']                    |4269|\n",
      "|['Opera'-'Cake']                        |6021|\n",
      "+----------------------------------------+----+\n",
      "only showing top 20 rows\n",
      "\n"
     ]
    }
   ],
   "source": [
    "#Display the frequent itemset:\n",
    "model.freqItemsets.show(truncate=False)"
   ]
  },
  {
   "cell_type": "markdown",
   "metadata": {},
   "source": [
    "### Recommend items"
   ]
  },
  {
   "cell_type": "code",
   "execution_count": 27,
   "metadata": {},
   "outputs": [],
   "source": [
    "mostpopularItems = model.transform(final_data)"
   ]
  },
  {
   "cell_type": "code",
   "execution_count": 31,
   "metadata": {},
   "outputs": [
    {
     "name": "stdout",
     "output_type": "stream",
     "text": [
      "+--------+--------------------+-----------------------+-------------------------------------------+\n",
      "|Order_ID|Item_1              |Item_2                 |prediction                                 |\n",
      "+--------+--------------------+-----------------------+-------------------------------------------+\n",
      "|1       |'Apple'-'Pie'       |'Ganache'-'Cookie'     |['Coffee'-'Eclair']                        |\n",
      "|2       |'Coffee'-'Eclair'   |'Apple'-'Pie'          |['Blackberry'-'Tart']                      |\n",
      "|3       |'Opera'-'Cake'      |'Cheese'-'Croissant'   |['Cherry'-'Tart', 'Orange'-'Juice']        |\n",
      "|4       |'Truffle'-'Cake'    |'Apple'-'Tart'         |['Apple'-'Croissant', 'Gongolais'-'Cookie']|\n",
      "|5       |'Chocolate'-'Eclair'|'Cherry'-'Tart'        |['Opera'-'Cake']                           |\n",
      "|6       |'Casino'-'Cake'     |'Strawberry'-'Cake'    |['Chocolate'-'Cake', 'Napoleon'-'Cake']    |\n",
      "|7       |'Blackberry'-'Tart' |'Blueberry'-'Tart'     |['Apricot'-'Croissant', 'Coffee'-'Eclair'] |\n",
      "|8       |'Casino'-'Cake'     |'Opera'-'Cake'         |['Cherry'-'Tart', 'Chocolate'-'Cake']      |\n",
      "|9       |'Cherry'-'Tart'     |'Raspberry'-'Cookie'   |['Lemon'-'Cookie', 'Opera'-'Cake']         |\n",
      "|10      |'Bottled'-'Water'   |'Hot'-'Coffee'         |['Berry'-'Tart']                           |\n",
      "|11      |'Chocolate'-'Tart'  |'Almond'-'Bear Claw'   |['Walnut'-'Cookie']                        |\n",
      "|12      |'Casino'-'Cake'     |'Opera'-'Cake'         |['Cherry'-'Tart', 'Chocolate'-'Cake']      |\n",
      "|13      |'Opera'-'Cake'      |'Chocolate'-'Tart'     |['Cherry'-'Tart', 'Walnut'-'Cookie']       |\n",
      "|14      |'Chocolate'-'Tart'  |'Apricot'-'Danish'     |['Walnut'-'Cookie']                        |\n",
      "|15      |'Blackberry'-'Tart' |'Almond'-'Twist'       |['Coffee'-'Eclair']                        |\n",
      "|16      |'Chocolate'-'Cake'  |'Casino'-'Cake'        |[]                                         |\n",
      "|17      |'Chocolate'-'Tart'  |'Vanilla'-'Frappuccino'|['Walnut'-'Cookie']                        |\n",
      "|19      |'Blueberry'-'Tart'  |'Blueberry'-'Danish'   |['Apricot'-'Croissant']                    |\n",
      "|20      |'Apricot'-'Tart'    |'Orange'-'Juice'       |['Cheese'-'Croissant']                     |\n",
      "|21      |'Coffee'-'Eclair'   |'Apple'-'Pie'          |['Blackberry'-'Tart']                      |\n",
      "+--------+--------------------+-----------------------+-------------------------------------------+\n",
      "only showing top 20 rows\n",
      "\n"
     ]
    }
   ],
   "source": [
    "mostpopularItems.drop('items').show(truncate=False)"
   ]
  },
  {
   "cell_type": "markdown",
   "metadata": {},
   "source": [
    "### Apply on filling Null Data"
   ]
  },
  {
   "cell_type": "code",
   "execution_count": 33,
   "metadata": {},
   "outputs": [],
   "source": [
    "null_data = null_data.withColumn('items',array(col('Item_1'),col('Item_2')))"
   ]
  },
  {
   "cell_type": "code",
   "execution_count": 34,
   "metadata": {},
   "outputs": [],
   "source": [
    "recommendation = model.transform(null_data)"
   ]
  },
  {
   "cell_type": "code",
   "execution_count": 37,
   "metadata": {},
   "outputs": [
    {
     "name": "stdout",
     "output_type": "stream",
     "text": [
      "+--------+----------------------+------+------------------------------+----------------------+\n",
      "|Order_ID|Item_1                |Item_2|items                         |prediction            |\n",
      "+--------+----------------------+------+------------------------------+----------------------+\n",
      "|18      |'Berry'-'Tart'        |null  |['Berry'-'Tart', null]        |['Bottled'-'Water']   |\n",
      "|50      |'Cheese'-'Croissant'  |null  |['Cheese'-'Croissant', null]  |['Orange'-'Juice']    |\n",
      "|66      |'Chocolate'-'Meringue'|null  |['Chocolate'-'Meringue', null]|[]                    |\n",
      "|72      |'Apple'-'Croissant'   |null  |['Apple'-'Croissant', null]   |['Apple'-'Tart']      |\n",
      "|79      |'Green'-'Tea'         |null  |['Green'-'Tea', null]         |[]                    |\n",
      "|81      |'Chocolate'-'Cake'    |null  |['Chocolate'-'Cake', null]    |['Casino'-'Cake']     |\n",
      "|98      |'Cherry'-'Tart'       |null  |['Cherry'-'Tart', null]       |['Opera'-'Cake']      |\n",
      "|101     |'Napoleon'-'Cake'     |null  |['Napoleon'-'Cake', null]     |['Strawberry'-'Cake'] |\n",
      "|140     |'Cheese'-'Croissant'  |null  |['Cheese'-'Croissant', null]  |['Orange'-'Juice']    |\n",
      "|146     |'Lemon'-'Cake'        |null  |['Lemon'-'Cake', null]        |['Lemon'-'Tart']      |\n",
      "|184     |'Apple'-'Tart'        |null  |['Apple'-'Tart', null]        |['Apple'-'Croissant'] |\n",
      "|242     |'Apple'-'Tart'        |null  |['Apple'-'Tart', null]        |['Apple'-'Croissant'] |\n",
      "|339     |'Gongolais'-'Cookie'  |null  |['Gongolais'-'Cookie', null]  |['Truffle'-'Cake']    |\n",
      "|355     |'Orange'-'Juice'      |null  |['Orange'-'Juice', null]      |['Cheese'-'Croissant']|\n",
      "|368     |'Opera'-'Cake'        |null  |['Opera'-'Cake', null]        |['Cherry'-'Tart']     |\n",
      "|387     |'Apple'-'Croissant'   |null  |['Apple'-'Croissant', null]   |['Apple'-'Tart']      |\n",
      "|397     |'Gongolais'-'Cookie'  |null  |['Gongolais'-'Cookie', null]  |['Truffle'-'Cake']    |\n",
      "|415     |'Apricot'-'Croissant' |null  |['Apricot'-'Croissant', null] |['Blueberry'-'Tart']  |\n",
      "|457     |'Apple'-'Croissant'   |null  |['Apple'-'Croissant', null]   |['Apple'-'Tart']      |\n",
      "|461     |'Chocolate'-'Eclair'  |null  |['Chocolate'-'Eclair', null]  |[]                    |\n",
      "+--------+----------------------+------+------------------------------+----------------------+\n",
      "only showing top 20 rows\n",
      "\n"
     ]
    }
   ],
   "source": [
    "recommendation.drop('item').show(truncate=False)"
   ]
  },
  {
   "cell_type": "code",
   "execution_count": null,
   "metadata": {},
   "outputs": [],
   "source": []
  }
 ],
 "metadata": {
  "kernelspec": {
   "display_name": "Python 3",
   "language": "python",
   "name": "python3"
  },
  "language_info": {
   "codemirror_mode": {
    "name": "ipython",
    "version": 3
   },
   "file_extension": ".py",
   "mimetype": "text/x-python",
   "name": "python",
   "nbconvert_exporter": "python",
   "pygments_lexer": "ipython3",
   "version": "3.8.5"
  }
 },
 "nbformat": 4,
 "nbformat_minor": 4
}
