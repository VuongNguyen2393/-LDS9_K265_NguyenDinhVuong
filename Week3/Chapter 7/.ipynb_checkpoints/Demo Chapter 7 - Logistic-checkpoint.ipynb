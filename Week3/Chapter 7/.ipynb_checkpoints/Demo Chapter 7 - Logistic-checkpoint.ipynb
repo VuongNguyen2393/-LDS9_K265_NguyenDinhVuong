{
 "cells": [
  {
   "cell_type": "code",
   "execution_count": 1,
   "metadata": {},
   "outputs": [],
   "source": [
    "import findspark\n",
    "findspark.init()"
   ]
  },
  {
   "cell_type": "code",
   "execution_count": 2,
   "metadata": {},
   "outputs": [],
   "source": [
    "from pyspark import SparkContext\n",
    "from pyspark.sql import SparkSession"
   ]
  },
  {
   "cell_type": "code",
   "execution_count": 3,
   "metadata": {},
   "outputs": [],
   "source": [
    "sc = SparkContext(master='local',appName='Chapter 6')\n",
    "spark = SparkSession(sc)"
   ]
  },
  {
   "cell_type": "code",
   "execution_count": 4,
   "metadata": {},
   "outputs": [],
   "source": [
    "from pyspark.ml.linalg import Vectors\n",
    "from pyspark.ml.feature import VectorAssembler\n",
    "from pyspark.ml.regression import LinearRegression\n",
    "from pyspark.ml.classification import LogisticRegression\n",
    "from pyspark.sql.functions import corr\n",
    "from pyspark.ml.feature import StringIndexer\n",
    "from pyspark.ml.feature import OneHotEncoder\n",
    "from pyspark.ml import Pipeline\n",
    "from pyspark.ml.evaluation import BinaryClassificationEvaluator"
   ]
  },
  {
   "cell_type": "code",
   "execution_count": 5,
   "metadata": {},
   "outputs": [],
   "source": [
    "data = spark.read.csv('./flights.csv',inferSchema=True,header=True)"
   ]
  },
  {
   "cell_type": "code",
   "execution_count": 6,
   "metadata": {},
   "outputs": [
    {
     "name": "stdout",
     "output_type": "stream",
     "text": [
      "root\n",
      " |-- mon: integer (nullable = true)\n",
      " |-- dom: integer (nullable = true)\n",
      " |-- dow: integer (nullable = true)\n",
      " |-- carrier: string (nullable = true)\n",
      " |-- flight: integer (nullable = true)\n",
      " |-- org: string (nullable = true)\n",
      " |-- mile: integer (nullable = true)\n",
      " |-- depart: double (nullable = true)\n",
      " |-- duration: integer (nullable = true)\n",
      " |-- delay: string (nullable = true)\n",
      "\n"
     ]
    }
   ],
   "source": [
    "data.printSchema()"
   ]
  },
  {
   "cell_type": "code",
   "execution_count": 7,
   "metadata": {},
   "outputs": [
    {
     "data": {
      "text/html": [
       "<div>\n",
       "<style scoped>\n",
       "    .dataframe tbody tr th:only-of-type {\n",
       "        vertical-align: middle;\n",
       "    }\n",
       "\n",
       "    .dataframe tbody tr th {\n",
       "        vertical-align: top;\n",
       "    }\n",
       "\n",
       "    .dataframe thead th {\n",
       "        text-align: right;\n",
       "    }\n",
       "</style>\n",
       "<table border=\"1\" class=\"dataframe\">\n",
       "  <thead>\n",
       "    <tr style=\"text-align: right;\">\n",
       "      <th></th>\n",
       "      <th>mon</th>\n",
       "      <th>dom</th>\n",
       "      <th>dow</th>\n",
       "      <th>carrier</th>\n",
       "      <th>flight</th>\n",
       "      <th>org</th>\n",
       "      <th>mile</th>\n",
       "      <th>depart</th>\n",
       "      <th>duration</th>\n",
       "      <th>delay</th>\n",
       "    </tr>\n",
       "  </thead>\n",
       "  <tbody>\n",
       "    <tr>\n",
       "      <th>0</th>\n",
       "      <td>11</td>\n",
       "      <td>20</td>\n",
       "      <td>6</td>\n",
       "      <td>US</td>\n",
       "      <td>19</td>\n",
       "      <td>JFK</td>\n",
       "      <td>2153</td>\n",
       "      <td>9.48</td>\n",
       "      <td>351</td>\n",
       "      <td>NA</td>\n",
       "    </tr>\n",
       "    <tr>\n",
       "      <th>1</th>\n",
       "      <td>0</td>\n",
       "      <td>22</td>\n",
       "      <td>2</td>\n",
       "      <td>UA</td>\n",
       "      <td>1107</td>\n",
       "      <td>ORD</td>\n",
       "      <td>316</td>\n",
       "      <td>16.33</td>\n",
       "      <td>82</td>\n",
       "      <td>30</td>\n",
       "    </tr>\n",
       "    <tr>\n",
       "      <th>2</th>\n",
       "      <td>2</td>\n",
       "      <td>20</td>\n",
       "      <td>4</td>\n",
       "      <td>UA</td>\n",
       "      <td>226</td>\n",
       "      <td>SFO</td>\n",
       "      <td>337</td>\n",
       "      <td>6.17</td>\n",
       "      <td>82</td>\n",
       "      <td>-8</td>\n",
       "    </tr>\n",
       "    <tr>\n",
       "      <th>3</th>\n",
       "      <td>9</td>\n",
       "      <td>13</td>\n",
       "      <td>1</td>\n",
       "      <td>AA</td>\n",
       "      <td>419</td>\n",
       "      <td>ORD</td>\n",
       "      <td>1236</td>\n",
       "      <td>10.33</td>\n",
       "      <td>195</td>\n",
       "      <td>-5</td>\n",
       "    </tr>\n",
       "    <tr>\n",
       "      <th>4</th>\n",
       "      <td>4</td>\n",
       "      <td>2</td>\n",
       "      <td>5</td>\n",
       "      <td>AA</td>\n",
       "      <td>325</td>\n",
       "      <td>ORD</td>\n",
       "      <td>258</td>\n",
       "      <td>8.92</td>\n",
       "      <td>65</td>\n",
       "      <td>NA</td>\n",
       "    </tr>\n",
       "  </tbody>\n",
       "</table>\n",
       "</div>"
      ],
      "text/plain": [
       "   mon  dom  dow carrier  flight  org  mile  depart  duration delay\n",
       "0   11   20    6      US      19  JFK  2153    9.48       351    NA\n",
       "1    0   22    2      UA    1107  ORD   316   16.33        82    30\n",
       "2    2   20    4      UA     226  SFO   337    6.17        82    -8\n",
       "3    9   13    1      AA     419  ORD  1236   10.33       195    -5\n",
       "4    4    2    5      AA     325  ORD   258    8.92        65    NA"
      ]
     },
     "execution_count": 7,
     "metadata": {},
     "output_type": "execute_result"
    }
   ],
   "source": [
    "data.toPandas().head()"
   ]
  },
  {
   "cell_type": "code",
   "execution_count": 8,
   "metadata": {},
   "outputs": [],
   "source": [
    "from pyspark.sql.functions import round"
   ]
  },
  {
   "cell_type": "code",
   "execution_count": 9,
   "metadata": {},
   "outputs": [],
   "source": [
    "#convert from mile to km\n",
    "data = data.withColumn('km',round(data.mile*1.60934,0))"
   ]
  },
  {
   "cell_type": "code",
   "execution_count": 10,
   "metadata": {},
   "outputs": [],
   "source": [
    "data = data.withColumn('label',(data.delay >= 15).cast('int'))"
   ]
  },
  {
   "cell_type": "code",
   "execution_count": 11,
   "metadata": {},
   "outputs": [
    {
     "data": {
      "text/html": [
       "<div>\n",
       "<style scoped>\n",
       "    .dataframe tbody tr th:only-of-type {\n",
       "        vertical-align: middle;\n",
       "    }\n",
       "\n",
       "    .dataframe tbody tr th {\n",
       "        vertical-align: top;\n",
       "    }\n",
       "\n",
       "    .dataframe thead th {\n",
       "        text-align: right;\n",
       "    }\n",
       "</style>\n",
       "<table border=\"1\" class=\"dataframe\">\n",
       "  <thead>\n",
       "    <tr style=\"text-align: right;\">\n",
       "      <th></th>\n",
       "      <th>mon</th>\n",
       "      <th>dom</th>\n",
       "      <th>dow</th>\n",
       "      <th>carrier</th>\n",
       "      <th>flight</th>\n",
       "      <th>org</th>\n",
       "      <th>mile</th>\n",
       "      <th>depart</th>\n",
       "      <th>duration</th>\n",
       "      <th>delay</th>\n",
       "      <th>km</th>\n",
       "      <th>label</th>\n",
       "    </tr>\n",
       "  </thead>\n",
       "  <tbody>\n",
       "    <tr>\n",
       "      <th>0</th>\n",
       "      <td>11</td>\n",
       "      <td>20</td>\n",
       "      <td>6</td>\n",
       "      <td>US</td>\n",
       "      <td>19</td>\n",
       "      <td>JFK</td>\n",
       "      <td>2153</td>\n",
       "      <td>9.48</td>\n",
       "      <td>351</td>\n",
       "      <td>NA</td>\n",
       "      <td>3465.0</td>\n",
       "      <td>NaN</td>\n",
       "    </tr>\n",
       "    <tr>\n",
       "      <th>1</th>\n",
       "      <td>0</td>\n",
       "      <td>22</td>\n",
       "      <td>2</td>\n",
       "      <td>UA</td>\n",
       "      <td>1107</td>\n",
       "      <td>ORD</td>\n",
       "      <td>316</td>\n",
       "      <td>16.33</td>\n",
       "      <td>82</td>\n",
       "      <td>30</td>\n",
       "      <td>509.0</td>\n",
       "      <td>1.0</td>\n",
       "    </tr>\n",
       "    <tr>\n",
       "      <th>2</th>\n",
       "      <td>2</td>\n",
       "      <td>20</td>\n",
       "      <td>4</td>\n",
       "      <td>UA</td>\n",
       "      <td>226</td>\n",
       "      <td>SFO</td>\n",
       "      <td>337</td>\n",
       "      <td>6.17</td>\n",
       "      <td>82</td>\n",
       "      <td>-8</td>\n",
       "      <td>542.0</td>\n",
       "      <td>0.0</td>\n",
       "    </tr>\n",
       "  </tbody>\n",
       "</table>\n",
       "</div>"
      ],
      "text/plain": [
       "   mon  dom  dow carrier  flight  org  mile  depart  duration delay      km  \\\n",
       "0   11   20    6      US      19  JFK  2153    9.48       351    NA  3465.0   \n",
       "1    0   22    2      UA    1107  ORD   316   16.33        82    30   509.0   \n",
       "2    2   20    4      UA     226  SFO   337    6.17        82    -8   542.0   \n",
       "\n",
       "   label  \n",
       "0    NaN  \n",
       "1    1.0  \n",
       "2    0.0  "
      ]
     },
     "execution_count": 11,
     "metadata": {},
     "output_type": "execute_result"
    }
   ],
   "source": [
    "data.toPandas().head(3)"
   ]
  },
  {
   "cell_type": "code",
   "execution_count": 12,
   "metadata": {},
   "outputs": [],
   "source": [
    "# Chuan hoa du lieu"
   ]
  },
  {
   "cell_type": "code",
   "execution_count": 13,
   "metadata": {},
   "outputs": [],
   "source": [
    "indexer = StringIndexer(inputCol='carrier',outputCol='carrier_idx')"
   ]
  },
  {
   "cell_type": "code",
   "execution_count": 14,
   "metadata": {},
   "outputs": [],
   "source": [
    "indexer_model = indexer.fit(data)"
   ]
  },
  {
   "cell_type": "code",
   "execution_count": 15,
   "metadata": {},
   "outputs": [],
   "source": [
    "data_indexed = indexer_model.transform(data)"
   ]
  },
  {
   "cell_type": "code",
   "execution_count": 16,
   "metadata": {},
   "outputs": [],
   "source": [
    "data_indexed = StringIndexer(inputCol='org',outputCol='org_idx').fit(data_indexed).transform(data_indexed)"
   ]
  },
  {
   "cell_type": "code",
   "execution_count": 17,
   "metadata": {},
   "outputs": [
    {
     "data": {
      "text/html": [
       "<div>\n",
       "<style scoped>\n",
       "    .dataframe tbody tr th:only-of-type {\n",
       "        vertical-align: middle;\n",
       "    }\n",
       "\n",
       "    .dataframe tbody tr th {\n",
       "        vertical-align: top;\n",
       "    }\n",
       "\n",
       "    .dataframe thead th {\n",
       "        text-align: right;\n",
       "    }\n",
       "</style>\n",
       "<table border=\"1\" class=\"dataframe\">\n",
       "  <thead>\n",
       "    <tr style=\"text-align: right;\">\n",
       "      <th></th>\n",
       "      <th>mon</th>\n",
       "      <th>dom</th>\n",
       "      <th>dow</th>\n",
       "      <th>carrier</th>\n",
       "      <th>flight</th>\n",
       "      <th>org</th>\n",
       "      <th>mile</th>\n",
       "      <th>depart</th>\n",
       "      <th>duration</th>\n",
       "      <th>delay</th>\n",
       "      <th>km</th>\n",
       "      <th>label</th>\n",
       "      <th>carrier_idx</th>\n",
       "      <th>org_idx</th>\n",
       "    </tr>\n",
       "  </thead>\n",
       "  <tbody>\n",
       "    <tr>\n",
       "      <th>0</th>\n",
       "      <td>11</td>\n",
       "      <td>20</td>\n",
       "      <td>6</td>\n",
       "      <td>US</td>\n",
       "      <td>19</td>\n",
       "      <td>JFK</td>\n",
       "      <td>2153</td>\n",
       "      <td>9.48</td>\n",
       "      <td>351</td>\n",
       "      <td>NA</td>\n",
       "      <td>3465.0</td>\n",
       "      <td>NaN</td>\n",
       "      <td>6.0</td>\n",
       "      <td>2.0</td>\n",
       "    </tr>\n",
       "    <tr>\n",
       "      <th>1</th>\n",
       "      <td>0</td>\n",
       "      <td>22</td>\n",
       "      <td>2</td>\n",
       "      <td>UA</td>\n",
       "      <td>1107</td>\n",
       "      <td>ORD</td>\n",
       "      <td>316</td>\n",
       "      <td>16.33</td>\n",
       "      <td>82</td>\n",
       "      <td>30</td>\n",
       "      <td>509.0</td>\n",
       "      <td>1.0</td>\n",
       "      <td>0.0</td>\n",
       "      <td>0.0</td>\n",
       "    </tr>\n",
       "    <tr>\n",
       "      <th>2</th>\n",
       "      <td>2</td>\n",
       "      <td>20</td>\n",
       "      <td>4</td>\n",
       "      <td>UA</td>\n",
       "      <td>226</td>\n",
       "      <td>SFO</td>\n",
       "      <td>337</td>\n",
       "      <td>6.17</td>\n",
       "      <td>82</td>\n",
       "      <td>-8</td>\n",
       "      <td>542.0</td>\n",
       "      <td>0.0</td>\n",
       "      <td>0.0</td>\n",
       "      <td>1.0</td>\n",
       "    </tr>\n",
       "    <tr>\n",
       "      <th>3</th>\n",
       "      <td>9</td>\n",
       "      <td>13</td>\n",
       "      <td>1</td>\n",
       "      <td>AA</td>\n",
       "      <td>419</td>\n",
       "      <td>ORD</td>\n",
       "      <td>1236</td>\n",
       "      <td>10.33</td>\n",
       "      <td>195</td>\n",
       "      <td>-5</td>\n",
       "      <td>1989.0</td>\n",
       "      <td>0.0</td>\n",
       "      <td>1.0</td>\n",
       "      <td>0.0</td>\n",
       "    </tr>\n",
       "    <tr>\n",
       "      <th>4</th>\n",
       "      <td>4</td>\n",
       "      <td>2</td>\n",
       "      <td>5</td>\n",
       "      <td>AA</td>\n",
       "      <td>325</td>\n",
       "      <td>ORD</td>\n",
       "      <td>258</td>\n",
       "      <td>8.92</td>\n",
       "      <td>65</td>\n",
       "      <td>NA</td>\n",
       "      <td>415.0</td>\n",
       "      <td>NaN</td>\n",
       "      <td>1.0</td>\n",
       "      <td>0.0</td>\n",
       "    </tr>\n",
       "  </tbody>\n",
       "</table>\n",
       "</div>"
      ],
      "text/plain": [
       "   mon  dom  dow carrier  flight  org  mile  depart  duration delay      km  \\\n",
       "0   11   20    6      US      19  JFK  2153    9.48       351    NA  3465.0   \n",
       "1    0   22    2      UA    1107  ORD   316   16.33        82    30   509.0   \n",
       "2    2   20    4      UA     226  SFO   337    6.17        82    -8   542.0   \n",
       "3    9   13    1      AA     419  ORD  1236   10.33       195    -5  1989.0   \n",
       "4    4    2    5      AA     325  ORD   258    8.92        65    NA   415.0   \n",
       "\n",
       "   label  carrier_idx  org_idx  \n",
       "0    NaN          6.0      2.0  \n",
       "1    1.0          0.0      0.0  \n",
       "2    0.0          0.0      1.0  \n",
       "3    0.0          1.0      0.0  \n",
       "4    NaN          1.0      0.0  "
      ]
     },
     "execution_count": 17,
     "metadata": {},
     "output_type": "execute_result"
    }
   ],
   "source": [
    "data_indexed.toPandas().head()"
   ]
  },
  {
   "cell_type": "code",
   "execution_count": 18,
   "metadata": {
    "scrolled": true
   },
   "outputs": [
    {
     "data": {
      "text/plain": [
       "['mon',\n",
       " 'dom',\n",
       " 'dow',\n",
       " 'carrier',\n",
       " 'flight',\n",
       " 'org',\n",
       " 'mile',\n",
       " 'depart',\n",
       " 'duration',\n",
       " 'delay',\n",
       " 'km',\n",
       " 'label',\n",
       " 'carrier_idx',\n",
       " 'org_idx']"
      ]
     },
     "execution_count": 18,
     "metadata": {},
     "output_type": "execute_result"
    }
   ],
   "source": [
    "data_indexed.columns"
   ]
  },
  {
   "cell_type": "code",
   "execution_count": 19,
   "metadata": {},
   "outputs": [],
   "source": [
    "from pyspark.sql.functions import isnull,col"
   ]
  },
  {
   "cell_type": "code",
   "execution_count": 20,
   "metadata": {},
   "outputs": [
    {
     "data": {
      "text/plain": [
       "2978"
      ]
     },
     "execution_count": 20,
     "metadata": {},
     "output_type": "execute_result"
    }
   ],
   "source": [
    "data_unknow = data_indexed.filter(isnull(col('label')))\n",
    "data_unknow.count()"
   ]
  },
  {
   "cell_type": "code",
   "execution_count": 44,
   "metadata": {},
   "outputs": [
    {
     "data": {
      "text/html": [
       "<div>\n",
       "<style scoped>\n",
       "    .dataframe tbody tr th:only-of-type {\n",
       "        vertical-align: middle;\n",
       "    }\n",
       "\n",
       "    .dataframe tbody tr th {\n",
       "        vertical-align: top;\n",
       "    }\n",
       "\n",
       "    .dataframe thead th {\n",
       "        text-align: right;\n",
       "    }\n",
       "</style>\n",
       "<table border=\"1\" class=\"dataframe\">\n",
       "  <thead>\n",
       "    <tr style=\"text-align: right;\">\n",
       "      <th></th>\n",
       "      <th>mon</th>\n",
       "      <th>dom</th>\n",
       "      <th>dow</th>\n",
       "      <th>carrier</th>\n",
       "      <th>flight</th>\n",
       "      <th>org</th>\n",
       "      <th>mile</th>\n",
       "      <th>depart</th>\n",
       "      <th>duration</th>\n",
       "      <th>delay</th>\n",
       "      <th>km</th>\n",
       "      <th>label</th>\n",
       "      <th>carrier_idx</th>\n",
       "      <th>org_idx</th>\n",
       "    </tr>\n",
       "  </thead>\n",
       "  <tbody>\n",
       "    <tr>\n",
       "      <th>0</th>\n",
       "      <td>11</td>\n",
       "      <td>20</td>\n",
       "      <td>6</td>\n",
       "      <td>US</td>\n",
       "      <td>19</td>\n",
       "      <td>JFK</td>\n",
       "      <td>2153</td>\n",
       "      <td>9.48</td>\n",
       "      <td>351</td>\n",
       "      <td>NA</td>\n",
       "      <td>3465.0</td>\n",
       "      <td>None</td>\n",
       "      <td>6.0</td>\n",
       "      <td>2.0</td>\n",
       "    </tr>\n",
       "    <tr>\n",
       "      <th>1</th>\n",
       "      <td>4</td>\n",
       "      <td>2</td>\n",
       "      <td>5</td>\n",
       "      <td>AA</td>\n",
       "      <td>325</td>\n",
       "      <td>ORD</td>\n",
       "      <td>258</td>\n",
       "      <td>8.92</td>\n",
       "      <td>65</td>\n",
       "      <td>NA</td>\n",
       "      <td>415.0</td>\n",
       "      <td>None</td>\n",
       "      <td>1.0</td>\n",
       "      <td>0.0</td>\n",
       "    </tr>\n",
       "    <tr>\n",
       "      <th>2</th>\n",
       "      <td>0</td>\n",
       "      <td>8</td>\n",
       "      <td>2</td>\n",
       "      <td>UA</td>\n",
       "      <td>549</td>\n",
       "      <td>ORD</td>\n",
       "      <td>334</td>\n",
       "      <td>11.08</td>\n",
       "      <td>85</td>\n",
       "      <td>NA</td>\n",
       "      <td>538.0</td>\n",
       "      <td>None</td>\n",
       "      <td>0.0</td>\n",
       "      <td>0.0</td>\n",
       "    </tr>\n",
       "  </tbody>\n",
       "</table>\n",
       "</div>"
      ],
      "text/plain": [
       "   mon  dom  dow carrier  flight  org  mile  depart  duration delay      km  \\\n",
       "0   11   20    6      US      19  JFK  2153    9.48       351    NA  3465.0   \n",
       "1    4    2    5      AA     325  ORD   258    8.92        65    NA   415.0   \n",
       "2    0    8    2      UA     549  ORD   334   11.08        85    NA   538.0   \n",
       "\n",
       "  label  carrier_idx  org_idx  \n",
       "0  None          6.0      2.0  \n",
       "1  None          1.0      0.0  \n",
       "2  None          0.0      0.0  "
      ]
     },
     "execution_count": 44,
     "metadata": {},
     "output_type": "execute_result"
    }
   ],
   "source": [
    "data_unknow.toPandas().head(3)"
   ]
  },
  {
   "cell_type": "code",
   "execution_count": 21,
   "metadata": {},
   "outputs": [],
   "source": [
    "data_indexed = data_indexed.filter(~isnull(col('label')))"
   ]
  },
  {
   "cell_type": "code",
   "execution_count": 47,
   "metadata": {},
   "outputs": [
    {
     "data": {
      "text/html": [
       "<div>\n",
       "<style scoped>\n",
       "    .dataframe tbody tr th:only-of-type {\n",
       "        vertical-align: middle;\n",
       "    }\n",
       "\n",
       "    .dataframe tbody tr th {\n",
       "        vertical-align: top;\n",
       "    }\n",
       "\n",
       "    .dataframe thead th {\n",
       "        text-align: right;\n",
       "    }\n",
       "</style>\n",
       "<table border=\"1\" class=\"dataframe\">\n",
       "  <thead>\n",
       "    <tr style=\"text-align: right;\">\n",
       "      <th></th>\n",
       "      <th>mon</th>\n",
       "      <th>dom</th>\n",
       "      <th>dow</th>\n",
       "      <th>carrier</th>\n",
       "      <th>flight</th>\n",
       "      <th>org</th>\n",
       "      <th>mile</th>\n",
       "      <th>depart</th>\n",
       "      <th>duration</th>\n",
       "      <th>delay</th>\n",
       "      <th>km</th>\n",
       "      <th>label</th>\n",
       "      <th>carrier_idx</th>\n",
       "      <th>org_idx</th>\n",
       "    </tr>\n",
       "  </thead>\n",
       "  <tbody>\n",
       "    <tr>\n",
       "      <th>0</th>\n",
       "      <td>0</td>\n",
       "      <td>22</td>\n",
       "      <td>2</td>\n",
       "      <td>UA</td>\n",
       "      <td>1107</td>\n",
       "      <td>ORD</td>\n",
       "      <td>316</td>\n",
       "      <td>16.33</td>\n",
       "      <td>82</td>\n",
       "      <td>30</td>\n",
       "      <td>509.0</td>\n",
       "      <td>1</td>\n",
       "      <td>0.0</td>\n",
       "      <td>0.0</td>\n",
       "    </tr>\n",
       "    <tr>\n",
       "      <th>1</th>\n",
       "      <td>2</td>\n",
       "      <td>20</td>\n",
       "      <td>4</td>\n",
       "      <td>UA</td>\n",
       "      <td>226</td>\n",
       "      <td>SFO</td>\n",
       "      <td>337</td>\n",
       "      <td>6.17</td>\n",
       "      <td>82</td>\n",
       "      <td>-8</td>\n",
       "      <td>542.0</td>\n",
       "      <td>0</td>\n",
       "      <td>0.0</td>\n",
       "      <td>1.0</td>\n",
       "    </tr>\n",
       "    <tr>\n",
       "      <th>2</th>\n",
       "      <td>9</td>\n",
       "      <td>13</td>\n",
       "      <td>1</td>\n",
       "      <td>AA</td>\n",
       "      <td>419</td>\n",
       "      <td>ORD</td>\n",
       "      <td>1236</td>\n",
       "      <td>10.33</td>\n",
       "      <td>195</td>\n",
       "      <td>-5</td>\n",
       "      <td>1989.0</td>\n",
       "      <td>0</td>\n",
       "      <td>1.0</td>\n",
       "      <td>0.0</td>\n",
       "    </tr>\n",
       "  </tbody>\n",
       "</table>\n",
       "</div>"
      ],
      "text/plain": [
       "   mon  dom  dow carrier  flight  org  mile  depart  duration delay      km  \\\n",
       "0    0   22    2      UA    1107  ORD   316   16.33        82    30   509.0   \n",
       "1    2   20    4      UA     226  SFO   337    6.17        82    -8   542.0   \n",
       "2    9   13    1      AA     419  ORD  1236   10.33       195    -5  1989.0   \n",
       "\n",
       "   label  carrier_idx  org_idx  \n",
       "0      1          0.0      0.0  \n",
       "1      0          0.0      1.0  \n",
       "2      0          1.0      0.0  "
      ]
     },
     "execution_count": 47,
     "metadata": {},
     "output_type": "execute_result"
    }
   ],
   "source": [
    "data_indexed.toPandas().head(3)"
   ]
  },
  {
   "cell_type": "code",
   "execution_count": 48,
   "metadata": {},
   "outputs": [
    {
     "data": {
      "text/plain": [
       "47022"
      ]
     },
     "execution_count": 48,
     "metadata": {},
     "output_type": "execute_result"
    }
   ],
   "source": [
    "data_indexed.count()"
   ]
  },
  {
   "cell_type": "code",
   "execution_count": 22,
   "metadata": {},
   "outputs": [],
   "source": [
    "assembler = VectorAssembler( inputCols=['mon',\n",
    " 'dom',\n",
    " 'dow',\n",
    " 'depart',\n",
    " 'duration',\n",
    " 'km',\n",
    " 'carrier_idx',\n",
    " 'org_idx'], outputCol='features')"
   ]
  },
  {
   "cell_type": "code",
   "execution_count": 23,
   "metadata": {},
   "outputs": [],
   "source": [
    "data_pre = assembler.transform(data_indexed)"
   ]
  },
  {
   "cell_type": "code",
   "execution_count": 96,
   "metadata": {},
   "outputs": [],
   "source": [
    "data_unknow = assembler.transform(data_unknow)"
   ]
  },
  {
   "cell_type": "code",
   "execution_count": 24,
   "metadata": {},
   "outputs": [
    {
     "name": "stdout",
     "output_type": "stream",
     "text": [
      "+---------------------------------------+\n",
      "|features                               |\n",
      "+---------------------------------------+\n",
      "|[0.0,22.0,2.0,16.33,82.0,509.0,0.0,0.0]|\n",
      "|[2.0,20.0,4.0,6.17,82.0,542.0,0.0,1.0] |\n",
      "+---------------------------------------+\n",
      "only showing top 2 rows\n",
      "\n"
     ]
    }
   ],
   "source": [
    "data_pre[['features']].show(2,False)"
   ]
  },
  {
   "cell_type": "code",
   "execution_count": 49,
   "metadata": {},
   "outputs": [],
   "source": [
    "final_data = data_pre.select('features','label')"
   ]
  },
  {
   "cell_type": "code",
   "execution_count": 52,
   "metadata": {},
   "outputs": [
    {
     "name": "stdout",
     "output_type": "stream",
     "text": [
      "+-----------------------------------------+-----+\n",
      "|features                                 |label|\n",
      "+-----------------------------------------+-----+\n",
      "|[0.0,22.0,2.0,16.33,82.0,509.0,0.0,0.0]  |1    |\n",
      "|[2.0,20.0,4.0,6.17,82.0,542.0,0.0,1.0]   |0    |\n",
      "|[9.0,13.0,1.0,10.33,195.0,1989.0,1.0,0.0]|0    |\n",
      "|[5.0,2.0,1.0,7.98,102.0,885.0,0.0,1.0]   |0    |\n",
      "|[7.0,2.0,6.0,10.83,135.0,1180.0,1.0,0.0] |1    |\n",
      "+-----------------------------------------+-----+\n",
      "only showing top 5 rows\n",
      "\n"
     ]
    }
   ],
   "source": [
    "final_data.show(5,truncate=False)"
   ]
  },
  {
   "cell_type": "code",
   "execution_count": 51,
   "metadata": {},
   "outputs": [],
   "source": [
    "train_data, test_data = final_data.randomSplit([0.8,0.2])"
   ]
  },
  {
   "cell_type": "code",
   "execution_count": 53,
   "metadata": {},
   "outputs": [],
   "source": [
    "from pyspark.ml.classification import LogisticRegression"
   ]
  },
  {
   "cell_type": "code",
   "execution_count": 54,
   "metadata": {},
   "outputs": [],
   "source": [
    "lr = LogisticRegression(featuresCol='features',\n",
    "                      labelCol='label',\n",
    "                      predictionCol='prediction')"
   ]
  },
  {
   "cell_type": "code",
   "execution_count": 55,
   "metadata": {},
   "outputs": [],
   "source": [
    "lrModel = lr.fit(train_data)"
   ]
  },
  {
   "cell_type": "code",
   "execution_count": 56,
   "metadata": {},
   "outputs": [
    {
     "name": "stdout",
     "output_type": "stream",
     "text": [
      "coefficients: [-0.059535553300265845,-0.0007554668337151718,-0.0045353938231821505,0.07674386210550642,0.008977784732853131,-0.0005800588319815932,-0.04900711501279269,-0.126871833386621] intercept: -0.9241484816286799\n"
     ]
    }
   ],
   "source": [
    "print('coefficients: {} intercept: {}'.format(lrModel.coefficients,lrModel.intercept))"
   ]
  },
  {
   "cell_type": "code",
   "execution_count": 57,
   "metadata": {},
   "outputs": [],
   "source": [
    "test_results = lrModel.evaluate(test_data)"
   ]
  },
  {
   "cell_type": "code",
   "execution_count": 35,
   "metadata": {},
   "outputs": [],
   "source": [
    "#check"
   ]
  },
  {
   "cell_type": "code",
   "execution_count": 39,
   "metadata": {},
   "outputs": [],
   "source": [
    "#predict"
   ]
  },
  {
   "cell_type": "code",
   "execution_count": 61,
   "metadata": {},
   "outputs": [],
   "source": [
    "test_model = lrModel.transform(test_data)"
   ]
  },
  {
   "cell_type": "code",
   "execution_count": 64,
   "metadata": {},
   "outputs": [
    {
     "name": "stdout",
     "output_type": "stream",
     "text": [
      "+-----+----------+-----+\n",
      "|label|prediction|count|\n",
      "+-----+----------+-----+\n",
      "|    1|       0.0| 1656|\n",
      "|    0|       0.0| 2534|\n",
      "|    1|       1.0| 3115|\n",
      "|    0|       1.0| 2040|\n",
      "+-----+----------+-----+\n",
      "\n"
     ]
    }
   ],
   "source": [
    "test_model.groupBy('label','prediction').count().show()"
   ]
  },
  {
   "cell_type": "code",
   "execution_count": 66,
   "metadata": {},
   "outputs": [
    {
     "data": {
      "text/plain": [
       "0.604494382022472"
      ]
     },
     "execution_count": 66,
     "metadata": {},
     "output_type": "execute_result"
    }
   ],
   "source": [
    "test_model.filter(col('label')==col('prediction')).count()/test_model.count()"
   ]
  },
  {
   "cell_type": "code",
   "execution_count": 72,
   "metadata": {},
   "outputs": [],
   "source": [
    "TN = test_model.filter((col('prediction')==0) & (col('label')==col('prediction'))).count()\n",
    "TP = test_model.filter((col('prediction')==1) & (col('label')==col('prediction'))).count()\n",
    "FN = test_model.filter((col('prediction')==0) & (col('label')!=col('prediction'))).count()\n",
    "FP = test_model.filter((col('prediction')==1) & (col('label')!=col('prediction'))).count()"
   ]
  },
  {
   "cell_type": "code",
   "execution_count": 73,
   "metadata": {},
   "outputs": [
    {
     "data": {
      "text/plain": [
       "0.6042677012609118"
      ]
     },
     "execution_count": 73,
     "metadata": {},
     "output_type": "execute_result"
    }
   ],
   "source": [
    "precision = TP/(TP+FP)\n",
    "precision"
   ]
  },
  {
   "cell_type": "code",
   "execution_count": 74,
   "metadata": {},
   "outputs": [
    {
     "data": {
      "text/plain": [
       "0.6529029553552714"
      ]
     },
     "execution_count": 74,
     "metadata": {},
     "output_type": "execute_result"
    }
   ],
   "source": [
    "recall = TP/(TP+FN)\n",
    "recall"
   ]
  },
  {
   "cell_type": "code",
   "execution_count": 63,
   "metadata": {},
   "outputs": [
    {
     "name": "stdout",
     "output_type": "stream",
     "text": [
      "+----------+-----+\n",
      "|prediction|label|\n",
      "+----------+-----+\n",
      "|       0.0|    1|\n",
      "|       1.0|    1|\n",
      "|       1.0|    1|\n",
      "|       1.0|    1|\n",
      "|       1.0|    1|\n",
      "|       1.0|    0|\n",
      "|       1.0|    0|\n",
      "|       1.0|    1|\n",
      "|       1.0|    0|\n",
      "|       1.0|    1|\n",
      "|       1.0|    0|\n",
      "|       1.0|    1|\n",
      "|       1.0|    1|\n",
      "|       1.0|    0|\n",
      "|       1.0|    1|\n",
      "|       1.0|    0|\n",
      "|       1.0|    0|\n",
      "|       1.0|    1|\n",
      "|       1.0|    1|\n",
      "|       0.0|    1|\n",
      "+----------+-----+\n",
      "only showing top 20 rows\n",
      "\n"
     ]
    }
   ],
   "source": [
    "test_model.select('prediction','label').show()"
   ]
  },
  {
   "cell_type": "code",
   "execution_count": 75,
   "metadata": {},
   "outputs": [],
   "source": [
    "# Danh gia ket qua"
   ]
  },
  {
   "cell_type": "code",
   "execution_count": 76,
   "metadata": {},
   "outputs": [],
   "source": [
    "from pyspark.ml.evaluation import MulticlassClassificationEvaluator, BinaryClassificationEvaluator"
   ]
  },
  {
   "cell_type": "code",
   "execution_count": 77,
   "metadata": {},
   "outputs": [],
   "source": [
    "multi_evaluator = MulticlassClassificationEvaluator()"
   ]
  },
  {
   "cell_type": "code",
   "execution_count": 42,
   "metadata": {},
   "outputs": [],
   "source": [
    "#Luu tru & model"
   ]
  },
  {
   "cell_type": "code",
   "execution_count": 90,
   "metadata": {},
   "outputs": [],
   "source": [
    "lrModel.save('Logistic_flights')"
   ]
  },
  {
   "cell_type": "code",
   "execution_count": 91,
   "metadata": {},
   "outputs": [],
   "source": [
    "from pyspark.ml.classification import LogisticRegressionModel"
   ]
  },
  {
   "cell_type": "code",
   "execution_count": 94,
   "metadata": {},
   "outputs": [],
   "source": [
    "lrModel2 = LogisticRegressionModel.load('Logistic_flights/')"
   ]
  },
  {
   "cell_type": "code",
   "execution_count": null,
   "metadata": {},
   "outputs": [],
   "source": [
    "#Predict new values"
   ]
  },
  {
   "cell_type": "code",
   "execution_count": 97,
   "metadata": {},
   "outputs": [],
   "source": [
    "unlabel_data = data_unknow.select('features')"
   ]
  },
  {
   "cell_type": "code",
   "execution_count": 98,
   "metadata": {},
   "outputs": [],
   "source": [
    "predictions = lrModel2.transform(unlabel_data)"
   ]
  },
  {
   "cell_type": "code",
   "execution_count": 99,
   "metadata": {},
   "outputs": [
    {
     "name": "stdout",
     "output_type": "stream",
     "text": [
      "+--------------------+--------------------+--------------------+----------+\n",
      "|            features|       rawPrediction|         probability|prediction|\n",
      "+--------------------+--------------------+--------------------+----------+\n",
      "|[11.0,20.0,6.0,9....|[0.30031722321956...|[0.57452006283245...|       0.0|\n",
      "|[4.0,2.0,5.0,8.92...|[0.20809887028166...|[0.55183778224905...|       0.0|\n",
      "|[0.0,8.0,2.0,11.0...|[-0.3620990388706...|[0.41045154295701...|       1.0|\n",
      "|[5.0,8.0,0.0,14.4...|[-0.3733638958943...|[0.40772843648905...|       1.0|\n",
      "|[1.0,13.0,3.0,20....|[-0.3897458765290...|[0.40377847725188...|       1.0|\n",
      "+--------------------+--------------------+--------------------+----------+\n",
      "only showing top 5 rows\n",
      "\n"
     ]
    }
   ],
   "source": [
    "predictions.show(5)"
   ]
  },
  {
   "cell_type": "code",
   "execution_count": 102,
   "metadata": {},
   "outputs": [
    {
     "name": "stdout",
     "output_type": "stream",
     "text": [
      "+----------+-----+\n",
      "|prediction|count|\n",
      "+----------+-----+\n",
      "|       0.0| 1010|\n",
      "|       1.0| 1968|\n",
      "+----------+-----+\n",
      "\n"
     ]
    }
   ],
   "source": [
    "predictions.groupBy(col('prediction')).count().show()"
   ]
  },
  {
   "cell_type": "code",
   "execution_count": null,
   "metadata": {},
   "outputs": [],
   "source": []
  }
 ],
 "metadata": {
  "kernelspec": {
   "display_name": "Python 3",
   "language": "python",
   "name": "python3"
  },
  "language_info": {
   "codemirror_mode": {
    "name": "ipython",
    "version": 3
   },
   "file_extension": ".py",
   "mimetype": "text/x-python",
   "name": "python",
   "nbconvert_exporter": "python",
   "pygments_lexer": "ipython3",
   "version": "3.8.5"
  }
 },
 "nbformat": 4,
 "nbformat_minor": 4
}
