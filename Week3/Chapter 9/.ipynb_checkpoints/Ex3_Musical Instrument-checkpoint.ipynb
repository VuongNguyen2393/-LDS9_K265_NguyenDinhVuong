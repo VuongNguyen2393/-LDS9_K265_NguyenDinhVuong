{
 "cells": [
  {
   "cell_type": "code",
   "execution_count": 1,
   "metadata": {},
   "outputs": [],
   "source": [
    "import findspark\n",
    "findspark.init()"
   ]
  },
  {
   "cell_type": "code",
   "execution_count": 2,
   "metadata": {},
   "outputs": [],
   "source": [
    "from pyspark.sql import SparkSession\n",
    "import matplotlib.pyplot as plt\n",
    "import pandas as pd\n",
    "import numpy as np"
   ]
  },
  {
   "cell_type": "code",
   "execution_count": 3,
   "metadata": {},
   "outputs": [],
   "source": [
    "spark = SparkSession.builder.appName('Ex3').getOrCreate()"
   ]
  },
  {
   "cell_type": "code",
   "execution_count": 5,
   "metadata": {},
   "outputs": [],
   "source": [
    "data = spark.read.json('./Musical_Instruments_5.json')"
   ]
  },
  {
   "cell_type": "code",
   "execution_count": 7,
   "metadata": {},
   "outputs": [
    {
     "data": {
      "text/plain": [
       "['asin',\n",
       " 'helpful',\n",
       " 'overall',\n",
       " 'reviewText',\n",
       " 'reviewTime',\n",
       " 'reviewerID',\n",
       " 'reviewerName',\n",
       " 'summary',\n",
       " 'unixReviewTime']"
      ]
     },
     "execution_count": 7,
     "metadata": {},
     "output_type": "execute_result"
    }
   ],
   "source": [
    "data.columns"
   ]
  },
  {
   "cell_type": "code",
   "execution_count": 8,
   "metadata": {},
   "outputs": [],
   "source": [
    "data_sub = data.select(['asin','overall','reviewerID'])"
   ]
  },
  {
   "cell_type": "code",
   "execution_count": 9,
   "metadata": {},
   "outputs": [],
   "source": [
    "from pyspark.sql.functions import col,udf,isnan,isnull,when,count,col"
   ]
  },
  {
   "cell_type": "code",
   "execution_count": 10,
   "metadata": {},
   "outputs": [
    {
     "name": "stdout",
     "output_type": "stream",
     "text": [
      "+----------+-------+--------------+\n",
      "|      asin|overall|    reviewerID|\n",
      "+----------+-------+--------------+\n",
      "|1384719342|    5.0|A2IBPI20UZIR0U|\n",
      "|1384719342|    5.0|A14VAT5EAX3D9S|\n",
      "|1384719342|    5.0|A195EZSQDW3E21|\n",
      "|1384719342|    5.0|A2C00NNG1ZQQG2|\n",
      "|1384719342|    5.0| A94QU4C90B1AX|\n",
      "+----------+-------+--------------+\n",
      "only showing top 5 rows\n",
      "\n"
     ]
    }
   ],
   "source": [
    "data_sub.show(5)"
   ]
  },
  {
   "cell_type": "code",
   "execution_count": 11,
   "metadata": {},
   "outputs": [
    {
     "data": {
      "text/html": [
       "<div>\n",
       "<style scoped>\n",
       "    .dataframe tbody tr th:only-of-type {\n",
       "        vertical-align: middle;\n",
       "    }\n",
       "\n",
       "    .dataframe tbody tr th {\n",
       "        vertical-align: top;\n",
       "    }\n",
       "\n",
       "    .dataframe thead th {\n",
       "        text-align: right;\n",
       "    }\n",
       "</style>\n",
       "<table border=\"1\" class=\"dataframe\">\n",
       "  <thead>\n",
       "    <tr style=\"text-align: right;\">\n",
       "      <th></th>\n",
       "      <th>asin</th>\n",
       "      <th>overall</th>\n",
       "      <th>reviewerID</th>\n",
       "    </tr>\n",
       "  </thead>\n",
       "  <tbody>\n",
       "    <tr>\n",
       "      <th>0</th>\n",
       "      <td>0</td>\n",
       "      <td>0</td>\n",
       "      <td>0</td>\n",
       "    </tr>\n",
       "  </tbody>\n",
       "</table>\n",
       "</div>"
      ],
      "text/plain": [
       "   asin  overall  reviewerID\n",
       "0     0        0           0"
      ]
     },
     "execution_count": 11,
     "metadata": {},
     "output_type": "execute_result"
    }
   ],
   "source": [
    "data_sub.select([count(when(col(c).isNull(),c)).alias(c) for c in data_sub.columns]).toPandas()"
   ]
  },
  {
   "cell_type": "code",
   "execution_count": 13,
   "metadata": {},
   "outputs": [],
   "source": [
    "user = data_sub.select('reviewerID').distinct().count()\n",
    "products = data_sub.select('asin').distinct().count()\n",
    "numerator = data_sub.count()"
   ]
  },
  {
   "cell_type": "code",
   "execution_count": 14,
   "metadata": {},
   "outputs": [],
   "source": [
    "from pyspark.ml.evaluation import RegressionEvaluator\n",
    "from pyspark.ml.recommendation import ALS"
   ]
  },
  {
   "cell_type": "code",
   "execution_count": 15,
   "metadata": {},
   "outputs": [],
   "source": [
    "from pyspark.ml.feature import StringIndexer\n",
    "from pyspark.ml import Pipeline\n",
    "from pyspark.sql.functions import col"
   ]
  },
  {
   "cell_type": "code",
   "execution_count": 16,
   "metadata": {},
   "outputs": [],
   "source": [
    "indexer = StringIndexer(inputCol='asin',outputCol='asin_idx')\n",
    "indexer1 = StringIndexer(inputCol='reviewerID',outputCol='reviewerID_idx')"
   ]
  },
  {
   "cell_type": "code",
   "execution_count": 17,
   "metadata": {},
   "outputs": [],
   "source": [
    "inde_model = Pipeline(stages=[indexer,indexer1])"
   ]
  },
  {
   "cell_type": "code",
   "execution_count": 18,
   "metadata": {},
   "outputs": [],
   "source": [
    "data_indexed = inde_model.fit(data_sub).transform(data_sub)"
   ]
  },
  {
   "cell_type": "code",
   "execution_count": 20,
   "metadata": {},
   "outputs": [],
   "source": [
    "(train,test) = data_indexed.randomSplit([0.8,0.2])"
   ]
  },
  {
   "cell_type": "code",
   "execution_count": 23,
   "metadata": {},
   "outputs": [],
   "source": [
    "als = ALS(maxIter=5,regParam=0.09,rank=25,userCol='reviewerID_idx',itemCol='asin_idx',coldStartStrategy='drop',nonnegative=True,ratingCol='overall')"
   ]
  },
  {
   "cell_type": "code",
   "execution_count": 24,
   "metadata": {},
   "outputs": [],
   "source": [
    "model = als.fit(train)"
   ]
  },
  {
   "cell_type": "code",
   "execution_count": 26,
   "metadata": {},
   "outputs": [
    {
     "name": "stdout",
     "output_type": "stream",
     "text": [
      "+----------+-------+--------------+--------+--------------+----------+\n",
      "|      asin|overall|    reviewerID|asin_idx|reviewerID_idx|prediction|\n",
      "+----------+-------+--------------+--------+--------------+----------+\n",
      "|B000MVYOZY|    4.0| AU3GYRAKBUAEU|   148.0|        1403.0| 3.2735934|\n",
      "|B000MVYOZY|    5.0|A34LQ791ACZ0JC|   148.0|          67.0| 4.3631215|\n",
      "|B000MVYOZY|    5.0|A2U7DXDNYBBLQJ|   148.0|        1117.0| 3.9738126|\n",
      "|B0002E5266|    4.0|A2W8OGJDV7TCMT|   471.0|         720.0| 3.9046159|\n",
      "|B0002E5266|    4.0|A319B090A2POEB|   471.0|          25.0| 4.1536956|\n",
      "|B0002E5266|    4.0|A3CUYX2VXZM9KO|   471.0|         499.0|  4.974415|\n",
      "|B000A2HDXA|    1.0|A3USVXMH3QNRLG|   243.0|         519.0| 2.6312935|\n",
      "|B0002H0JZC|    5.0| AF1I90O6U8VCQ|   392.0|        1338.0| 3.1138525|\n",
      "|B004FRHKA2|    5.0|A26U7I13QO5E0C|   540.0|         300.0| 3.7281342|\n",
      "|B000T517Y4|    2.0|A2BB6IKKR4G40J|   623.0|         675.0| 2.7055118|\n",
      "|B0002MJTZ8|    5.0| ATSVUBE2115N1|   737.0|         258.0| 4.2507157|\n",
      "|B0050CEEIW|    1.0|A3NAA6BH9LWIH4|   858.0|        1254.0| 2.9333026|\n",
      "|B000L6GD04|    5.0| AGYH5U11ZKPFB|    31.0|         137.0|  4.123989|\n",
      "|B000L6GD04|    5.0|A1JNV4K56GG94R|    31.0|         412.0|  4.566602|\n",
      "|B000L6GD04|    5.0| AR6CAR106LX2Y|    31.0|          57.0|  4.457642|\n",
      "|B000L6GD04|    5.0| ALAY8GVFBUQ9L|    31.0|         257.0| 4.7084103|\n",
      "|B002EWV8IU|    3.0|A12P4A1OC41KUO|    85.0|         263.0|  4.578172|\n",
      "|B002EWV8IU|    5.0|A2S8G6OVAK19EX|    85.0|         320.0| 4.4362206|\n",
      "|B002EWV8IU|    5.0|A2F2L5F9OWWVY6|    85.0|          24.0|  5.381407|\n",
      "|B002EWV8IU|    5.0|A1HR4TQ0HAGU8T|    85.0|         933.0|  4.717731|\n",
      "+----------+-------+--------------+--------+--------------+----------+\n",
      "only showing top 20 rows\n",
      "\n"
     ]
    }
   ],
   "source": [
    "prediction = model.transform(test)\n",
    "prediction.show()"
   ]
  },
  {
   "cell_type": "code",
   "execution_count": 27,
   "metadata": {},
   "outputs": [],
   "source": [
    "evaluator = RegressionEvaluator(metricName='rmse',labelCol='overall')"
   ]
  },
  {
   "cell_type": "code",
   "execution_count": 29,
   "metadata": {},
   "outputs": [
    {
     "data": {
      "text/plain": [
       "1.1664439930137867"
      ]
     },
     "execution_count": 29,
     "metadata": {},
     "output_type": "execute_result"
    }
   ],
   "source": [
    "rmse = evaluator.evaluate(prediction)\n",
    "rmse"
   ]
  },
  {
   "cell_type": "markdown",
   "metadata": {},
   "source": [
    "### Recommend for all user"
   ]
  },
  {
   "cell_type": "code",
   "execution_count": 30,
   "metadata": {},
   "outputs": [],
   "source": [
    "user_recommand = model.recommendForAllUsers(3)"
   ]
  },
  {
   "cell_type": "code",
   "execution_count": 31,
   "metadata": {},
   "outputs": [
    {
     "name": "stdout",
     "output_type": "stream",
     "text": [
      "Row(reviewerID_idx=471, recommendations=[Row(asin_idx=513, rating=5.862487316131592), Row(asin_idx=829, rating=5.696627616882324), Row(asin_idx=743, rating=5.684125900268555)])\n",
      "Row(reviewerID_idx=1342, recommendations=[Row(asin_idx=832, rating=6.013309478759766), Row(asin_idx=327, rating=5.85429048538208), Row(asin_idx=263, rating=5.566719055175781)])\n",
      "Row(reviewerID_idx=463, recommendations=[Row(asin_idx=832, rating=5.187957286834717), Row(asin_idx=743, rating=5.067473888397217), Row(asin_idx=424, rating=5.015849590301514)])\n",
      "Row(reviewerID_idx=833, recommendations=[Row(asin_idx=775, rating=4.758092880249023), Row(asin_idx=534, rating=4.68939208984375), Row(asin_idx=832, rating=4.632532119750977)])\n",
      "Row(reviewerID_idx=496, recommendations=[Row(asin_idx=525, rating=5.344379425048828), Row(asin_idx=832, rating=5.236875057220459), Row(asin_idx=459, rating=5.234774112701416)])\n"
     ]
    }
   ],
   "source": [
    "for user in user_recommand.head(5):\n",
    "  print(user)"
   ]
  },
  {
   "cell_type": "code",
   "execution_count": 32,
   "metadata": {},
   "outputs": [
    {
     "name": "stderr",
     "output_type": "stream",
     "text": [
      "<ipython-input-32-476910d41785>:17: SettingWithCopyWarning: \n",
      "A value is trying to be set on a copy of a slice from a DataFrame.\n",
      "Try using .loc[row_indexer,col_indexer] = value instead\n",
      "\n",
      "See the caveats in the documentation: https://pandas.pydata.org/pandas-docs/stable/user_guide/indexing.html#returning-a-view-versus-a-copy\n",
      "  new['recommendations'] = list(zip(new.asin, new.Rating))\n"
     ]
    }
   ],
   "source": [
    "import pandas as pd\n",
    "recs=model.recommendForAllUsers(10).toPandas()\n",
    "nrecs=recs.recommendations.apply(pd.Series).merge(recs, right_index = True, left_index = True).drop([\"recommendations\"], axis = 1).melt(id_vars = ['reviewerID_idx'], value_name = \"recommendation\").drop(\"variable\", axis = 1).dropna() \n",
    "nrecs=nrecs.sort_values('reviewerID_idx')\n",
    "nrecs=pd.concat([nrecs['recommendation'].apply(pd.Series),                  \n",
    "                 nrecs['reviewerID_idx']], axis = 1)\n",
    "nrecs.columns = ['ProductID_index','Rating','UserID_index']\n",
    "md=data_indexed.select(['reviewerID', 'reviewerID_idx','asin', 'asin_idx'])\n",
    "md=md.toPandas()\n",
    "dict1 =dict(zip(md['reviewerID_idx'],md['reviewerID']))\n",
    "dict2=dict(zip(md['asin_idx'],md['asin']))\n",
    "nrecs['reviewerID']=nrecs['UserID_index'].map(dict1)\n",
    "nrecs['asin']=nrecs['ProductID_index'].map(dict2)\n",
    "nrecs=nrecs.sort_values('reviewerID')\n",
    "nrecs.reset_index(drop=True, inplace=True)\n",
    "new=nrecs[['reviewerID','asin','Rating']]\n",
    "new['recommendations'] = list(zip(new.asin, new.Rating))\n",
    "res=new[['reviewerID','recommendations']]  \n",
    "res_new=res['recommendations'].groupby([res.reviewerID]).apply(list).reset_index()"
   ]
  },
  {
   "cell_type": "code",
   "execution_count": 33,
   "metadata": {},
   "outputs": [
    {
     "data": {
      "text/html": [
       "<div>\n",
       "<style scoped>\n",
       "    .dataframe tbody tr th:only-of-type {\n",
       "        vertical-align: middle;\n",
       "    }\n",
       "\n",
       "    .dataframe tbody tr th {\n",
       "        vertical-align: top;\n",
       "    }\n",
       "\n",
       "    .dataframe thead th {\n",
       "        text-align: right;\n",
       "    }\n",
       "</style>\n",
       "<table border=\"1\" class=\"dataframe\">\n",
       "  <thead>\n",
       "    <tr style=\"text-align: right;\">\n",
       "      <th></th>\n",
       "      <th>reviewerID</th>\n",
       "      <th>recommendations</th>\n",
       "    </tr>\n",
       "  </thead>\n",
       "  <tbody>\n",
       "    <tr>\n",
       "      <th>0</th>\n",
       "      <td>A00625243BI8W1SSZNLMD</td>\n",
       "      <td>[(B0007WPCKE, 6.264864444732666), (B001C9R5P6,...</td>\n",
       "    </tr>\n",
       "    <tr>\n",
       "      <th>1</th>\n",
       "      <td>A10044ECXDUVKS</td>\n",
       "      <td>[(B00BHJNC4E, 5.555619239807129), (B00923G9Q0,...</td>\n",
       "    </tr>\n",
       "    <tr>\n",
       "      <th>2</th>\n",
       "      <td>A102MU6ZC9H1N6</td>\n",
       "      <td>[(B001J1JRN0, 5.685401916503906), (B00BHJNC4E,...</td>\n",
       "    </tr>\n",
       "    <tr>\n",
       "      <th>3</th>\n",
       "      <td>A109JTUZXO61UY</td>\n",
       "      <td>[(B003AYC1SM, 6.937452793121338), (B000RY68PA,...</td>\n",
       "    </tr>\n",
       "    <tr>\n",
       "      <th>4</th>\n",
       "      <td>A109ME7C09HM2M</td>\n",
       "      <td>[(B005M0TKL8, 6.085399627685547), (B000RYE5Y6,...</td>\n",
       "    </tr>\n",
       "    <tr>\n",
       "      <th>...</th>\n",
       "      <td>...</td>\n",
       "      <td>...</td>\n",
       "    </tr>\n",
       "    <tr>\n",
       "      <th>1424</th>\n",
       "      <td>AZJPNK73JF3XP</td>\n",
       "      <td>[(B0007WPCKE, 5.481085300445557), (B0002BACB4,...</td>\n",
       "    </tr>\n",
       "    <tr>\n",
       "      <th>1425</th>\n",
       "      <td>AZMHABTPXVLG3</td>\n",
       "      <td>[(B0002IAJ56, 4.021576404571533), (B003AYC1SM,...</td>\n",
       "    </tr>\n",
       "    <tr>\n",
       "      <th>1426</th>\n",
       "      <td>AZMIKIG4BB6BZ</td>\n",
       "      <td>[(B0002E4Z8M, 5.5941057205200195), (B0002E5518...</td>\n",
       "    </tr>\n",
       "    <tr>\n",
       "      <th>1427</th>\n",
       "      <td>AZPDO6FLSMLFP</td>\n",
       "      <td>[(B000RYE5Y6, 5.220370292663574), (B0002GXRF2,...</td>\n",
       "    </tr>\n",
       "    <tr>\n",
       "      <th>1428</th>\n",
       "      <td>AZVME8JMPD3F4</td>\n",
       "      <td>[(B000SZVYLQ, 4.634023189544678), (B0002H0N76,...</td>\n",
       "    </tr>\n",
       "  </tbody>\n",
       "</table>\n",
       "<p>1429 rows × 2 columns</p>\n",
       "</div>"
      ],
      "text/plain": [
       "                 reviewerID                                    recommendations\n",
       "0     A00625243BI8W1SSZNLMD  [(B0007WPCKE, 6.264864444732666), (B001C9R5P6,...\n",
       "1            A10044ECXDUVKS  [(B00BHJNC4E, 5.555619239807129), (B00923G9Q0,...\n",
       "2            A102MU6ZC9H1N6  [(B001J1JRN0, 5.685401916503906), (B00BHJNC4E,...\n",
       "3            A109JTUZXO61UY  [(B003AYC1SM, 6.937452793121338), (B000RY68PA,...\n",
       "4            A109ME7C09HM2M  [(B005M0TKL8, 6.085399627685547), (B000RYE5Y6,...\n",
       "...                     ...                                                ...\n",
       "1424          AZJPNK73JF3XP  [(B0007WPCKE, 5.481085300445557), (B0002BACB4,...\n",
       "1425          AZMHABTPXVLG3  [(B0002IAJ56, 4.021576404571533), (B003AYC1SM,...\n",
       "1426          AZMIKIG4BB6BZ  [(B0002E4Z8M, 5.5941057205200195), (B0002E5518...\n",
       "1427          AZPDO6FLSMLFP  [(B000RYE5Y6, 5.220370292663574), (B0002GXRF2,...\n",
       "1428          AZVME8JMPD3F4  [(B000SZVYLQ, 4.634023189544678), (B0002H0N76,...\n",
       "\n",
       "[1429 rows x 2 columns]"
      ]
     },
     "execution_count": 33,
     "metadata": {},
     "output_type": "execute_result"
    }
   ],
   "source": [
    "res_new"
   ]
  },
  {
   "cell_type": "code",
   "execution_count": null,
   "metadata": {},
   "outputs": [],
   "source": []
  }
 ],
 "metadata": {
  "kernelspec": {
   "display_name": "Python 3",
   "language": "python",
   "name": "python3"
  },
  "language_info": {
   "codemirror_mode": {
    "name": "ipython",
    "version": 3
   },
   "file_extension": ".py",
   "mimetype": "text/x-python",
   "name": "python",
   "nbconvert_exporter": "python",
   "pygments_lexer": "ipython3",
   "version": "3.8.5"
  }
 },
 "nbformat": 4,
 "nbformat_minor": 4
}
