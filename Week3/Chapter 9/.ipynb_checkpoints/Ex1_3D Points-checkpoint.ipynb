{
 "cells": [
  {
   "cell_type": "code",
   "execution_count": 1,
   "metadata": {},
   "outputs": [],
   "source": [
    "import findspark\n",
    "findspark.init()"
   ]
  },
  {
   "cell_type": "code",
   "execution_count": 23,
   "metadata": {},
   "outputs": [],
   "source": [
    "from pyspark.sql import SparkSession\n",
    "import matplotlib.pyplot as plt"
   ]
  },
  {
   "cell_type": "code",
   "execution_count": 3,
   "metadata": {},
   "outputs": [],
   "source": [
    "spark = SparkSession.builder.appName('Ex1').getOrCreate()"
   ]
  },
  {
   "cell_type": "code",
   "execution_count": 4,
   "metadata": {},
   "outputs": [],
   "source": [
    "data = spark.read.csv('./data3D.csv',header=True,inferSchema=True)"
   ]
  },
  {
   "cell_type": "code",
   "execution_count": 5,
   "metadata": {},
   "outputs": [
    {
     "name": "stdout",
     "output_type": "stream",
     "text": [
      "+-------+-------------------+-------------------+-------------------+\n",
      "|     id|                  x|                  y|                  z|\n",
      "+-------+-------------------+-------------------+-------------------+\n",
      "| point0|  5.647627534046943| -6.356222340123802| -7.240816026826695|\n",
      "| point1|  4.414367138680041| -10.32624175635328|  8.963324308916228|\n",
      "| point2|  5.005396944639823| -9.301070062115645|  10.35473056351597|\n",
      "| point3|  4.120163380083817| -7.602476887414266| 11.899997733558848|\n",
      "| point4|  -9.90345298323414|  6.018967450867092| 2.0499450056095667|\n",
      "| point5|-3.1594393958474907|  8.573317231663315|  2.358313545308847|\n",
      "| point6| -7.397441928137873|  8.045395595903233| 1.7854606646015299|\n",
      "| point7|-0.9693510271500931|  7.862982927569075| 3.2409227574252446|\n",
      "| point8| 0.8429846570527002| -7.512538594618869| -7.011648822392197|\n",
      "| point9|  5.790224308267301|-12.205503891046252|  8.483613639072914|\n",
      "|point10| -9.446537710309725|  8.119076412296552|-0.4233730080356417|\n",
      "|point11| -8.418363923849146|  6.429709332373884| 1.2525832476934764|\n",
      "|point12|-2.0858517904683875|  8.415331396352924|   4.39652007605152|\n",
      "|point13| 0.9995146210772836| -6.556070104479053| -5.909100366781967|\n",
      "|point14|    4.6183993732949| -8.787447344408644|  9.136337794763792|\n",
      "|point15| 2.9335087957514707|-6.3931621973473955| -6.069076073439579|\n",
      "|point16| -1.478795657302866|  9.159096785803609|   5.56561705972092|\n",
      "|point17|-11.753479661277167|  6.695759006875593|  4.246692246660029|\n",
      "|point18|-10.150667295898526|  7.726249394554123| 2.6327181340645054|\n",
      "|point19|  1.056220990258447| -6.143899128056742| -6.254741741061425|\n",
      "+-------+-------------------+-------------------+-------------------+\n",
      "only showing top 20 rows\n",
      "\n"
     ]
    }
   ],
   "source": [
    "data.show()"
   ]
  },
  {
   "cell_type": "code",
   "execution_count": 6,
   "metadata": {},
   "outputs": [],
   "source": [
    "from pyspark.sql.functions import col, count, when, isnan, isnull"
   ]
  },
  {
   "cell_type": "code",
   "execution_count": 7,
   "metadata": {},
   "outputs": [],
   "source": [
    "data = data.select('x','y','z')"
   ]
  },
  {
   "cell_type": "code",
   "execution_count": 8,
   "metadata": {},
   "outputs": [
    {
     "name": "stdout",
     "output_type": "stream",
     "text": [
      "+-----------------+------------------+------------------+\n",
      "|                x|                 y|                 z|\n",
      "+-----------------+------------------+------------------+\n",
      "|5.647627534046943|-6.356222340123802|-7.240816026826695|\n",
      "|4.414367138680041|-10.32624175635328| 8.963324308916228|\n",
      "|5.005396944639823|-9.301070062115645| 10.35473056351597|\n",
      "+-----------------+------------------+------------------+\n",
      "only showing top 3 rows\n",
      "\n"
     ]
    }
   ],
   "source": [
    "data.show(3)"
   ]
  },
  {
   "cell_type": "markdown",
   "metadata": {},
   "source": [
    "### Format from data"
   ]
  },
  {
   "cell_type": "code",
   "execution_count": 9,
   "metadata": {},
   "outputs": [],
   "source": [
    "from pyspark.ml.feature import VectorAssembler"
   ]
  },
  {
   "cell_type": "code",
   "execution_count": 10,
   "metadata": {},
   "outputs": [
    {
     "data": {
      "text/plain": [
       "['x', 'y', 'z']"
      ]
     },
     "execution_count": 10,
     "metadata": {},
     "output_type": "execute_result"
    }
   ],
   "source": [
    "data.columns"
   ]
  },
  {
   "cell_type": "code",
   "execution_count": 11,
   "metadata": {},
   "outputs": [],
   "source": [
    "vec_assembler = VectorAssembler(inputCols=data.columns,outputCol='features')"
   ]
  },
  {
   "cell_type": "code",
   "execution_count": 12,
   "metadata": {},
   "outputs": [],
   "source": [
    "final_data = vec_assembler.transform(data)"
   ]
  },
  {
   "cell_type": "markdown",
   "metadata": {},
   "source": [
    "### Scale the Data"
   ]
  },
  {
   "cell_type": "code",
   "execution_count": 13,
   "metadata": {},
   "outputs": [],
   "source": [
    "from pyspark.ml.feature import StandardScaler"
   ]
  },
  {
   "cell_type": "code",
   "execution_count": 14,
   "metadata": {},
   "outputs": [],
   "source": [
    "scaler = StandardScaler(inputCol='features',outputCol='scaledFeatures',withStd=True, withMean=False)"
   ]
  },
  {
   "cell_type": "code",
   "execution_count": 15,
   "metadata": {},
   "outputs": [],
   "source": [
    "scalerModel = scaler.fit(final_data)"
   ]
  },
  {
   "cell_type": "code",
   "execution_count": 16,
   "metadata": {},
   "outputs": [],
   "source": [
    "final_data = scalerModel.transform(final_data)"
   ]
  },
  {
   "cell_type": "code",
   "execution_count": 17,
   "metadata": {},
   "outputs": [
    {
     "name": "stdout",
     "output_type": "stream",
     "text": [
      "+-----------------+------------------+------------------+--------------------+--------------------+\n",
      "|                x|                 y|                 z|            features|      scaledFeatures|\n",
      "+-----------------+------------------+------------------+--------------------+--------------------+\n",
      "|5.647627534046943|-6.356222340123802|-7.240816026826695|[5.64762753404694...|[1.01596735121698...|\n",
      "|4.414367138680041|-10.32624175635328| 8.963324308916228|[4.41436713868004...|[0.79411272470554...|\n",
      "|5.005396944639823|-9.301070062115645| 10.35473056351597|[5.00539694463982...|[0.90043471262547...|\n",
      "+-----------------+------------------+------------------+--------------------+--------------------+\n",
      "only showing top 3 rows\n",
      "\n"
     ]
    }
   ],
   "source": [
    "final_data.show(3)"
   ]
  },
  {
   "cell_type": "markdown",
   "metadata": {},
   "source": [
    "### Train model and evaluate"
   ]
  },
  {
   "cell_type": "code",
   "execution_count": 19,
   "metadata": {},
   "outputs": [],
   "source": [
    "from pyspark.ml.clustering import KMeans\n",
    "from pyspark.ml.evaluation import ClusteringEvaluator"
   ]
  },
  {
   "cell_type": "code",
   "execution_count": 21,
   "metadata": {},
   "outputs": [],
   "source": [
    "k_list = []\n",
    "silhouette_list = []\n",
    "for k in range(2,9):\n",
    "    kmeans = KMeans(featuresCol='scaledFeatures',k=k)\n",
    "    model = kmeans.fit(final_data)\n",
    "    prediction = model.transform(final_data)\n",
    "    evaluator = ClusteringEvaluator()\n",
    "    silhouette = evaluator.evaluate(prediction)\n",
    "    k_list.append(k)\n",
    "    silhouette_list.append(silhouette)"
   ]
  },
  {
   "cell_type": "code",
   "execution_count": 24,
   "metadata": {},
   "outputs": [
    {
     "data": {
      "image/png": "[encoded data removed]",
      "text/plain": [
       "<Figure size 432x288 with 1 Axes>"
      ]
     },
     "metadata": {
      "needs_background": "light"
     },
     "output_type": "display_data"
    }
   ],
   "source": [
    "plt.plot(k_list, silhouette_list, 'ro-')\n",
    "plt.xlabel('k')\n",
    "plt.ylabel('Silhouette score')\n",
    "plt.show()"
   ]
  },
  {
   "cell_type": "markdown",
   "metadata": {},
   "source": [
    "### Select k = 5"
   ]
  },
  {
   "cell_type": "code",
   "execution_count": 25,
   "metadata": {},
   "outputs": [],
   "source": [
    "kmeans = KMeans(featuresCol='scaledFeatures',k=5)\n",
    "model = kmeans.fit(final_data)\n",
    "prediction = model.transform(final_data)"
   ]
  },
  {
   "cell_type": "code",
   "execution_count": 26,
   "metadata": {},
   "outputs": [
    {
     "data": {
      "text/plain": [
       "[array([ 0.34289558, -0.88144134, -1.07461186]),\n",
       " array([-1.02101442,  1.04544395,  0.51977629]),\n",
       " array([ 0.74896823, -1.2269015 ,  1.46702482]),\n",
       " array([ 1.3263998 , -0.73359119, -0.99256846]),\n",
       " array([ 1.02299279, -0.74484447, -0.99846852])]"
      ]
     },
     "execution_count": 26,
     "metadata": {},
     "output_type": "execute_result"
    }
   ],
   "source": [
    "center = model.clusterCenters()\n",
    "center"
   ]
  },
  {
   "cell_type": "code",
   "execution_count": 27,
   "metadata": {},
   "outputs": [
    {
     "name": "stdout",
     "output_type": "stream",
     "text": [
      "+----------+------+\n",
      "|prediction| count|\n",
      "+----------+------+\n",
      "|         1|400000|\n",
      "|         3|109912|\n",
      "|         4| 95500|\n",
      "|         2|200000|\n",
      "|         0|194588|\n",
      "+----------+------+\n",
      "\n"
     ]
    }
   ],
   "source": [
    "prediction.groupby('prediction').count().show()"
   ]
  },
  {
   "cell_type": "code",
   "execution_count": 29,
   "metadata": {},
   "outputs": [],
   "source": [
    "data_result = prediction.select('prediction')"
   ]
  },
  {
   "cell_type": "code",
   "execution_count": 36,
   "metadata": {},
   "outputs": [
    {
     "name": "stdout",
     "output_type": "stream",
     "text": [
      "+----------+\n",
      "|prediction|\n",
      "+----------+\n",
      "|         4|\n",
      "|         2|\n",
      "|         2|\n",
      "|         2|\n",
      "|         1|\n",
      "|         1|\n",
      "|         1|\n",
      "|         1|\n",
      "|         0|\n",
      "|         2|\n",
      "|         1|\n",
      "|         1|\n",
      "|         1|\n",
      "|         0|\n",
      "|         2|\n",
      "|         0|\n",
      "|         1|\n",
      "|         1|\n",
      "|         1|\n",
      "|         0|\n",
      "+----------+\n",
      "only showing top 20 rows\n",
      "\n"
     ]
    }
   ],
   "source": [
    "data_result.show()"
   ]
  },
  {
   "cell_type": "code",
   "execution_count": null,
   "metadata": {},
   "outputs": [],
   "source": []
  }
 ],
 "metadata": {
  "kernelspec": {
   "display_name": "Python 3",
   "language": "python",
   "name": "python3"
  },
  "language_info": {
   "codemirror_mode": {
    "name": "ipython",
    "version": 3
   },
   "file_extension": ".py",
   "mimetype": "text/x-python",
   "name": "python",
   "nbconvert_exporter": "python",
   "pygments_lexer": "ipython3",
   "version": "3.8.5"
  }
 },
 "nbformat": 4,
 "nbformat_minor": 4
}
