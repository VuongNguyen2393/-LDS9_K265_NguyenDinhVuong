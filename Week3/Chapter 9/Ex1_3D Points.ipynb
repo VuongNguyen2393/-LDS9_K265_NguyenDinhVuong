{
 "cells": [
  {
   "cell_type": "code",
   "execution_count": 1,
   "metadata": {},
   "outputs": [],
   "source": [
    "import findspark\n",
    "findspark.init()"
   ]
  },
  {
   "cell_type": "code",
   "execution_count": 23,
   "metadata": {},
   "outputs": [],
   "source": [
    "from pyspark.sql import SparkSession\n",
    "import matplotlib.pyplot as plt"
   ]
  },
  {
   "cell_type": "code",
   "execution_count": 3,
   "metadata": {},
   "outputs": [],
   "source": [
    "spark = SparkSession.builder.appName('Ex1').getOrCreate()"
   ]
  },
  {
   "cell_type": "code",
   "execution_count": 4,
   "metadata": {},
   "outputs": [],
   "source": [
    "data = spark.read.csv('./data3D.csv',header=True,inferSchema=True)"
   ]
  },
  {
   "cell_type": "code",
   "execution_count": 5,
   "metadata": {},
   "outputs": [
    {
     "name": "stdout",
     "output_type": "stream",
     "text": [
      "+-------+-------------------+-------------------+-------------------+\n",
      "|     id|                  x|                  y|                  z|\n",
      "+-------+-------------------+-------------------+-------------------+\n",
      "| point0|  5.647627534046943| -6.356222340123802| -7.240816026826695|\n",
      "| point1|  4.414367138680041| -10.32624175635328|  8.963324308916228|\n",
      "| point2|  5.005396944639823| -9.301070062115645|  10.35473056351597|\n",
      "| point3|  4.120163380083817| -7.602476887414266| 11.899997733558848|\n",
      "| point4|  -9.90345298323414|  6.018967450867092| 2.0499450056095667|\n",
      "| point5|-3.1594393958474907|  8.573317231663315|  2.358313545308847|\n",
      "| point6| -7.397441928137873|  8.045395595903233| 1.7854606646015299|\n",
      "| point7|-0.9693510271500931|  7.862982927569075| 3.2409227574252446|\n",
      "| point8| 0.8429846570527002| -7.512538594618869| -7.011648822392197|\n",
      "| point9|  5.790224308267301|-12.205503891046252|  8.483613639072914|\n",
      "|point10| -9.446537710309725|  8.119076412296552|-0.4233730080356417|\n",
      "|point11| -8.418363923849146|  6.429709332373884| 1.2525832476934764|\n",
      "|point12|-2.0858517904683875|  8.415331396352924|   4.39652007605152|\n",
      "|point13| 0.9995146210772836| -6.556070104479053| -5.909100366781967|\n",
      "|point14|    4.6183993732949| -8.787447344408644|  9.136337794763792|\n",
      "|point15| 2.9335087957514707|-6.3931621973473955| -6.069076073439579|\n",
      "|point16| -1.478795657302866|  9.159096785803609|   5.56561705972092|\n",
      "|point17|-11.753479661277167|  6.695759006875593|  4.246692246660029|\n",
      "|point18|-10.150667295898526|  7.726249394554123| 2.6327181340645054|\n",
      "|point19|  1.056220990258447| -6.143899128056742| -6.254741741061425|\n",
      "+-------+-------------------+-------------------+-------------------+\n",
      "only showing top 20 rows\n",
      "\n"
     ]
    }
   ],
   "source": [
    "data.show()"
   ]
  },
  {
   "cell_type": "code",
   "execution_count": 6,
   "metadata": {},
   "outputs": [],
   "source": [
    "from pyspark.sql.functions import col, count, when, isnan, isnull"
   ]
  },
  {
   "cell_type": "code",
   "execution_count": 7,
   "metadata": {},
   "outputs": [],
   "source": [
    "data = data.select('x','y','z')"
   ]
  },
  {
   "cell_type": "code",
   "execution_count": 8,
   "metadata": {},
   "outputs": [
    {
     "name": "stdout",
     "output_type": "stream",
     "text": [
      "+-----------------+------------------+------------------+\n",
      "|                x|                 y|                 z|\n",
      "+-----------------+------------------+------------------+\n",
      "|5.647627534046943|-6.356222340123802|-7.240816026826695|\n",
      "|4.414367138680041|-10.32624175635328| 8.963324308916228|\n",
      "|5.005396944639823|-9.301070062115645| 10.35473056351597|\n",
      "+-----------------+------------------+------------------+\n",
      "only showing top 3 rows\n",
      "\n"
     ]
    }
   ],
   "source": [
    "data.show(3)"
   ]
  },
  {
   "cell_type": "markdown",
   "metadata": {},
   "source": [
    "### Format from data"
   ]
  },
  {
   "cell_type": "code",
   "execution_count": 9,
   "metadata": {},
   "outputs": [],
   "source": [
    "from pyspark.ml.feature import VectorAssembler"
   ]
  },
  {
   "cell_type": "code",
   "execution_count": 10,
   "metadata": {},
   "outputs": [
    {
     "data": {
      "text/plain": [
       "['x', 'y', 'z']"
      ]
     },
     "execution_count": 10,
     "metadata": {},
     "output_type": "execute_result"
    }
   ],
   "source": [
    "data.columns"
   ]
  },
  {
   "cell_type": "code",
   "execution_count": 11,
   "metadata": {},
   "outputs": [],
   "source": [
    "vec_assembler = VectorAssembler(inputCols=data.columns,outputCol='features')"
   ]
  },
  {
   "cell_type": "code",
   "execution_count": 12,
   "metadata": {},
   "outputs": [],
   "source": [
    "final_data = vec_assembler.transform(data)"
   ]
  },
  {
   "cell_type": "markdown",
   "metadata": {},
   "source": [
    "### Scale the Data"
   ]
  },
  {
   "cell_type": "code",
   "execution_count": 13,
   "metadata": {},
   "outputs": [],
   "source": [
    "from pyspark.ml.feature import StandardScaler"
   ]
  },
  {
   "cell_type": "code",
   "execution_count": 14,
   "metadata": {},
   "outputs": [],
   "source": [
    "scaler = StandardScaler(inputCol='features',outputCol='scaledFeatures',withStd=True, withMean=False)"
   ]
  },
  {
   "cell_type": "code",
   "execution_count": 15,
   "metadata": {},
   "outputs": [],
   "source": [
    "scalerModel = scaler.fit(final_data)"
   ]
  },
  {
   "cell_type": "code",
   "execution_count": 16,
   "metadata": {},
   "outputs": [],
   "source": [
    "final_data = scalerModel.transform(final_data)"
   ]
  },
  {
   "cell_type": "code",
   "execution_count": 17,
   "metadata": {},
   "outputs": [
    {
     "name": "stdout",
     "output_type": "stream",
     "text": [
      "+-----------------+------------------+------------------+--------------------+--------------------+\n",
      "|                x|                 y|                 z|            features|      scaledFeatures|\n",
      "+-----------------+------------------+------------------+--------------------+--------------------+\n",
      "|5.647627534046943|-6.356222340123802|-7.240816026826695|[5.64762753404694...|[1.01596735121698...|\n",
      "|4.414367138680041|-10.32624175635328| 8.963324308916228|[4.41436713868004...|[0.79411272470554...|\n",
      "|5.005396944639823|-9.301070062115645| 10.35473056351597|[5.00539694463982...|[0.90043471262547...|\n",
      "+-----------------+------------------+------------------+--------------------+--------------------+\n",
      "only showing top 3 rows\n",
      "\n"
     ]
    }
   ],
   "source": [
    "final_data.show(3)"
   ]
  },
  {
   "cell_type": "markdown",
   "metadata": {},
   "source": [
    "### Train model and evaluate"
   ]
  },
  {
   "cell_type": "code",
   "execution_count": 19,
   "metadata": {},
   "outputs": [],
   "source": [
    "from pyspark.ml.clustering import KMeans\n",
    "from pyspark.ml.evaluation import ClusteringEvaluator"
   ]
  },
  {
   "cell_type": "code",
   "execution_count": 21,
   "metadata": {},
   "outputs": [],
   "source": [
    "k_list = []\n",
    "silhouette_list = []\n",
    "for k in range(2,9):\n",
    "    kmeans = KMeans(featuresCol='scaledFeatures',k=k)\n",
    "    model = kmeans.fit(final_data)\n",
    "    prediction = model.transform(final_data)\n",
    "    evaluator = ClusteringEvaluator()\n",
    "    silhouette = evaluator.evaluate(prediction)\n",
    "    k_list.append(k)\n",
    "    silhouette_list.append(silhouette)"
   ]
  },
  {
   "cell_type": "code",
   "execution_count": 24,
   "metadata": {},
   "outputs": [
    {
     "data": {
      "image/png": "[encoded data removed]",
      "text/plain": [
       "<Figure size 432x288 with 1 Axes>"
      ]
     },
     "metadata": {
      "needs_background": "light"
     },
     "output_type": "display_data"
    }
   ],
   "source": [
    "plt.plot(k_list, silhouette_list, 'ro-')\n",
    "plt.xlabel('k')\n",
    "plt.ylabel('Silhouette score')\n",
    "plt.show()"
   ]
  },
  {
   "cell_type": "markdown",
   "metadata": {},
   "source": [
    "### Select k = 5"
   ]
  },
  {
   "cell_type": "code",
   "execution_count": 25,
   "metadata": {},
   "outputs": [],
   "source": [
    "kmeans = KMeans(featuresCol='scaledFeatures',k=5)\n",
    "model = kmeans.fit(final_data)\n",
    "prediction = model.transform(final_data)"
   ]
  },
  {
   "cell_type": "code",
   "execution_count": 26,
   "metadata": {},
   "outputs": [
    {
     "data": {
      "text/plain": [
       "[array([ 0.34289558, -0.88144134, -1.07461186]),\n",
       " array([-1.02101442,  1.04544395,  0.51977629]),\n",
       " array([ 0.74896823, -1.2269015 ,  1.46702482]),\n",
       " array([ 1.3263998 , -0.73359119, -0.99256846]),\n",
       " array([ 1.02299279, -0.74484447, -0.99846852])]"
      ]
     },
     "execution_count": 26,
     "metadata": {},
     "output_type": "execute_result"
    }
   ],
   "source": [
    "center = model.clusterCenters()\n",
    "center"
   ]
  },
  {
   "cell_type": "code",
   "execution_count": 27,
   "metadata": {},
   "outputs": [
    {
     "name": "stdout",
     "output_type": "stream",
     "text": [
      "+----------+------+\n",
      "|prediction| count|\n",
      "+----------+------+\n",
      "|         1|400000|\n",
      "|         3|109912|\n",
      "|         4| 95500|\n",
      "|         2|200000|\n",
      "|         0|194588|\n",
      "+----------+------+\n",
      "\n"
     ]
    }
   ],
   "source": [
    "prediction.groupby('prediction').count().show()"
   ]
  },
  {
   "cell_type": "code",
   "execution_count": 29,
   "metadata": {},
   "outputs": [],
   "source": [
    "data_result = prediction.select('prediction')"
   ]
  },
  {
   "cell_type": "code",
   "execution_count": 37,
   "metadata": {},
   "outputs": [
    {
     "data": {
      "text/plain": [
       "pyspark.sql.dataframe.DataFrame"
      ]
     },
     "execution_count": 37,
     "metadata": {},
     "output_type": "execute_result"
    }
   ],
   "source": [
    "type(data_result)"
   ]
  },
  {
   "cell_type": "code",
   "execution_count": 38,
   "metadata": {},
   "outputs": [
    {
     "name": "stdout",
     "output_type": "stream",
     "text": [
      "+-----------------+------------------+------------------+--------------------+--------------------+\n",
      "|                x|                 y|                 z|            features|      scaledFeatures|\n",
      "+-----------------+------------------+------------------+--------------------+--------------------+\n",
      "|5.647627534046943|-6.356222340123802|-7.240816026826695|[5.64762753404694...|[1.01596735121698...|\n",
      "|4.414367138680041|-10.32624175635328| 8.963324308916228|[4.41436713868004...|[0.79411272470554...|\n",
      "|5.005396944639823|-9.301070062115645| 10.35473056351597|[5.00539694463982...|[0.90043471262547...|\n",
      "+-----------------+------------------+------------------+--------------------+--------------------+\n",
      "only showing top 3 rows\n",
      "\n"
     ]
    }
   ],
   "source": [
    "final_data.show(3)"
   ]
  },
  {
   "cell_type": "code",
   "execution_count": 41,
   "metadata": {},
   "outputs": [],
   "source": [
    "temp = final_data.select('scaledFeatures').rdd.map(lambda x: x[0].toArray().tolist()).toDF()"
   ]
  },
  {
   "cell_type": "code",
   "execution_count": 42,
   "metadata": {},
   "outputs": [
    {
     "name": "stdout",
     "output_type": "stream",
     "text": [
      "+--------------------+-------------------+--------------------+\n",
      "|                  _1|                 _2|                  _3|\n",
      "+--------------------+-------------------+--------------------+\n",
      "|   1.015967351216984|-0.8133579916042446| -1.1300631023636798|\n",
      "|  0.7941127247055418|-1.3213715327025208|  1.3988923401033808|\n",
      "|  0.9004347126254798|-1.1901880174546255|  1.6160469899240184|\n",
      "|   0.741187596138343|-0.9728318176240068|  1.8572144779101338|\n",
      "| -1.7815595725145947| 0.7702020186526743|  0.3199317872642207|\n",
      "| -0.5683602990775919| 1.0970629584357676|   0.368058394452257|\n",
      "|  -1.330746306516117| 1.0295087952222317|   0.278654119965561|\n",
      "|-0.17437923969243066|  1.006166817295677|  0.5058058666603217|\n",
      "|  0.1516468435602876|-0.9613230903828899| -1.0942973266494809|\n",
      "|  1.0416194796768314|-1.5618465812109734|  1.3240246282610082|\n",
      "| -1.6993638192066636| 1.0389371754195587|-0.06607517897778672|\n",
      "| -1.5144027905050126| 0.8227615695829846| 0.19548875508132596|\n",
      "| -0.3752296527733015|   1.07684669870885|  0.6861581758657624|\n",
      "|  0.1798054521047483|-0.8389310077047827| -0.9222242725024029|\n",
      "|  0.8308166482052564| -1.124463579295915|  1.4258942906906185|\n",
      "|  0.5277170179910405|-0.8180849074473026| -0.9471914367969432|\n",
      "|-0.26602464448723745| 1.1720207645324467|   0.868617357183819|\n",
      "| -2.1143659929878096|  0.856805946469187|  0.6627747752828357|\n",
      "| -1.8260316395739797| 0.9886700549348079|  0.4108842996711124|\n",
      "|  0.1900065178348808|-0.7861885862409858| -0.9761679940769268|\n",
      "+--------------------+-------------------+--------------------+\n",
      "only showing top 20 rows\n",
      "\n"
     ]
    }
   ],
   "source": [
    "temp.show()"
   ]
  },
  {
   "cell_type": "code",
   "execution_count": 43,
   "metadata": {},
   "outputs": [],
   "source": [
    "import pyspark.sql.functions as f"
   ]
  },
  {
   "cell_type": "code",
   "execution_count": 44,
   "metadata": {},
   "outputs": [],
   "source": [
    "temp=temp.withColumn('row_index',f.monotonically_increasing_id())\n",
    "data_result=data_result.withColumn('row_index',f.monotonically_increasing_id())\n",
    "temp = temp.join(data_result,on=['row_index']).sort('row_index').drop('row_index')"
   ]
  },
  {
   "cell_type": "code",
   "execution_count": 45,
   "metadata": {},
   "outputs": [],
   "source": [
    "temp = temp.select(col('_1').alias('x_scale'),\n",
    "                  col('_2').alias('y_scale'),\n",
    "                  col('_3').alias('z_scale'),'prediction')"
   ]
  },
  {
   "cell_type": "code",
   "execution_count": 46,
   "metadata": {},
   "outputs": [],
   "source": [
    "df = temp.toPandas()"
   ]
  },
  {
   "cell_type": "code",
   "execution_count": 47,
   "metadata": {},
   "outputs": [
    {
     "data": {
      "text/html": [
       "<div>\n",
       "<style scoped>\n",
       "    .dataframe tbody tr th:only-of-type {\n",
       "        vertical-align: middle;\n",
       "    }\n",
       "\n",
       "    .dataframe tbody tr th {\n",
       "        vertical-align: top;\n",
       "    }\n",
       "\n",
       "    .dataframe thead th {\n",
       "        text-align: right;\n",
       "    }\n",
       "</style>\n",
       "<table border=\"1\" class=\"dataframe\">\n",
       "  <thead>\n",
       "    <tr style=\"text-align: right;\">\n",
       "      <th></th>\n",
       "      <th>x_scale</th>\n",
       "      <th>y_scale</th>\n",
       "      <th>z_scale</th>\n",
       "      <th>prediction</th>\n",
       "    </tr>\n",
       "  </thead>\n",
       "  <tbody>\n",
       "    <tr>\n",
       "      <th>0</th>\n",
       "      <td>1.015967</td>\n",
       "      <td>-0.813358</td>\n",
       "      <td>-1.130063</td>\n",
       "      <td>4</td>\n",
       "    </tr>\n",
       "    <tr>\n",
       "      <th>1</th>\n",
       "      <td>0.794113</td>\n",
       "      <td>-1.321372</td>\n",
       "      <td>1.398892</td>\n",
       "      <td>2</td>\n",
       "    </tr>\n",
       "    <tr>\n",
       "      <th>2</th>\n",
       "      <td>0.900435</td>\n",
       "      <td>-1.190188</td>\n",
       "      <td>1.616047</td>\n",
       "      <td>2</td>\n",
       "    </tr>\n",
       "    <tr>\n",
       "      <th>3</th>\n",
       "      <td>0.741188</td>\n",
       "      <td>-0.972832</td>\n",
       "      <td>1.857214</td>\n",
       "      <td>2</td>\n",
       "    </tr>\n",
       "    <tr>\n",
       "      <th>4</th>\n",
       "      <td>-1.781560</td>\n",
       "      <td>0.770202</td>\n",
       "      <td>0.319932</td>\n",
       "      <td>1</td>\n",
       "    </tr>\n",
       "  </tbody>\n",
       "</table>\n",
       "</div>"
      ],
      "text/plain": [
       "    x_scale   y_scale   z_scale  prediction\n",
       "0  1.015967 -0.813358 -1.130063           4\n",
       "1  0.794113 -1.321372  1.398892           2\n",
       "2  0.900435 -1.190188  1.616047           2\n",
       "3  0.741188 -0.972832  1.857214           2\n",
       "4 -1.781560  0.770202  0.319932           1"
      ]
     },
     "execution_count": 47,
     "metadata": {},
     "output_type": "execute_result"
    }
   ],
   "source": [
    "df.head()"
   ]
  },
  {
   "cell_type": "code",
   "execution_count": 54,
   "metadata": {},
   "outputs": [],
   "source": [
    "centers = model.clusterCenters()"
   ]
  },
  {
   "cell_type": "code",
   "execution_count": 57,
   "metadata": {},
   "outputs": [
    {
     "data": {
      "text/html": [
       "<div>\n",
       "<style scoped>\n",
       "    .dataframe tbody tr th:only-of-type {\n",
       "        vertical-align: middle;\n",
       "    }\n",
       "\n",
       "    .dataframe tbody tr th {\n",
       "        vertical-align: top;\n",
       "    }\n",
       "\n",
       "    .dataframe thead th {\n",
       "        text-align: right;\n",
       "    }\n",
       "</style>\n",
       "<table border=\"1\" class=\"dataframe\">\n",
       "  <thead>\n",
       "    <tr style=\"text-align: right;\">\n",
       "      <th></th>\n",
       "      <th>0</th>\n",
       "      <th>1</th>\n",
       "      <th>2</th>\n",
       "    </tr>\n",
       "  </thead>\n",
       "  <tbody>\n",
       "    <tr>\n",
       "      <th>0</th>\n",
       "      <td>0.342896</td>\n",
       "      <td>-0.881441</td>\n",
       "      <td>-1.074612</td>\n",
       "    </tr>\n",
       "    <tr>\n",
       "      <th>1</th>\n",
       "      <td>-1.021014</td>\n",
       "      <td>1.045444</td>\n",
       "      <td>0.519776</td>\n",
       "    </tr>\n",
       "    <tr>\n",
       "      <th>2</th>\n",
       "      <td>0.748968</td>\n",
       "      <td>-1.226902</td>\n",
       "      <td>1.467025</td>\n",
       "    </tr>\n",
       "    <tr>\n",
       "      <th>3</th>\n",
       "      <td>1.326400</td>\n",
       "      <td>-0.733591</td>\n",
       "      <td>-0.992568</td>\n",
       "    </tr>\n",
       "    <tr>\n",
       "      <th>4</th>\n",
       "      <td>1.022993</td>\n",
       "      <td>-0.744844</td>\n",
       "      <td>-0.998469</td>\n",
       "    </tr>\n",
       "  </tbody>\n",
       "</table>\n",
       "</div>"
      ],
      "text/plain": [
       "          0         1         2\n",
       "0  0.342896 -0.881441 -1.074612\n",
       "1 -1.021014  1.045444  0.519776\n",
       "2  0.748968 -1.226902  1.467025\n",
       "3  1.326400 -0.733591 -0.992568\n",
       "4  1.022993 -0.744844 -0.998469"
      ]
     },
     "execution_count": 57,
     "metadata": {},
     "output_type": "execute_result"
    }
   ],
   "source": [
    "centers_df = pd.DataFrame(centers)\n",
    "centers_df.head()"
   ]
  },
  {
   "cell_type": "code",
   "execution_count": 49,
   "metadata": {},
   "outputs": [],
   "source": [
    "import numpy as np\n",
    "import pandas as pd\n",
    "from mpl_toolkits.mplot3d import Axes3D"
   ]
  },
  {
   "cell_type": "code",
   "execution_count": 59,
   "metadata": {},
   "outputs": [
    {
     "data": {
      "image/png": "[encoded data removed]",
      "text/plain": [
       "<Figure size 864x720 with 1 Axes>"
      ]
     },
     "metadata": {
      "needs_background": "light"
     },
     "output_type": "display_data"
    }
   ],
   "source": [
    "threedee = plt.figure(figsize =(12,10)).gca(projection='3d')\n",
    "threedee.scatter(df.x_scale,df.y_scale,df.z_scale,c=df.prediction);"
   ]
  },
  {
   "cell_type": "code",
   "execution_count": 60,
   "metadata": {},
   "outputs": [],
   "source": [
    "final_data = final_data.withColumn('row_index',f.monotonically_increasing_id())"
   ]
  },
  {
   "cell_type": "code",
   "execution_count": 61,
   "metadata": {},
   "outputs": [],
   "source": [
    "temp = temp.withColumn('row_index',f.monotonically_increasing_id())"
   ]
  },
  {
   "cell_type": "code",
   "execution_count": 62,
   "metadata": {},
   "outputs": [],
   "source": [
    "final_data = final_data.join(temp,on='row_index').sort('row_index').drop('row_index')"
   ]
  },
  {
   "cell_type": "code",
   "execution_count": 63,
   "metadata": {},
   "outputs": [
    {
     "name": "stdout",
     "output_type": "stream",
     "text": [
      "+-------------------+-------------------+-------------------+--------------------+--------------------+--------------------+-------------------+--------------------+----------+\n",
      "|                  x|                  y|                  z|            features|      scaledFeatures|             x_scale|            y_scale|             z_scale|prediction|\n",
      "+-------------------+-------------------+-------------------+--------------------+--------------------+--------------------+-------------------+--------------------+----------+\n",
      "|  5.647627534046943| -6.356222340123802| -7.240816026826695|[5.64762753404694...|[1.01596735121698...|   1.015967351216984|-0.8133579916042446| -1.1300631023636798|         4|\n",
      "|  4.414367138680041| -10.32624175635328|  8.963324308916228|[4.41436713868004...|[0.79411272470554...|  0.7941127247055418|-1.3213715327025208|  1.3988923401033808|         2|\n",
      "|  5.005396944639823| -9.301070062115645|  10.35473056351597|[5.00539694463982...|[0.90043471262547...|  0.9004347126254798|-1.1901880174546255|  1.6160469899240184|         2|\n",
      "|  4.120163380083817| -7.602476887414266| 11.899997733558848|[4.12016338008381...|[0.74118759613834...|   0.741187596138343|-0.9728318176240068|  1.8572144779101338|         2|\n",
      "|  -9.90345298323414|  6.018967450867092| 2.0499450056095667|[-9.9034529832341...|[-1.7815595725145...| -1.7815595725145947| 0.7702020186526743|  0.3199317872642207|         1|\n",
      "|-3.1594393958474907|  8.573317231663315|  2.358313545308847|[-3.1594393958474...|[-0.5683602990775...| -0.5683602990775919| 1.0970629584357676|   0.368058394452257|         1|\n",
      "| -7.397441928137873|  8.045395595903233| 1.7854606646015299|[-7.3974419281378...|[-1.3307463065161...|  -1.330746306516117| 1.0295087952222317|   0.278654119965561|         1|\n",
      "|-0.9693510271500931|  7.862982927569075| 3.2409227574252446|[-0.9693510271500...|[-0.1743792396924...|-0.17437923969243066|  1.006166817295677|  0.5058058666603217|         1|\n",
      "| 0.8429846570527002| -7.512538594618869| -7.011648822392197|[0.84298465705270...|[0.15164684356028...|  0.1516468435602876|-0.9613230903828899| -1.0942973266494809|         0|\n",
      "|  5.790224308267301|-12.205503891046252|  8.483613639072914|[5.79022430826730...|[1.04161947967683...|  1.0416194796768314|-1.5618465812109734|  1.3240246282610082|         2|\n",
      "| -9.446537710309725|  8.119076412296552|-0.4233730080356417|[-9.4465377103097...|[-1.6993638192066...| -1.6993638192066636| 1.0389371754195587|-0.06607517897778672|         1|\n",
      "| -8.418363923849146|  6.429709332373884| 1.2525832476934764|[-8.4183639238491...|[-1.5144027905050...| -1.5144027905050126| 0.8227615695829846| 0.19548875508132596|         1|\n",
      "|-2.0858517904683875|  8.415331396352924|   4.39652007605152|[-2.0858517904683...|[-0.3752296527733...| -0.3752296527733015|   1.07684669870885|  0.6861581758657624|         1|\n",
      "| 0.9995146210772836| -6.556070104479053| -5.909100366781967|[0.99951462107728...|[0.17980545210474...|  0.1798054521047483|-0.8389310077047827| -0.9222242725024029|         0|\n",
      "|    4.6183993732949| -8.787447344408644|  9.136337794763792|[4.6183993732949,...|[0.83081664820525...|  0.8308166482052564| -1.124463579295915|  1.4258942906906185|         2|\n",
      "| 2.9335087957514707|-6.3931621973473955| -6.069076073439579|[2.93350879575147...|[0.52771701799104...|  0.5277170179910405|-0.8180849074473026| -0.9471914367969432|         0|\n",
      "| -1.478795657302866|  9.159096785803609|   5.56561705972092|[-1.4787956573028...|[-0.2660246444872...|-0.26602464448723745| 1.1720207645324467|   0.868617357183819|         1|\n",
      "|-11.753479661277167|  6.695759006875593|  4.246692246660029|[-11.753479661277...|[-2.1143659929878...| -2.1143659929878096|  0.856805946469187|  0.6627747752828357|         1|\n",
      "|-10.150667295898526|  7.726249394554123| 2.6327181340645054|[-10.150667295898...|[-1.8260316395739...| -1.8260316395739797| 0.9886700549348079|  0.4108842996711124|         1|\n",
      "|  1.056220990258447| -6.143899128056742| -6.254741741061425|[1.05622099025844...|[0.19000651783488...|  0.1900065178348808|-0.7861885862409858| -0.9761679940769268|         0|\n",
      "+-------------------+-------------------+-------------------+--------------------+--------------------+--------------------+-------------------+--------------------+----------+\n",
      "only showing top 20 rows\n",
      "\n"
     ]
    }
   ],
   "source": [
    "final_data.show()"
   ]
  },
  {
   "cell_type": "code",
   "execution_count": null,
   "metadata": {},
   "outputs": [],
   "source": []
  }
 ],
 "metadata": {
  "kernelspec": {
   "display_name": "Python 3",
   "language": "python",
   "name": "python3"
  },
  "language_info": {
   "codemirror_mode": {
    "name": "ipython",
    "version": 3
   },
   "file_extension": ".py",
   "mimetype": "text/x-python",
   "name": "python",
   "nbconvert_exporter": "python",
   "pygments_lexer": "ipython3",
   "version": "3.8.5"
  }
 },
 "nbformat": 4,
 "nbformat_minor": 4
}
