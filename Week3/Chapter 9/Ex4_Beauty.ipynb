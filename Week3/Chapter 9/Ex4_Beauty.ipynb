{
 "cells": [
  {
   "cell_type": "code",
   "execution_count": 1,
   "metadata": {},
   "outputs": [],
   "source": [
    "import findspark\n",
    "findspark.init()"
   ]
  },
  {
   "cell_type": "code",
   "execution_count": 2,
   "metadata": {},
   "outputs": [],
   "source": [
    "from pyspark.sql import SparkSession\n",
    "import matplotlib.pyplot as plt\n",
    "import pandas as pd\n",
    "import numpy as np"
   ]
  },
  {
   "cell_type": "code",
   "execution_count": 3,
   "metadata": {},
   "outputs": [],
   "source": [
    "spark = SparkSession.builder.appName('Ex4').getOrCreate()"
   ]
  },
  {
   "cell_type": "code",
   "execution_count": 4,
   "metadata": {},
   "outputs": [],
   "source": [
    "data = spark.read.json('./Beauty_5.json')"
   ]
  },
  {
   "cell_type": "code",
   "execution_count": 5,
   "metadata": {},
   "outputs": [
    {
     "data": {
      "text/plain": [
       "['asin',\n",
       " 'helpful',\n",
       " 'overall',\n",
       " 'reviewText',\n",
       " 'reviewTime',\n",
       " 'reviewerID',\n",
       " 'reviewerName',\n",
       " 'summary',\n",
       " 'unixReviewTime']"
      ]
     },
     "execution_count": 5,
     "metadata": {},
     "output_type": "execute_result"
    }
   ],
   "source": [
    "data.columns"
   ]
  },
  {
   "cell_type": "code",
   "execution_count": 6,
   "metadata": {},
   "outputs": [],
   "source": [
    "data_sub = data.select('asin','overall','reviewerID')"
   ]
  },
  {
   "cell_type": "code",
   "execution_count": 7,
   "metadata": {},
   "outputs": [],
   "source": [
    "from pyspark.sql.functions import col,when,count,isnan,isnull,udf"
   ]
  },
  {
   "cell_type": "code",
   "execution_count": 10,
   "metadata": {},
   "outputs": [
    {
     "data": {
      "text/html": [
       "<div>\n",
       "<style scoped>\n",
       "    .dataframe tbody tr th:only-of-type {\n",
       "        vertical-align: middle;\n",
       "    }\n",
       "\n",
       "    .dataframe tbody tr th {\n",
       "        vertical-align: top;\n",
       "    }\n",
       "\n",
       "    .dataframe thead th {\n",
       "        text-align: right;\n",
       "    }\n",
       "</style>\n",
       "<table border=\"1\" class=\"dataframe\">\n",
       "  <thead>\n",
       "    <tr style=\"text-align: right;\">\n",
       "      <th></th>\n",
       "      <th>asin</th>\n",
       "      <th>overall</th>\n",
       "      <th>reviewerID</th>\n",
       "    </tr>\n",
       "  </thead>\n",
       "  <tbody>\n",
       "    <tr>\n",
       "      <th>0</th>\n",
       "      <td>0</td>\n",
       "      <td>0</td>\n",
       "      <td>0</td>\n",
       "    </tr>\n",
       "  </tbody>\n",
       "</table>\n",
       "</div>"
      ],
      "text/plain": [
       "   asin  overall  reviewerID\n",
       "0     0        0           0"
      ]
     },
     "execution_count": 10,
     "metadata": {},
     "output_type": "execute_result"
    }
   ],
   "source": [
    "data_sub.select([count(when(col(c).isNull(),c)).alias(c) for c in data_sub.columns]).toPandas()"
   ]
  },
  {
   "cell_type": "code",
   "execution_count": 11,
   "metadata": {},
   "outputs": [],
   "source": [
    "from pyspark.ml.evaluation import RegressionEvaluator\n",
    "from pyspark.ml.recommendation import ALS"
   ]
  },
  {
   "cell_type": "code",
   "execution_count": 12,
   "metadata": {},
   "outputs": [],
   "source": [
    "from pyspark.ml.feature import StandardScaler,StringIndexer\n",
    "from pyspark.ml import Pipeline"
   ]
  },
  {
   "cell_type": "code",
   "execution_count": 14,
   "metadata": {},
   "outputs": [],
   "source": [
    "index_1 = StringIndexer(inputCol='asin',outputCol='asin_idx')\n",
    "index_2 = StringIndexer(inputCol='reviewerID',outputCol='reviewerID_idx')"
   ]
  },
  {
   "cell_type": "code",
   "execution_count": 15,
   "metadata": {},
   "outputs": [],
   "source": [
    "pipeline = Pipeline(stages=(index_1,index_2))\n",
    "data_indexed = pipeline.fit(data_sub).transform(data_sub)"
   ]
  },
  {
   "cell_type": "code",
   "execution_count": 16,
   "metadata": {},
   "outputs": [],
   "source": [
    "(train,test) = data_indexed.randomSplit([0.8,0.2])"
   ]
  },
  {
   "cell_type": "code",
   "execution_count": 17,
   "metadata": {},
   "outputs": [],
   "source": [
    "als = ALS(maxIter=5,regParam=0.09,rank=25,userCol='reviewerID_idx',itemCol='asin_idx',coldStartStrategy='drop',nonnegative=True,ratingCol='overall')"
   ]
  },
  {
   "cell_type": "code",
   "execution_count": 18,
   "metadata": {},
   "outputs": [],
   "source": [
    "model = als.fit(train)"
   ]
  },
  {
   "cell_type": "code",
   "execution_count": 19,
   "metadata": {},
   "outputs": [
    {
     "name": "stdout",
     "output_type": "stream",
     "text": [
      "+----------+-------+--------------+--------+--------------+----------+\n",
      "|      asin|overall|    reviewerID|asin_idx|reviewerID_idx|prediction|\n",
      "+----------+-------+--------------+--------+--------------+----------+\n",
      "|B005TI7NQW|    3.0|A2E7RX6AFUDQEX|   148.0|         961.0|  3.686547|\n",
      "|B005TI7NQW|    5.0| ACR4HKUT808U1|   148.0|         159.0|  3.954616|\n",
      "|B005TI7NQW|    3.0| A3U1WPDQLP9CQ|   148.0|         995.0| 3.4416752|\n",
      "|B005TI7NQW|    5.0| ACJT8MUC0LRF0|   148.0|         190.0| 4.5023875|\n",
      "|B005TI7NQW|    4.0| AYB4ELCS5AM8P|   148.0|         225.0|  3.642216|\n",
      "|B005TI7NQW|    5.0|A23GFTVIETX7DS|   148.0|         455.0|  4.003447|\n",
      "|B005TI7NQW|    5.0|A1P2XYD265YE21|   148.0|          43.0|  4.786423|\n",
      "|B005TI7NQW|    5.0|A33PVCHCQ2BTN0|   148.0|         179.0|  4.341035|\n",
      "|B005TI7NQW|    5.0|A1SB9BNNGKNX2Z|   148.0|        6882.0|  4.542335|\n",
      "|B005TI7NQW|    5.0|A3JT29L4YFEIMJ|   148.0|         505.0|  4.763384|\n",
      "|B005TI7NQW|    5.0|A2BZ16RKE13PKV|   148.0|         890.0| 4.2951736|\n",
      "|B005TI7NQW|    5.0| ATYUQROTHLNYV|   148.0|         717.0| 2.7139325|\n",
      "|B005TI7NQW|    5.0|A1MDDJ2XUPZZOE|   148.0|         238.0| 4.1698537|\n",
      "|B005TI7NQW|    4.0|A3JHC8O59WDHFZ|   148.0|        2097.0|   3.22891|\n",
      "|B005TI7NQW|    5.0|A376OJHLE6SU9Q|   148.0|          69.0| 4.4934473|\n",
      "|B005TI7NQW|    4.0| AIW4CHZOM5W7D|   148.0|        1695.0| 4.1869087|\n",
      "|B005TI7NQW|    5.0|A2HHAV29CZ1OIE|   148.0|         893.0|  3.232121|\n",
      "|B005TI7NQW|    5.0|A1ONZ8JRPLBNUI|   148.0|         376.0|   4.70611|\n",
      "|B005TI7NQW|    4.0|A3J3OCM6PPWNRY|   148.0|        6008.0|  4.439527|\n",
      "|B005TI7NQW|    5.0| AGEKVD8JPZQMT|   148.0|          58.0|  3.838694|\n",
      "+----------+-------+--------------+--------+--------------+----------+\n",
      "only showing top 20 rows\n",
      "\n"
     ]
    }
   ],
   "source": [
    "prediction = model.transform(test)\n",
    "prediction.show()"
   ]
  },
  {
   "cell_type": "code",
   "execution_count": 20,
   "metadata": {},
   "outputs": [],
   "source": [
    "evaluator = RegressionEvaluator(metricName='rmse',labelCol='overall')"
   ]
  },
  {
   "cell_type": "code",
   "execution_count": 21,
   "metadata": {},
   "outputs": [
    {
     "data": {
      "text/plain": [
       "1.346670922945394"
      ]
     },
     "execution_count": 21,
     "metadata": {},
     "output_type": "execute_result"
    }
   ],
   "source": [
    "rmse = evaluator.evaluate(prediction)\n",
    "rmse"
   ]
  },
  {
   "cell_type": "markdown",
   "metadata": {},
   "source": [
    "### Recommend for all user"
   ]
  },
  {
   "cell_type": "code",
   "execution_count": 23,
   "metadata": {},
   "outputs": [],
   "source": [
    "user_recommand = model.recommendForAllUsers(3)"
   ]
  },
  {
   "cell_type": "code",
   "execution_count": 24,
   "metadata": {},
   "outputs": [
    {
     "name": "stdout",
     "output_type": "stream",
     "text": [
      "Row(reviewerID_idx=1580, recommendations=[Row(asin_idx=7091, rating=5.682399272918701), Row(asin_idx=6059, rating=5.533816337585449), Row(asin_idx=4744, rating=5.524819374084473)])\n",
      "Row(reviewerID_idx=4900, recommendations=[Row(asin_idx=8272, rating=6.774626731872559), Row(asin_idx=10417, rating=6.682068824768066), Row(asin_idx=3809, rating=6.563076496124268)])\n",
      "Row(reviewerID_idx=5300, recommendations=[Row(asin_idx=10417, rating=7.152647972106934), Row(asin_idx=10281, rating=7.02388858795166), Row(asin_idx=3695, rating=6.900285243988037)])\n",
      "Row(reviewerID_idx=6620, recommendations=[Row(asin_idx=10417, rating=7.158432960510254), Row(asin_idx=7480, rating=6.946445941925049), Row(asin_idx=8272, rating=6.931892395019531)])\n",
      "Row(reviewerID_idx=7240, recommendations=[Row(asin_idx=4508, rating=5.90614652633667), Row(asin_idx=10409, rating=5.7474365234375), Row(asin_idx=3425, rating=5.6135759353637695)])\n"
     ]
    }
   ],
   "source": [
    "for user in user_recommand.head(5):\n",
    "  print(user)"
   ]
  },
  {
   "cell_type": "code",
   "execution_count": 25,
   "metadata": {},
   "outputs": [
    {
     "name": "stderr",
     "output_type": "stream",
     "text": [
      "<ipython-input-25-476910d41785>:17: SettingWithCopyWarning: \n",
      "A value is trying to be set on a copy of a slice from a DataFrame.\n",
      "Try using .loc[row_indexer,col_indexer] = value instead\n",
      "\n",
      "See the caveats in the documentation: https://pandas.pydata.org/pandas-docs/stable/user_guide/indexing.html#returning-a-view-versus-a-copy\n",
      "  new['recommendations'] = list(zip(new.asin, new.Rating))\n"
     ]
    }
   ],
   "source": [
    "import pandas as pd\n",
    "recs=model.recommendForAllUsers(10).toPandas()\n",
    "nrecs=recs.recommendations.apply(pd.Series).merge(recs, right_index = True, left_index = True).drop([\"recommendations\"], axis = 1).melt(id_vars = ['reviewerID_idx'], value_name = \"recommendation\").drop(\"variable\", axis = 1).dropna() \n",
    "nrecs=nrecs.sort_values('reviewerID_idx')\n",
    "nrecs=pd.concat([nrecs['recommendation'].apply(pd.Series),                  \n",
    "                 nrecs['reviewerID_idx']], axis = 1)\n",
    "nrecs.columns = ['ProductID_index','Rating','UserID_index']\n",
    "md=data_indexed.select(['reviewerID', 'reviewerID_idx','asin', 'asin_idx'])\n",
    "md=md.toPandas()\n",
    "dict1 =dict(zip(md['reviewerID_idx'],md['reviewerID']))\n",
    "dict2=dict(zip(md['asin_idx'],md['asin']))\n",
    "nrecs['reviewerID']=nrecs['UserID_index'].map(dict1)\n",
    "nrecs['asin']=nrecs['ProductID_index'].map(dict2)\n",
    "nrecs=nrecs.sort_values('reviewerID')\n",
    "nrecs.reset_index(drop=True, inplace=True)\n",
    "new=nrecs[['reviewerID','asin','Rating']]\n",
    "new['recommendations'] = list(zip(new.asin, new.Rating))\n",
    "res=new[['reviewerID','recommendations']]  \n",
    "res_new=res['recommendations'].groupby([res.reviewerID]).apply(list).reset_index()"
   ]
  },
  {
   "cell_type": "code",
   "execution_count": 26,
   "metadata": {},
   "outputs": [
    {
     "data": {
      "text/html": [
       "<div>\n",
       "<style scoped>\n",
       "    .dataframe tbody tr th:only-of-type {\n",
       "        vertical-align: middle;\n",
       "    }\n",
       "\n",
       "    .dataframe tbody tr th {\n",
       "        vertical-align: top;\n",
       "    }\n",
       "\n",
       "    .dataframe thead th {\n",
       "        text-align: right;\n",
       "    }\n",
       "</style>\n",
       "<table border=\"1\" class=\"dataframe\">\n",
       "  <thead>\n",
       "    <tr style=\"text-align: right;\">\n",
       "      <th></th>\n",
       "      <th>reviewerID</th>\n",
       "      <th>recommendations</th>\n",
       "    </tr>\n",
       "  </thead>\n",
       "  <tbody>\n",
       "    <tr>\n",
       "      <th>0</th>\n",
       "      <td>A00414041RD0BXM6WK0GX</td>\n",
       "      <td>[(B00IC8JBIE, 5.359609127044678), (B00GYJWL7G,...</td>\n",
       "    </tr>\n",
       "    <tr>\n",
       "      <th>1</th>\n",
       "      <td>A00473363TJ8YSZ3YAGG9</td>\n",
       "      <td>[(B00IC9AG5A, 4.454488277435303), (B00IC8JBIE,...</td>\n",
       "    </tr>\n",
       "    <tr>\n",
       "      <th>2</th>\n",
       "      <td>A00700212KB3K0MVESPIY</td>\n",
       "      <td>[(B002X0WLEI, 6.599361419677734), (B00GYJWL7G,...</td>\n",
       "    </tr>\n",
       "    <tr>\n",
       "      <th>3</th>\n",
       "      <td>A0078719IR14X3NNUG0F</td>\n",
       "      <td>[(B002X0WLEI, 8.044244766235352), (B007L5P7YQ,...</td>\n",
       "    </tr>\n",
       "    <tr>\n",
       "      <th>4</th>\n",
       "      <td>A01198201H0E3GHV2Z17I</td>\n",
       "      <td>[(B000P8559S, 6.395101547241211), (B003GXC0T2,...</td>\n",
       "    </tr>\n",
       "    <tr>\n",
       "      <th>...</th>\n",
       "      <td>...</td>\n",
       "      <td>...</td>\n",
       "    </tr>\n",
       "    <tr>\n",
       "      <th>22356</th>\n",
       "      <td>AZZNK89PXD006</td>\n",
       "      <td>[(B000NIZZYK, 4.761874198913574), (B002C3UMLK,...</td>\n",
       "    </tr>\n",
       "    <tr>\n",
       "      <th>22357</th>\n",
       "      <td>AZZQXL8VDCFTV</td>\n",
       "      <td>[(B000P8559S, 6.816717147827148), (B007L9DRXK,...</td>\n",
       "    </tr>\n",
       "    <tr>\n",
       "      <th>22358</th>\n",
       "      <td>AZZT1ERHBSNQ8</td>\n",
       "      <td>[(B005LZT9GU, 6.380086898803711), (B004RLBCZ0,...</td>\n",
       "    </tr>\n",
       "    <tr>\n",
       "      <th>22359</th>\n",
       "      <td>AZZU6NXB8YJN9</td>\n",
       "      <td>[(B00GYJWL7G, 5.412257194519043), (B001CB2OQO,...</td>\n",
       "    </tr>\n",
       "    <tr>\n",
       "      <th>22360</th>\n",
       "      <td>AZZZLM1E5JJ8C</td>\n",
       "      <td>[(B004WC2H8A, 4.940019607543945), (B00HB831SM,...</td>\n",
       "    </tr>\n",
       "  </tbody>\n",
       "</table>\n",
       "<p>22361 rows × 2 columns</p>\n",
       "</div>"
      ],
      "text/plain": [
       "                  reviewerID  \\\n",
       "0      A00414041RD0BXM6WK0GX   \n",
       "1      A00473363TJ8YSZ3YAGG9   \n",
       "2      A00700212KB3K0MVESPIY   \n",
       "3       A0078719IR14X3NNUG0F   \n",
       "4      A01198201H0E3GHV2Z17I   \n",
       "...                      ...   \n",
       "22356          AZZNK89PXD006   \n",
       "22357          AZZQXL8VDCFTV   \n",
       "22358          AZZT1ERHBSNQ8   \n",
       "22359          AZZU6NXB8YJN9   \n",
       "22360          AZZZLM1E5JJ8C   \n",
       "\n",
       "                                         recommendations  \n",
       "0      [(B00IC8JBIE, 5.359609127044678), (B00GYJWL7G,...  \n",
       "1      [(B00IC9AG5A, 4.454488277435303), (B00IC8JBIE,...  \n",
       "2      [(B002X0WLEI, 6.599361419677734), (B00GYJWL7G,...  \n",
       "3      [(B002X0WLEI, 8.044244766235352), (B007L5P7YQ,...  \n",
       "4      [(B000P8559S, 6.395101547241211), (B003GXC0T2,...  \n",
       "...                                                  ...  \n",
       "22356  [(B000NIZZYK, 4.761874198913574), (B002C3UMLK,...  \n",
       "22357  [(B000P8559S, 6.816717147827148), (B007L9DRXK,...  \n",
       "22358  [(B005LZT9GU, 6.380086898803711), (B004RLBCZ0,...  \n",
       "22359  [(B00GYJWL7G, 5.412257194519043), (B001CB2OQO,...  \n",
       "22360  [(B004WC2H8A, 4.940019607543945), (B00HB831SM,...  \n",
       "\n",
       "[22361 rows x 2 columns]"
      ]
     },
     "execution_count": 26,
     "metadata": {},
     "output_type": "execute_result"
    }
   ],
   "source": [
    "res_new"
   ]
  },
  {
   "cell_type": "code",
   "execution_count": null,
   "metadata": {},
   "outputs": [],
   "source": []
  }
 ],
 "metadata": {
  "kernelspec": {
   "display_name": "Python 3",
   "language": "python",
   "name": "python3"
  },
  "language_info": {
   "codemirror_mode": {
    "name": "ipython",
    "version": 3
   },
   "file_extension": ".py",
   "mimetype": "text/x-python",
   "name": "python",
   "nbconvert_exporter": "python",
   "pygments_lexer": "ipython3",
   "version": "3.8.5"
  }
 },
 "nbformat": 4,
 "nbformat_minor": 4
}
