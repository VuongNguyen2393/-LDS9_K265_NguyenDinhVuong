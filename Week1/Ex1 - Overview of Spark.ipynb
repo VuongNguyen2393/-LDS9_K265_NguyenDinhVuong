{
 "cells": [
  {
   "cell_type": "code",
   "execution_count": 1,
   "metadata": {},
   "outputs": [],
   "source": [
    "import findspark\n",
    "findspark.init()"
   ]
  },
  {
   "cell_type": "code",
   "execution_count": 2,
   "metadata": {},
   "outputs": [],
   "source": [
    "from pyspark import SparkContext"
   ]
  },
  {
   "cell_type": "code",
   "execution_count": 3,
   "metadata": {},
   "outputs": [],
   "source": [
    "sc = SparkContext(master='local',appName='Ex1')"
   ]
  },
  {
   "cell_type": "code",
   "execution_count": 4,
   "metadata": {},
   "outputs": [],
   "source": [
    "data = sc.textFile('./t8.shakespeare.txt')"
   ]
  },
  {
   "cell_type": "code",
   "execution_count": 5,
   "metadata": {},
   "outputs": [
    {
     "name": "stdout",
     "output_type": "stream",
     "text": [
      "Number of lines : 124456\n"
     ]
    }
   ],
   "source": [
    "print('Number of lines :' , data.count())"
   ]
  },
  {
   "cell_type": "code",
   "execution_count": 6,
   "metadata": {},
   "outputs": [
    {
     "name": "stdout",
     "output_type": "stream",
     "text": [
      "Number of Love: 2484\n"
     ]
    }
   ],
   "source": [
    "print('Number of Love:', data.filter(lambda x: 'love' in x).count())"
   ]
  },
  {
   "cell_type": "code",
   "execution_count": 7,
   "metadata": {},
   "outputs": [],
   "source": [
    "import re"
   ]
  },
  {
   "cell_type": "code",
   "execution_count": 11,
   "metadata": {},
   "outputs": [],
   "source": []
  },
  {
   "cell_type": "code",
   "execution_count": 29,
   "metadata": {},
   "outputs": [
    {
     "data": {
      "text/plain": [
       "1191"
      ]
     },
     "execution_count": 29,
     "metadata": {},
     "output_type": "execute_result"
    }
   ],
   "source": [
    "parttern_1 = '[\\s|\\S]*\\d{1,}[\\s|\\S]*'\n",
    "numbers = data.filter(lambda x: re.match(parttern_1,x)).count()\n",
    "numbers"
   ]
  },
  {
   "cell_type": "code",
   "execution_count": 30,
   "metadata": {},
   "outputs": [
    {
     "data": {
      "text/plain": [
       "1191"
      ]
     },
     "execution_count": 30,
     "metadata": {},
     "output_type": "execute_result"
    }
   ],
   "source": [
    "parttern_2 = '[\\s|\\S]*\\d[\\s|\\S]*'\n",
    "numbers = data.filter(lambda x: re.match(parttern_2,x)).count()\n",
    "numbers"
   ]
  },
  {
   "cell_type": "code",
   "execution_count": 35,
   "metadata": {},
   "outputs": [
    {
     "data": {
      "text/plain": [
       "1191"
      ]
     },
     "execution_count": 35,
     "metadata": {},
     "output_type": "execute_result"
    }
   ],
   "source": [
    "parttern_3 = '.*\\d.*'\n",
    "numbers = data.filter(lambda x: re.match(parttern_3,x)).count()\n",
    "numbers"
   ]
  },
  {
   "cell_type": "code",
   "execution_count": 40,
   "metadata": {},
   "outputs": [
    {
     "name": "stdout",
     "output_type": "stream",
     "text": [
      "number of lines: 1191\n",
      "0 : This is the 100th Etext file presented by Project Gutenberg, and\n",
      "1 : SHAKESPEARE IS COPYRIGHT 1990-1993 BY WORLD LIBRARY, INC., AND IS\n",
      "2 : DISTRIBUTED SO LONG AS SUCH COPIES (1) ARE FOR YOUR OR OTHERS\n",
      "3 : PERSONAL USE ONLY, AND (2) ARE NOT DISTRIBUTED OR USED\n",
      "4 : **Etexts Readable By Both Humans and By Computers, Since 1971**\n",
      "5 : January, 1994  [Etext #100]\n",
      "6 : ******This file should be named shaks12.txt or shaks12.zip*****\n",
      "7 : Corrected EDITIONS of our etexts get a new NUMBER, shaks13.txt\n",
      "8 : VERSIONS based on separate sources get new LETTER, shaks10a.txt\n",
      "9 : Please call them at 1-800-443-0238 or email julianc@netcom.com\n"
     ]
    }
   ],
   "source": [
    "if numbers != 0 :\n",
    "    numb_line = data.filter(lambda x: re.match(parttern_3,x))\n",
    "    print('number of lines:',numb_line.count())\n",
    "    for i in range(10):\n",
    "        print('%i :' %i,numb_line.collect()[i])"
   ]
  },
  {
   "cell_type": "code",
   "execution_count": null,
   "metadata": {},
   "outputs": [],
   "source": []
  }
 ],
 "metadata": {
  "kernelspec": {
   "display_name": "Python 3",
   "language": "python",
   "name": "python3"
  },
  "language_info": {
   "codemirror_mode": {
    "name": "ipython",
    "version": 3
   },
   "file_extension": ".py",
   "mimetype": "text/x-python",
   "name": "python",
   "nbconvert_exporter": "python",
   "pygments_lexer": "ipython3",
   "version": "3.8.5"
  }
 },
 "nbformat": 4,
 "nbformat_minor": 4
}
