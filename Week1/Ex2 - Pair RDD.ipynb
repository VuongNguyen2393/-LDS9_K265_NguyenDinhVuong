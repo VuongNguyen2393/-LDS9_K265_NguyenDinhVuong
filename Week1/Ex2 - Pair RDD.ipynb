{
 "cells": [
  {
   "cell_type": "code",
   "execution_count": 1,
   "metadata": {},
   "outputs": [],
   "source": [
    "import findspark\n",
    "findspark.init()"
   ]
  },
  {
   "cell_type": "code",
   "execution_count": 2,
   "metadata": {},
   "outputs": [],
   "source": [
    "from pyspark import SparkContext"
   ]
  },
  {
   "cell_type": "code",
   "execution_count": 3,
   "metadata": {},
   "outputs": [],
   "source": [
    "sc = SparkContext(master='local',appName='Ex2')"
   ]
  },
  {
   "cell_type": "code",
   "execution_count": 9,
   "metadata": {},
   "outputs": [
    {
     "name": "stdout",
     "output_type": "stream",
     "text": [
      "Số lượng element:  5000\n",
      "5 element đầu tiên:\n",
      " ['664159\\t550946', '665845\\t557965', '597173\\t575538', '618600\\t551446', '635690\\t608046']\n"
     ]
    }
   ],
   "source": [
    "#1\n",
    "data = sc.textFile('./5000_points.txt')\n",
    "print('Số lượng element: ',data.count())\n",
    "print('5 element đầu tiên:\\n',data.take(5))"
   ]
  },
  {
   "cell_type": "code",
   "execution_count": 13,
   "metadata": {},
   "outputs": [
    {
     "name": "stdout",
     "output_type": "stream",
     "text": [
      "5 element pair data:\n",
      " [('664159', '550946'), ('665845', '557965'), ('597173', '575538'), ('618600', '551446'), ('635690', '608046')]\n"
     ]
    }
   ],
   "source": [
    "#2\n",
    "pair_data = data.map(lambda x: (x.split('\\t')[0],x.split('\\t')[1]))\n",
    "print('5 element pair data:\\n',pair_data.take(5))"
   ]
  },
  {
   "cell_type": "code",
   "execution_count": 15,
   "metadata": {},
   "outputs": [
    {
     "name": "stdout",
     "output_type": "stream",
     "text": [
      "5 element pair data:\n",
      " [('99569', '523174'), ('98675', '580608'), ('98533', '355691'), ('98525', '579761'), ('97430', '598804')]\n"
     ]
    }
   ],
   "source": [
    "#3\n",
    "pair_data_sort = pair_data.sortByKey(ascending=False)\n",
    "print('5 element pair data:\\n',pair_data_sort.take(5))"
   ]
  },
  {
   "cell_type": "code",
   "execution_count": 28,
   "metadata": {},
   "outputs": [
    {
     "name": "stdout",
     "output_type": "stream",
     "text": [
      "871544 2\n",
      "865489 2\n",
      "838036 2\n",
      "826192 2\n",
      "805089 2\n",
      "804251 2\n",
      "620330 2\n",
      "618869 2\n",
      "393758 2\n",
      "341966 2\n",
      "338474 2\n",
      "186380 2\n",
      "166973 2\n"
     ]
    }
   ],
   "source": [
    "#4\n",
    "for key,val in pair_data_sort.countByKey().items():\n",
    "    if val > 1:\n",
    "        print(key,val)"
   ]
  },
  {
   "cell_type": "code",
   "execution_count": 34,
   "metadata": {},
   "outputs": [
    {
     "name": "stdout",
     "output_type": "stream",
     "text": [
      "871544 ['144135', '592403']\n",
      "865489 ['161762', '548920']\n",
      "838036 ['749612', '542999']\n",
      "826192 ['172906', '577784']\n",
      "805089 ['762512', '96540']\n",
      "804251 ['329956', '331304']\n",
      "620330 ['398630', '396776']\n",
      "618869 ['577243', '398187']\n",
      "393758 ['750953', '439738']\n",
      "341966 ['561987', '586266']\n",
      "338474 ['563350', '564151']\n",
      "186380 ['363938', '487625']\n",
      "166973 ['341636', '334724']\n"
     ]
    }
   ],
   "source": [
    "#5\n",
    "pair_data_group = pair_data_sort.groupByKey()\n",
    "for key,val in pair_data_group.collect():\n",
    "    if len(list(val)) > 1:\n",
    "        print(key,list(val))"
   ]
  },
  {
   "cell_type": "code",
   "execution_count": 37,
   "metadata": {},
   "outputs": [
    {
     "name": "stdout",
     "output_type": "stream",
     "text": [
      "Numb of element:  4987\n"
     ]
    }
   ],
   "source": [
    "#6\n",
    "pair_data_reduce = pair_data_sort.reduceByKey(max)\n",
    "print('Numb of element: ',pair_data_reduce.count())"
   ]
  },
  {
   "cell_type": "code",
   "execution_count": null,
   "metadata": {},
   "outputs": [],
   "source": []
  }
 ],
 "metadata": {
  "kernelspec": {
   "display_name": "Python 3",
   "language": "python",
   "name": "python3"
  },
  "language_info": {
   "codemirror_mode": {
    "name": "ipython",
    "version": 3
   },
   "file_extension": ".py",
   "mimetype": "text/x-python",
   "name": "python",
   "nbconvert_exporter": "python",
   "pygments_lexer": "ipython3",
   "version": "3.8.5"
  }
 },
 "nbformat": 4,
 "nbformat_minor": 4
}
