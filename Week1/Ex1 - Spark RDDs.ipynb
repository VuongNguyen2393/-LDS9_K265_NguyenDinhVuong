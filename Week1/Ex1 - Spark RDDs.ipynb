{
 "cells": [
  {
   "cell_type": "code",
   "execution_count": 1,
   "metadata": {},
   "outputs": [],
   "source": [
    "import findspark\n",
    "findspark.init()"
   ]
  },
  {
   "cell_type": "code",
   "execution_count": 2,
   "metadata": {},
   "outputs": [],
   "source": [
    "from pyspark import SparkContext"
   ]
  },
  {
   "cell_type": "code",
   "execution_count": 3,
   "metadata": {},
   "outputs": [],
   "source": [
    "sc = SparkContext(master='local',appName='Ex1')"
   ]
  },
  {
   "cell_type": "code",
   "execution_count": 4,
   "metadata": {},
   "outputs": [],
   "source": [
    "#1\n",
    "RDD = sc.textFile('kddcup.data_10_percent.gz')"
   ]
  },
  {
   "cell_type": "code",
   "execution_count": 5,
   "metadata": {},
   "outputs": [
    {
     "data": {
      "text/plain": [
       "494021"
      ]
     },
     "execution_count": 5,
     "metadata": {},
     "output_type": "execute_result"
    }
   ],
   "source": [
    "#2\n",
    "RDD.count()"
   ]
  },
  {
   "cell_type": "code",
   "execution_count": 6,
   "metadata": {},
   "outputs": [
    {
     "data": {
      "text/plain": [
       "['0,tcp,http,SF,181,5450,0,0,0,0,0,1,0,0,0,0,0,0,0,0,0,0,8,8,0.00,0.00,0.00,0.00,1.00,0.00,0.00,9,9,1.00,0.00,0.11,0.00,0.00,0.00,0.00,0.00,normal.',\n",
       " '0,tcp,http,SF,239,486,0,0,0,0,0,1,0,0,0,0,0,0,0,0,0,0,8,8,0.00,0.00,0.00,0.00,1.00,0.00,0.00,19,19,1.00,0.00,0.05,0.00,0.00,0.00,0.00,0.00,normal.',\n",
       " '0,tcp,http,SF,235,1337,0,0,0,0,0,1,0,0,0,0,0,0,0,0,0,0,8,8,0.00,0.00,0.00,0.00,1.00,0.00,0.00,29,29,1.00,0.00,0.03,0.00,0.00,0.00,0.00,0.00,normal.']"
      ]
     },
     "execution_count": 6,
     "metadata": {},
     "output_type": "execute_result"
    }
   ],
   "source": [
    "#3\n",
    "RDD.take(3)"
   ]
  },
  {
   "cell_type": "code",
   "execution_count": 7,
   "metadata": {},
   "outputs": [],
   "source": [
    "#4\n",
    "RDD_nomal = RDD.filter(lambda x: 'normal' in x)"
   ]
  },
  {
   "cell_type": "code",
   "execution_count": 8,
   "metadata": {},
   "outputs": [
    {
     "data": {
      "text/plain": [
       "97278"
      ]
     },
     "execution_count": 8,
     "metadata": {},
     "output_type": "execute_result"
    }
   ],
   "source": [
    "#5\n",
    "RDD_nomal.count()"
   ]
  },
  {
   "cell_type": "code",
   "execution_count": 9,
   "metadata": {},
   "outputs": [],
   "source": [
    "#6\n",
    "RDD_array = RDD.collect()"
   ]
  },
  {
   "cell_type": "code",
   "execution_count": 10,
   "metadata": {},
   "outputs": [],
   "source": [
    "#7\n",
    "RDD_sample = RDD.sample(False,0.1)"
   ]
  },
  {
   "cell_type": "code",
   "execution_count": 11,
   "metadata": {},
   "outputs": [
    {
     "data": {
      "text/plain": [
       "0.19691065764410826"
      ]
     },
     "execution_count": 11,
     "metadata": {},
     "output_type": "execute_result"
    }
   ],
   "source": [
    "#8\n",
    "RDD_nomal.count()/RDD.count()"
   ]
  },
  {
   "cell_type": "code",
   "execution_count": 12,
   "metadata": {},
   "outputs": [
    {
     "name": "stdout",
     "output_type": "stream",
     "text": [
      "number of element: 396743\n",
      "first element: 184,tcp,telnet,SF,1511,2957,0,0,0,3,0,1,2,1,0,0,1,0,0,0,0,0,1,1,0.00,0.00,0.00,0.00,1.00,0.00,0.00,1,3,1.00,0.00,1.00,0.67,0.00,0.00,0.00,0.00,buffer_overflow.\n"
     ]
    }
   ],
   "source": [
    "#9\n",
    "RDD_no_normal = RDD.filter(lambda x: 'normal' not in x)\n",
    "print('number of element:', RDD_no_normal.count())\n",
    "print('first element:', RDD_no_normal.first())"
   ]
  },
  {
   "cell_type": "code",
   "execution_count": 13,
   "metadata": {},
   "outputs": [
    {
     "data": {
      "text/plain": [
       "['0',\n",
       " 'tcp',\n",
       " 'http',\n",
       " 'SF',\n",
       " '181',\n",
       " '5450',\n",
       " '0',\n",
       " '0',\n",
       " '0',\n",
       " '0',\n",
       " '0',\n",
       " '1',\n",
       " '0',\n",
       " '0',\n",
       " '0',\n",
       " '0',\n",
       " '0',\n",
       " '0',\n",
       " '0',\n",
       " '0',\n",
       " '0',\n",
       " '0',\n",
       " '8',\n",
       " '8',\n",
       " '0.00',\n",
       " '0.00',\n",
       " '0.00',\n",
       " '0.00',\n",
       " '1.00',\n",
       " '0.00',\n",
       " '0.00',\n",
       " '9',\n",
       " '9',\n",
       " '1.00',\n",
       " '0.00',\n",
       " '0.11',\n",
       " '0.00',\n",
       " '0.00',\n",
       " '0.00',\n",
       " '0.00',\n",
       " '0.00',\n",
       " 'normal.']"
      ]
     },
     "execution_count": 13,
     "metadata": {},
     "output_type": "execute_result"
    }
   ],
   "source": [
    "#10\n",
    "array_RDD = RDD.map(lambda x: x.split(','))\n",
    "array_RDD.first()"
   ]
  },
  {
   "cell_type": "code",
   "execution_count": 14,
   "metadata": {},
   "outputs": [
    {
     "name": "stdout",
     "output_type": "stream",
     "text": [
      "number of protocol: 3\n",
      "Protocol: ['tcp', 'udp', 'icmp']\n"
     ]
    }
   ],
   "source": [
    "#11\n",
    "protocol = array_RDD.map(lambda x: x[1]).distinct()\n",
    "print('number of protocol:' , protocol.count())\n",
    "print('Protocol:',protocol.collect())"
   ]
  },
  {
   "cell_type": "code",
   "execution_count": 15,
   "metadata": {},
   "outputs": [
    {
     "name": "stdout",
     "output_type": "stream",
     "text": [
      "number of service: 66\n",
      "Protocol: ['http', 'smtp', 'finger', 'domain_u', 'auth', 'telnet', 'ftp', 'eco_i', 'ntp_u', 'ecr_i', 'other', 'private', 'pop_3', 'ftp_data', 'rje', 'time', 'mtp', 'link', 'remote_job', 'gopher', 'ssh', 'name', 'whois', 'domain', 'login', 'imap4', 'daytime', 'ctf', 'nntp', 'shell', 'IRC', 'nnsp', 'http_443', 'exec', 'printer', 'efs', 'courier', 'uucp', 'klogin', 'kshell', 'echo', 'discard', 'systat', 'supdup', 'iso_tsap', 'hostnames', 'csnet_ns', 'pop_2', 'sunrpc', 'uucp_path', 'netbios_ns', 'netbios_ssn', 'netbios_dgm', 'sql_net', 'vmnet', 'bgp', 'Z39_50', 'ldap', 'netstat', 'urh_i', 'X11', 'urp_i', 'pm_dump', 'tftp_u', 'tim_i', 'red_i']\n"
     ]
    }
   ],
   "source": [
    "#12\n",
    "service = array_RDD.map(lambda x: x[2]).distinct()\n",
    "print('number of service:' , service.count())\n",
    "print('Protocol:',service.collect()) "
   ]
  },
  {
   "cell_type": "code",
   "execution_count": 16,
   "metadata": {},
   "outputs": [
    {
     "data": {
      "text/plain": [
       "[('tcp', 'http'),\n",
       " ('tcp', 'smtp'),\n",
       " ('tcp', 'finger'),\n",
       " ('tcp', 'domain_u'),\n",
       " ('tcp', 'auth'),\n",
       " ('tcp', 'telnet'),\n",
       " ('tcp', 'ftp'),\n",
       " ('tcp', 'eco_i'),\n",
       " ('tcp', 'ntp_u'),\n",
       " ('tcp', 'ecr_i'),\n",
       " ('tcp', 'other'),\n",
       " ('tcp', 'private'),\n",
       " ('tcp', 'pop_3'),\n",
       " ('tcp', 'ftp_data'),\n",
       " ('tcp', 'rje'),\n",
       " ('tcp', 'time'),\n",
       " ('tcp', 'mtp'),\n",
       " ('tcp', 'link'),\n",
       " ('tcp', 'remote_job'),\n",
       " ('tcp', 'gopher'),\n",
       " ('tcp', 'ssh'),\n",
       " ('tcp', 'name'),\n",
       " ('tcp', 'whois'),\n",
       " ('tcp', 'domain'),\n",
       " ('tcp', 'login'),\n",
       " ('tcp', 'imap4'),\n",
       " ('tcp', 'daytime'),\n",
       " ('tcp', 'ctf'),\n",
       " ('tcp', 'nntp'),\n",
       " ('tcp', 'shell'),\n",
       " ('tcp', 'IRC'),\n",
       " ('tcp', 'nnsp'),\n",
       " ('tcp', 'http_443'),\n",
       " ('tcp', 'exec'),\n",
       " ('tcp', 'printer'),\n",
       " ('tcp', 'efs'),\n",
       " ('tcp', 'courier'),\n",
       " ('tcp', 'uucp'),\n",
       " ('tcp', 'klogin'),\n",
       " ('tcp', 'kshell'),\n",
       " ('tcp', 'echo'),\n",
       " ('tcp', 'discard'),\n",
       " ('tcp', 'systat'),\n",
       " ('tcp', 'supdup'),\n",
       " ('tcp', 'iso_tsap'),\n",
       " ('tcp', 'hostnames'),\n",
       " ('tcp', 'csnet_ns'),\n",
       " ('tcp', 'pop_2'),\n",
       " ('tcp', 'sunrpc'),\n",
       " ('tcp', 'uucp_path'),\n",
       " ('tcp', 'netbios_ns'),\n",
       " ('tcp', 'netbios_ssn'),\n",
       " ('tcp', 'netbios_dgm'),\n",
       " ('tcp', 'sql_net'),\n",
       " ('tcp', 'vmnet'),\n",
       " ('tcp', 'bgp'),\n",
       " ('tcp', 'Z39_50'),\n",
       " ('tcp', 'ldap'),\n",
       " ('tcp', 'netstat'),\n",
       " ('tcp', 'urh_i'),\n",
       " ('tcp', 'X11'),\n",
       " ('tcp', 'urp_i'),\n",
       " ('tcp', 'pm_dump'),\n",
       " ('tcp', 'tftp_u'),\n",
       " ('tcp', 'tim_i'),\n",
       " ('tcp', 'red_i'),\n",
       " ('udp', 'http'),\n",
       " ('icmp', 'http'),\n",
       " ('udp', 'smtp'),\n",
       " ('udp', 'finger'),\n",
       " ('icmp', 'smtp'),\n",
       " ('icmp', 'finger'),\n",
       " ('udp', 'domain_u'),\n",
       " ('udp', 'auth'),\n",
       " ('udp', 'telnet'),\n",
       " ('udp', 'ftp'),\n",
       " ('icmp', 'domain_u'),\n",
       " ('icmp', 'auth'),\n",
       " ('icmp', 'telnet'),\n",
       " ('icmp', 'ftp'),\n",
       " ('udp', 'eco_i'),\n",
       " ('udp', 'ntp_u'),\n",
       " ('udp', 'ecr_i'),\n",
       " ('udp', 'other'),\n",
       " ('udp', 'private'),\n",
       " ('udp', 'pop_3'),\n",
       " ('udp', 'ftp_data'),\n",
       " ('udp', 'rje'),\n",
       " ('icmp', 'eco_i'),\n",
       " ('icmp', 'ntp_u'),\n",
       " ('icmp', 'ecr_i'),\n",
       " ('icmp', 'other'),\n",
       " ('icmp', 'private'),\n",
       " ('icmp', 'pop_3'),\n",
       " ('icmp', 'ftp_data'),\n",
       " ('icmp', 'rje'),\n",
       " ('udp', 'time'),\n",
       " ('udp', 'mtp'),\n",
       " ('udp', 'link'),\n",
       " ('udp', 'remote_job'),\n",
       " ('udp', 'gopher'),\n",
       " ('udp', 'ssh'),\n",
       " ('udp', 'name'),\n",
       " ('udp', 'whois'),\n",
       " ('udp', 'domain'),\n",
       " ('udp', 'login'),\n",
       " ('udp', 'imap4'),\n",
       " ('udp', 'daytime'),\n",
       " ('udp', 'ctf'),\n",
       " ('udp', 'nntp'),\n",
       " ('udp', 'shell'),\n",
       " ('udp', 'IRC'),\n",
       " ('icmp', 'time'),\n",
       " ('icmp', 'mtp'),\n",
       " ('icmp', 'link'),\n",
       " ('icmp', 'remote_job'),\n",
       " ('icmp', 'gopher'),\n",
       " ('icmp', 'ssh'),\n",
       " ('icmp', 'name'),\n",
       " ('icmp', 'whois'),\n",
       " ('icmp', 'domain'),\n",
       " ('icmp', 'login'),\n",
       " ('icmp', 'imap4'),\n",
       " ('icmp', 'daytime'),\n",
       " ('icmp', 'ctf'),\n",
       " ('icmp', 'nntp'),\n",
       " ('icmp', 'shell'),\n",
       " ('icmp', 'IRC'),\n",
       " ('udp', 'nnsp'),\n",
       " ('udp', 'http_443'),\n",
       " ('udp', 'exec'),\n",
       " ('udp', 'printer'),\n",
       " ('udp', 'efs'),\n",
       " ('udp', 'courier'),\n",
       " ('udp', 'uucp'),\n",
       " ('udp', 'klogin'),\n",
       " ('udp', 'kshell'),\n",
       " ('udp', 'echo'),\n",
       " ('udp', 'discard'),\n",
       " ('udp', 'systat'),\n",
       " ('udp', 'supdup'),\n",
       " ('udp', 'iso_tsap'),\n",
       " ('udp', 'hostnames'),\n",
       " ('udp', 'csnet_ns'),\n",
       " ('udp', 'pop_2'),\n",
       " ('udp', 'sunrpc'),\n",
       " ('udp', 'uucp_path'),\n",
       " ('udp', 'netbios_ns'),\n",
       " ('udp', 'netbios_ssn'),\n",
       " ('udp', 'netbios_dgm'),\n",
       " ('udp', 'sql_net'),\n",
       " ('udp', 'vmnet'),\n",
       " ('udp', 'bgp'),\n",
       " ('udp', 'Z39_50'),\n",
       " ('udp', 'ldap'),\n",
       " ('udp', 'netstat'),\n",
       " ('udp', 'urh_i'),\n",
       " ('udp', 'X11'),\n",
       " ('udp', 'urp_i'),\n",
       " ('udp', 'pm_dump'),\n",
       " ('icmp', 'nnsp'),\n",
       " ('icmp', 'http_443'),\n",
       " ('icmp', 'exec'),\n",
       " ('icmp', 'printer'),\n",
       " ('icmp', 'efs'),\n",
       " ('icmp', 'courier'),\n",
       " ('icmp', 'uucp'),\n",
       " ('icmp', 'klogin'),\n",
       " ('icmp', 'kshell'),\n",
       " ('icmp', 'echo'),\n",
       " ('icmp', 'discard'),\n",
       " ('icmp', 'systat'),\n",
       " ('icmp', 'supdup'),\n",
       " ('icmp', 'iso_tsap'),\n",
       " ('icmp', 'hostnames'),\n",
       " ('icmp', 'csnet_ns'),\n",
       " ('icmp', 'pop_2'),\n",
       " ('icmp', 'sunrpc'),\n",
       " ('icmp', 'uucp_path'),\n",
       " ('icmp', 'netbios_ns'),\n",
       " ('icmp', 'netbios_ssn'),\n",
       " ('icmp', 'netbios_dgm'),\n",
       " ('icmp', 'sql_net'),\n",
       " ('icmp', 'vmnet'),\n",
       " ('icmp', 'bgp'),\n",
       " ('icmp', 'Z39_50'),\n",
       " ('icmp', 'ldap'),\n",
       " ('icmp', 'netstat'),\n",
       " ('icmp', 'urh_i'),\n",
       " ('icmp', 'X11'),\n",
       " ('icmp', 'urp_i'),\n",
       " ('icmp', 'pm_dump'),\n",
       " ('udp', 'tftp_u'),\n",
       " ('udp', 'tim_i'),\n",
       " ('udp', 'red_i'),\n",
       " ('icmp', 'tftp_u'),\n",
       " ('icmp', 'tim_i'),\n",
       " ('icmp', 'red_i')]"
      ]
     },
     "execution_count": 16,
     "metadata": {},
     "output_type": "execute_result"
    }
   ],
   "source": [
    "#13\n",
    "protocol.cartesian(service).collect()"
   ]
  },
  {
   "cell_type": "code",
   "execution_count": 17,
   "metadata": {},
   "outputs": [
    {
     "data": {
      "text/plain": [
       "1"
      ]
     },
     "execution_count": 17,
     "metadata": {},
     "output_type": "execute_result"
    }
   ],
   "source": [
    "#14\n",
    "array_RDD.getNumPartitions()"
   ]
  },
  {
   "cell_type": "code",
   "execution_count": 18,
   "metadata": {},
   "outputs": [],
   "source": [
    "#15\n",
    "#array_RDD.saveAsTextFile('kdd_cup')"
   ]
  },
  {
   "cell_type": "code",
   "execution_count": null,
   "metadata": {},
   "outputs": [],
   "source": []
  }
 ],
 "metadata": {
  "kernelspec": {
   "display_name": "Python 3",
   "language": "python",
   "name": "python3"
  },
  "language_info": {
   "codemirror_mode": {
    "name": "ipython",
    "version": 3
   },
   "file_extension": ".py",
   "mimetype": "text/x-python",
   "name": "python",
   "nbconvert_exporter": "python",
   "pygments_lexer": "ipython3",
   "version": "3.8.5"
  }
 },
 "nbformat": 4,
 "nbformat_minor": 4
}
